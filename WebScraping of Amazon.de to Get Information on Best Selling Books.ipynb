{
 "cells": [
  {
   "cell_type": "markdown",
   "metadata": {},
   "source": [
    "# WebScraping of Amazon.de to Get Information on Best Selling Books"
   ]
  },
  {
   "cell_type": "markdown",
   "metadata": {},
   "source": [
    "# Introduction\n",
    "This is a group work with 3 people from integrify.io; Saber, Marufa and Mamun. We have decided to work together on webscraping to make a project on book list from amazon website. We have searched best selling books from Amazon.de site and found 2 pages of 100 books. From those we will find out the list consists of:\n",
    "- Rank\n",
    "- Picture\n",
    "- Book Tittle\n",
    "- Ratings\n",
    "- Store Name\n",
    "- Price\n",
    "- number of reviewers\n",
    "\n",
    "# Objective:\n",
    "- To find out useful information from website\n",
    "- Make a list of useful information to make a dataframe\n",
    "- Analysis that dataframe with visualization in a simple way for audience understandable."
   ]
  },
  {
   "cell_type": "markdown",
   "metadata": {},
   "source": [
    "# Import libraries"
   ]
  },
  {
   "cell_type": "code",
   "execution_count": 1,
   "metadata": {
    "ExecuteTime": {
     "end_time": "2021-06-29T11:56:03.012627Z",
     "start_time": "2021-06-29T11:56:01.616918Z"
    }
   },
   "outputs": [
    {
     "name": "stderr",
     "output_type": "stream",
     "text": [
      "/home/saber/anaconda3/lib/python3.8/site-packages/google/colab/data_table.py:30: UserWarning:\n",
      "\n",
      "IPython.utils.traitlets has moved to a top-level traitlets package.\n",
      "\n"
     ]
    },
    {
     "data": {
      "text/html": [
       "        <script type=\"text/javascript\">\n",
       "        window.PlotlyConfig = {MathJaxConfig: 'local'};\n",
       "        if (window.MathJax) {MathJax.Hub.Config({SVG: {font: \"STIX-Web\"}});}\n",
       "        if (typeof require !== 'undefined') {\n",
       "        require.undef(\"plotly\");\n",
       "        requirejs.config({\n",
       "            paths: {\n",
       "                'plotly': ['https://cdn.plot.ly/plotly-latest.min']\n",
       "            }\n",
       "        });\n",
       "        require(['plotly'], function(Plotly) {\n",
       "            window._Plotly = Plotly;\n",
       "        });\n",
       "        }\n",
       "        </script>\n",
       "        "
      ]
     },
     "metadata": {},
     "output_type": "display_data"
    }
   ],
   "source": [
    "import requests\n",
    "import pandas as pd\n",
    "import numpy as np\n",
    "import matplotlib.pyplot as plt\n",
    "import plotly.express as px\n",
    "import cufflinks as cf\n",
    "import seaborn as sns\n",
    "cf.go_offline()\n",
    "from plotly.offline import iplot\n",
    "from bs4 import BeautifulSoup\n",
    "from IPython.core.display import display, HTML"
   ]
  },
  {
   "cell_type": "markdown",
   "metadata": {},
   "source": [
    "# Load data from website defining a function with page number "
   ]
  },
  {
   "cell_type": "code",
   "execution_count": 2,
   "metadata": {
    "ExecuteTime": {
     "end_time": "2021-06-29T11:56:06.686883Z",
     "start_time": "2021-06-29T11:56:06.622466Z"
    }
   },
   "outputs": [],
   "source": [
    "def get_data(page_no):\n",
    "    #will fecth the data from the website and get data content using BeautifullSoup Library\n",
    "    url = \"https://www.amazon.de/gp/bestsellers/books/ref=zg_bs_pg_\"+str(page_no)+\"?ie=UTF8&pg=\"+str(page_no)\n",
    "    print(f\"{url} --> Done\")\n",
    "    header = {'User-Agent':'Mozilla/5.0 (X11; Linux x86_64) AppleWebKit/537.36 (KHTML, like Gecko) Chrome/79.0.3914.0 Safari/537.36'}\n",
    "    source = requests.get(url,header)\n",
    "    soup = BeautifulSoup(source.text,'html.parser')\n",
    "    return soup\n",
    "\n",
    "def df_maker(soup):\n",
    "    #creating the dataframe\n",
    "    rank = []\n",
    "    picture = []\n",
    "    name = []\n",
    "    ratings = []\n",
    "    store_name = []\n",
    "    price = []\n",
    "    number_of_reviewers = []\n",
    "\n",
    "    for i in soup.select(\".zg-item-immersion\"):\n",
    "        rank.append(i.find(\"span\").select(\".zg-badge-text\")[0].text)\n",
    "        picture.append(i.find('img')['src'])\n",
    "        name.append(i.find('div').select(\".p13n-sc-truncate\")[0].text.replace('\\n','').strip())\n",
    "        try:\n",
    "            ratings.append(i.find('i').text.replace('von','of').replace('Sternen','Star').replace(',','.'))\n",
    "            number_of_reviewers.append(i.select('.a-size-small.a-link-normal')[0].text)\n",
    "        except:\n",
    "            ratings.append('None')\n",
    "            number_of_reviewers.append(0)\n",
    "        store_name.append(i.find('span').select('.a-color-secondary')[0].text)\n",
    "        price.append(i.find('span').select('.a-color-price')[0].text.replace('\\xa0€','').replace(',','.'))\n",
    "        \n",
    "    data = {\n",
    "    'Rank':rank,\n",
    "    'Picture':picture,\n",
    "    'Book Title':name,\n",
    "    'Ratings':ratings,\n",
    "    'Store Name':store_name,\n",
    "    'Price':price,\n",
    "    'Number of Reviewers': number_of_reviewers\n",
    "    }\n",
    "    return pd.DataFrame(data)"
   ]
  },
  {
   "cell_type": "code",
   "execution_count": 15,
   "metadata": {
    "ExecuteTime": {
     "end_time": "2021-06-29T11:56:53.286919Z",
     "start_time": "2021-06-29T11:56:49.933605Z"
    }
   },
   "outputs": [
    {
     "name": "stdout",
     "output_type": "stream",
     "text": [
      "https://www.amazon.de/gp/bestsellers/books/ref=zg_bs_pg_1?ie=UTF8&pg=1 --> Done\n",
      "https://www.amazon.de/gp/bestsellers/books/ref=zg_bs_pg_2?ie=UTF8&pg=2 --> Done\n"
     ]
    }
   ],
   "source": [
    "page_1_soup = get_data(1)\n",
    "page_2_soup = get_data(2)"
   ]
  },
  {
   "cell_type": "code",
   "execution_count": 16,
   "metadata": {
    "ExecuteTime": {
     "end_time": "2021-06-29T11:56:55.321593Z",
     "start_time": "2021-06-29T11:56:55.011988Z"
    }
   },
   "outputs": [],
   "source": [
    "# creating the final dataframe\n",
    "page_1_df = df_maker(page_1_soup)\n",
    "page_2_df = df_maker(page_2_soup)\n",
    "df = pd.concat([page_1_df,page_2_df])\n",
    "df = df.reset_index()\n",
    "df.drop(columns='index',inplace=True)\n",
    "df['Numeric Ratings'] = [0 if (i =='None') else float(i[:3])for i in df['Ratings']]\n",
    "df['Price'] = df['Price'].astype(float)\n",
    "df['Number of Reviewers'] = df['Number of Reviewers'].astype(float)\n",
    "df['Picture'] = ['<img src=\"'+ str(x) + '\" width=\"50\" >' for x in df['Picture']]"
   ]
  },
  {
   "cell_type": "code",
   "execution_count": 17,
   "metadata": {
    "ExecuteTime": {
     "end_time": "2021-06-29T11:56:56.524956Z",
     "start_time": "2021-06-29T11:56:56.451770Z"
    },
    "scrolled": true
   },
   "outputs": [
    {
     "data": {
      "text/html": [
       "<table border=\"1\" class=\"dataframe\">\n",
       "  <thead>\n",
       "    <tr style=\"text-align: right;\">\n",
       "      <th></th>\n",
       "      <th>Rank</th>\n",
       "      <th>Picture</th>\n",
       "      <th>Book Title</th>\n",
       "      <th>Ratings</th>\n",
       "      <th>Store Name</th>\n",
       "      <th>Price</th>\n",
       "      <th>Number of Reviewers</th>\n",
       "      <th>Numeric Ratings</th>\n",
       "    </tr>\n",
       "  </thead>\n",
       "  <tbody>\n",
       "    <tr>\n",
       "      <th>0</th>\n",
       "      <td>#1</td>\n",
       "      <td><img src=\"https://images-eu.ssl-images-amazon.com/images/I/71NM6wnzd1S._AC_UL200_SR200,200_.jpg\" width=\"50\" ></td>\n",
       "      <td>Pfoten vom Tisch!: Meine Katzen, andere Katzen und ich</td>\n",
       "      <td>None</td>\n",
       "      <td>Gebundene Ausgabe</td>\n",
       "      <td>22.00</td>\n",
       "      <td>0.000</td>\n",
       "      <td>0.0</td>\n",
       "    </tr>\n",
       "    <tr>\n",
       "      <th>1</th>\n",
       "      <td>#2</td>\n",
       "      <td><img src=\"https://images-eu.ssl-images-amazon.com/images/I/81IfLQBl4sS._AC_UL200_SR200,200_.jpg\" width=\"50\" ></td>\n",
       "      <td>Geh schon mal in dich, das Glück kommt dann nach: Wie du deine innere Schönheit entdeckst und dabei nach außen strahlen kannst - Selbstzweifel für immer loswerden</td>\n",
       "      <td>None</td>\n",
       "      <td>Taschenbuch</td>\n",
       "      <td>9.99</td>\n",
       "      <td>0.000</td>\n",
       "      <td>0.0</td>\n",
       "    </tr>\n",
       "    <tr>\n",
       "      <th>2</th>\n",
       "      <td>#3</td>\n",
       "      <td><img src=\"https://images-eu.ssl-images-amazon.com/images/I/7170BuM8RBL._AC_UL200_SR200,200_.jpg\" width=\"50\" ></td>\n",
       "      <td>Ein Eimer Farbe für dein Leben: 24/7 mit twenty4tim - DIYs, Challenges, Storytimes & Co.</td>\n",
       "      <td>4.7 of 5 Star</td>\n",
       "      <td>Taschenbuch</td>\n",
       "      <td>15.00</td>\n",
       "      <td>101.000</td>\n",
       "      <td>4.7</td>\n",
       "    </tr>\n",
       "    <tr>\n",
       "      <th>3</th>\n",
       "      <td>#4</td>\n",
       "      <td><img src=\"https://images-eu.ssl-images-amazon.com/images/I/81WhIzPd1zS._AC_UL200_SR200,200_.jpg\" width=\"50\" ></td>\n",
       "      <td>Bretonische Idylle: Kommissar Dupins zehnter Fall (Kommissar Dupin ermittelt, Band 10)</td>\n",
       "      <td>4.4 of 5 Star</td>\n",
       "      <td>Broschiert</td>\n",
       "      <td>16.00</td>\n",
       "      <td>393.000</td>\n",
       "      <td>4.4</td>\n",
       "    </tr>\n",
       "    <tr>\n",
       "      <th>4</th>\n",
       "      <td>#5</td>\n",
       "      <td><img src=\"https://images-eu.ssl-images-amazon.com/images/I/81zJOqURtqS._AC_UL200_SR200,200_.jpg\" width=\"50\" ></td>\n",
       "      <td>Falsche Pandemien: Argumente gegen die Herrschaft der Angst</td>\n",
       "      <td>4.6 of 5 Star</td>\n",
       "      <td>Broschiert</td>\n",
       "      <td>20.00</td>\n",
       "      <td>151.000</td>\n",
       "      <td>4.6</td>\n",
       "    </tr>\n",
       "    <tr>\n",
       "      <th>5</th>\n",
       "      <td>#6</td>\n",
       "      <td><img src=\"https://images-eu.ssl-images-amazon.com/images/I/91r4uIYku9S._AC_UL200_SR200,200_.jpg\" width=\"50\" ></td>\n",
       "      <td>Das Café am Rande der Welt: eine Erzählung über den Sinn des Lebens</td>\n",
       "      <td>4.5 of 5 Star</td>\n",
       "      <td>Taschenbuch</td>\n",
       "      <td>8.95</td>\n",
       "      <td>12.032</td>\n",
       "      <td>4.5</td>\n",
       "    </tr>\n",
       "    <tr>\n",
       "      <th>6</th>\n",
       "      <td>#7</td>\n",
       "      <td><img src=\"https://images-eu.ssl-images-amazon.com/images/I/819KjDfz57L._AC_UL200_SR200,200_.jpg\" width=\"50\" ></td>\n",
       "      <td>Das Kind in dir muss Heimat finden: Der Schlüssel zur Lösung (fast) aller Probleme</td>\n",
       "      <td>4.7 of 5 Star</td>\n",
       "      <td>Broschiert</td>\n",
       "      <td>14.99</td>\n",
       "      <td>8.595</td>\n",
       "      <td>4.7</td>\n",
       "    </tr>\n",
       "    <tr>\n",
       "      <th>7</th>\n",
       "      <td>#8</td>\n",
       "      <td><img src=\"https://images-eu.ssl-images-amazon.com/images/I/91TuyZ0h5wS._AC_UL200_SR200,200_.jpg\" width=\"50\" ></td>\n",
       "      <td>Die verschwundene Schwester: Roman (Die sieben Schwestern, Band 7)</td>\n",
       "      <td>4.4 of 5 Star</td>\n",
       "      <td>Gebundene Ausgabe</td>\n",
       "      <td>22.00</td>\n",
       "      <td>3.633</td>\n",
       "      <td>4.4</td>\n",
       "    </tr>\n",
       "    <tr>\n",
       "      <th>8</th>\n",
       "      <td>#9</td>\n",
       "      <td><img src=\"https://images-eu.ssl-images-amazon.com/images/I/815rynvAjQS._AC_UL200_SR200,200_.jpg\" width=\"50\" ></td>\n",
       "      <td>Die Selbstgerechten: Mein Gegenprogramm - für Gemeinsinn und Zusammenhalt</td>\n",
       "      <td>4.7 of 5 Star</td>\n",
       "      <td>Gebundene Ausgabe</td>\n",
       "      <td>24.95</td>\n",
       "      <td>727.000</td>\n",
       "      <td>4.7</td>\n",
       "    </tr>\n",
       "    <tr>\n",
       "      <th>9</th>\n",
       "      <td>#10</td>\n",
       "      <td><img src=\"https://images-eu.ssl-images-amazon.com/images/I/81NW2kmFttS._AC_UL200_SR200,200_.jpg\" width=\"50\" ></td>\n",
       "      <td>Energy!: Der gesunde Weg aus dem Müdigkeitslabyrinth, Mit 30-Tage-Selbsthilfeprogramm</td>\n",
       "      <td>4.6 of 5 Star</td>\n",
       "      <td>Gebundene Ausgabe</td>\n",
       "      <td>25.00</td>\n",
       "      <td>493.000</td>\n",
       "      <td>4.6</td>\n",
       "    </tr>\n",
       "    <tr>\n",
       "      <th>10</th>\n",
       "      <td>#11</td>\n",
       "      <td><img src=\"https://images-eu.ssl-images-amazon.com/images/I/71QSeTzsJtL._AC_UL200_SR200,200_.jpg\" width=\"50\" ></td>\n",
       "      <td>Der Buchspazierer: Roman | Ein berührender Bestseller, für alle, die Bücher lieben</td>\n",
       "      <td>4.5 of 5 Star</td>\n",
       "      <td>Gebundene Ausgabe</td>\n",
       "      <td>14.00</td>\n",
       "      <td>1.298</td>\n",
       "      <td>4.5</td>\n",
       "    </tr>\n",
       "    <tr>\n",
       "      <th>11</th>\n",
       "      <td>#12</td>\n",
       "      <td><img src=\"https://images-eu.ssl-images-amazon.com/images/I/61sgOkrjblS._AC_UL200_SR200,200_.jpg\" width=\"50\" ></td>\n",
       "      <td>Rich Dad Poor Dad: Was die Reichen ihren Kindern über Geld beibringen</td>\n",
       "      <td>4.6 of 5 Star</td>\n",
       "      <td>Taschenbuch</td>\n",
       "      <td>14.99</td>\n",
       "      <td>3.909</td>\n",
       "      <td>4.6</td>\n",
       "    </tr>\n",
       "    <tr>\n",
       "      <th>12</th>\n",
       "      <td>#13</td>\n",
       "      <td><img src=\"https://images-eu.ssl-images-amazon.com/images/I/717%2B%2BPpOktS._AC_UL200_SR200,200_.jpg\" width=\"50\" ></td>\n",
       "      <td>Über Menschen: Roman</td>\n",
       "      <td>4.5 of 5 Star</td>\n",
       "      <td>Gebundene Ausgabe</td>\n",
       "      <td>22.00</td>\n",
       "      <td>1.393</td>\n",
       "      <td>4.5</td>\n",
       "    </tr>\n",
       "    <tr>\n",
       "      <th>13</th>\n",
       "      <td>#14</td>\n",
       "      <td><img src=\"https://images-eu.ssl-images-amazon.com/images/I/81frtfkPgbS._AC_UL200_SR200,200_.jpg\" width=\"50\" ></td>\n",
       "      <td>food with love: Sweet Love & Happiness: Süße Lieblinge aus dem Thermomix®</td>\n",
       "      <td>None</td>\n",
       "      <td>Gebundene Ausgabe</td>\n",
       "      <td>24.99</td>\n",
       "      <td>0.000</td>\n",
       "      <td>0.0</td>\n",
       "    </tr>\n",
       "    <tr>\n",
       "      <th>14</th>\n",
       "      <td>#15</td>\n",
       "      <td><img src=\"https://images-eu.ssl-images-amazon.com/images/I/71pz0-PYjWS._AC_UL200_SR200,200_.jpg\" width=\"50\" ></td>\n",
       "      <td>Der erste letzte Tag: Kein Thriller</td>\n",
       "      <td>4.4 of 5 Star</td>\n",
       "      <td>Taschenbuch</td>\n",
       "      <td>16.00</td>\n",
       "      <td>2.759</td>\n",
       "      <td>4.4</td>\n",
       "    </tr>\n",
       "    <tr>\n",
       "      <th>15</th>\n",
       "      <td>#16</td>\n",
       "      <td><img src=\"https://images-eu.ssl-images-amazon.com/images/I/51-ZJWh0%2BIL._AC_UL200_SR200,200_.jpg\" width=\"50\" ></td>\n",
       "      <td>Seawalkers (5). Filmstars unter Wasser: Ein neues Abenteuer der Bestseller-Reihe über Hai-Wandler Tiago und die Schüler der Gestaltwandlerschule</td>\n",
       "      <td>4.6 of 5 Star</td>\n",
       "      <td>Gebundene Ausgabe</td>\n",
       "      <td>14.00</td>\n",
       "      <td>72.000</td>\n",
       "      <td>4.6</td>\n",
       "    </tr>\n",
       "    <tr>\n",
       "      <th>16</th>\n",
       "      <td>#17</td>\n",
       "      <td><img src=\"https://images-eu.ssl-images-amazon.com/images/I/81k%2BSy4ONSL._AC_UL200_SR200,200_.jpg\" width=\"50\" ></td>\n",
       "      <td>Die Schule der magischen Tiere – Endlich Ferien 6: Hatice und Mette-Maja (6)</td>\n",
       "      <td>4.9 of 5 Star</td>\n",
       "      <td>Gebundene Ausgabe</td>\n",
       "      <td>12.00</td>\n",
       "      <td>124.000</td>\n",
       "      <td>4.9</td>\n",
       "    </tr>\n",
       "    <tr>\n",
       "      <th>17</th>\n",
       "      <td>#18</td>\n",
       "      <td><img src=\"https://images-eu.ssl-images-amazon.com/images/I/71YZkX0FDcL._AC_UL200_SR200,200_.jpg\" width=\"50\" ></td>\n",
       "      <td>Vielleicht - Eine Geschichte über die unendlich vielen Begabungen in jedem von uns: Das besondere Kinderbuch (Geschenkbuch Mädchen und Jungen)</td>\n",
       "      <td>4.7 of 5 Star</td>\n",
       "      <td>Gebundene Ausgabe</td>\n",
       "      <td>12.95</td>\n",
       "      <td>8.137</td>\n",
       "      <td>4.7</td>\n",
       "    </tr>\n",
       "    <tr>\n",
       "      <th>18</th>\n",
       "      <td>#19</td>\n",
       "      <td><img src=\"https://images-eu.ssl-images-amazon.com/images/I/61%2BxnlnATAL._AC_UL200_SR200,200_.jpg\" width=\"50\" ></td>\n",
       "      <td>Hensslers schnelle Nummer: 100 neue Rezepte zum Erfolgsformat (Gräfe und Unzer Einzeltitel)</td>\n",
       "      <td>4.7 of 5 Star</td>\n",
       "      <td>Gebundene Ausgabe</td>\n",
       "      <td>24.00</td>\n",
       "      <td>2.750</td>\n",
       "      <td>4.7</td>\n",
       "    </tr>\n",
       "    <tr>\n",
       "      <th>19</th>\n",
       "      <td>#20</td>\n",
       "      <td><img src=\"https://images-eu.ssl-images-amazon.com/images/I/81JI69cAAWL._AC_UL200_SR200,200_.jpg\" width=\"50\" ></td>\n",
       "      <td>Das NEINhorn</td>\n",
       "      <td>4.8 of 5 Star</td>\n",
       "      <td>Gebundene Ausgabe</td>\n",
       "      <td>13.00</td>\n",
       "      <td>10.483</td>\n",
       "      <td>4.8</td>\n",
       "    </tr>\n",
       "    <tr>\n",
       "      <th>20</th>\n",
       "      <td>#21</td>\n",
       "      <td><img src=\"https://images-eu.ssl-images-amazon.com/images/I/91%2BvR4ULhMS._AC_UL200_SR200,200_.jpg\" width=\"50\" ></td>\n",
       "      <td>Madame le Commissaire und die panische Diva: Ein Provence-Krimi (Ein Fall für Isabelle Bonnet, Band 8)</td>\n",
       "      <td>4.1 of 5 Star</td>\n",
       "      <td>Taschenbuch</td>\n",
       "      <td>10.99</td>\n",
       "      <td>664.000</td>\n",
       "      <td>4.1</td>\n",
       "    </tr>\n",
       "    <tr>\n",
       "      <th>21</th>\n",
       "      <td>#22</td>\n",
       "      <td><img src=\"https://images-eu.ssl-images-amazon.com/images/I/71kHT4xWyKL._AC_UL200_SR200,200_.jpg\" width=\"50\" ></td>\n",
       "      <td>Achtsam morden: Roman (Achtsam morden-Reihe, Band 1)</td>\n",
       "      <td>4.5 of 5 Star</td>\n",
       "      <td>Taschenbuch</td>\n",
       "      <td>10.99</td>\n",
       "      <td>8.250</td>\n",
       "      <td>4.5</td>\n",
       "    </tr>\n",
       "    <tr>\n",
       "      <th>22</th>\n",
       "      <td>#23</td>\n",
       "      <td><img src=\"https://images-eu.ssl-images-amazon.com/images/I/71Fy7CDB7UL._AC_UL200_SR200,200_.jpg\" width=\"50\" ></td>\n",
       "      <td>Weber's Gasgrillbibel (GU Weber's Grillen)</td>\n",
       "      <td>4.8 of 5 Star</td>\n",
       "      <td>Gebundene Ausgabe</td>\n",
       "      <td>29.99</td>\n",
       "      <td>808.000</td>\n",
       "      <td>4.8</td>\n",
       "    </tr>\n",
       "    <tr>\n",
       "      <th>23</th>\n",
       "      <td>#24</td>\n",
       "      <td><img src=\"https://images-eu.ssl-images-amazon.com/images/I/719Qby4VhIL._AC_UL200_SR200,200_.jpg\" width=\"50\" ></td>\n",
       "      <td>Bürgerliches Gesetzbuch: mit Allgemeinem Gleichbehandlungsgesetz, Produkthaftungsgesetz, Unterlassungsklagengesetz, Wohnungseigentumsgesetz, ... und Erbbaurechtsgesetz (Beck-Texte im dtv)</td>\n",
       "      <td>4.6 of 5 Star</td>\n",
       "      <td>Taschenbuch</td>\n",
       "      <td>5.90</td>\n",
       "      <td>457.000</td>\n",
       "      <td>4.6</td>\n",
       "    </tr>\n",
       "    <tr>\n",
       "      <th>24</th>\n",
       "      <td>#25</td>\n",
       "      <td><img src=\"https://images-eu.ssl-images-amazon.com/images/I/71wIkRnsxcL._AC_UL200_SR200,200_.jpg\" width=\"50\" ></td>\n",
       "      <td>Sauerländer BBCrew Dutch Oven: Rezepte, Tipps und heiße Kohlen</td>\n",
       "      <td>4.7 of 5 Star</td>\n",
       "      <td>Gebundene Ausgabe</td>\n",
       "      <td>9.99</td>\n",
       "      <td>6.750</td>\n",
       "      <td>4.7</td>\n",
       "    </tr>\n",
       "    <tr>\n",
       "      <th>25</th>\n",
       "      <td>#26</td>\n",
       "      <td><img src=\"https://images-eu.ssl-images-amazon.com/images/I/71wH%2BxPBwgS._AC_UL200_SR200,200_.jpg\" width=\"50\" ></td>\n",
       "      <td>Der Donnerstagsmordclub: Kriminalroman | Der Millionenerfolg aus England (Die Mordclub-Serie, Band 1)</td>\n",
       "      <td>4.3 of 5 Star</td>\n",
       "      <td>Broschiert</td>\n",
       "      <td>15.99</td>\n",
       "      <td>386.000</td>\n",
       "      <td>4.3</td>\n",
       "    </tr>\n",
       "    <tr>\n",
       "      <th>26</th>\n",
       "      <td>#27</td>\n",
       "      <td><img src=\"https://images-eu.ssl-images-amazon.com/images/I/71FOYv61tjS._AC_UL200_SR200,200_.jpg\" width=\"50\" ></td>\n",
       "      <td>Freed - Fifty Shades of Grey. Befreite Lust von Christian selbst erzählt: Roman (Fifty Shades of Grey aus Christians Sicht erzählt, Band 3)</td>\n",
       "      <td>4.7 of 5 Star</td>\n",
       "      <td>Broschiert</td>\n",
       "      <td>15.00</td>\n",
       "      <td>630.000</td>\n",
       "      <td>4.7</td>\n",
       "    </tr>\n",
       "    <tr>\n",
       "      <th>27</th>\n",
       "      <td>#28</td>\n",
       "      <td><img src=\"https://images-eu.ssl-images-amazon.com/images/I/41lP-U8vqaL._AC_UL200_SR200,200_.jpg\" width=\"50\" ></td>\n",
       "      <td>Diercke Weltatlas - Aktuelle Ausgabe</td>\n",
       "      <td>4.8 of 5 Star</td>\n",
       "      <td>Gebundene Ausgabe</td>\n",
       "      <td>34.95</td>\n",
       "      <td>2.292</td>\n",
       "      <td>4.8</td>\n",
       "    </tr>\n",
       "    <tr>\n",
       "      <th>28</th>\n",
       "      <td>#29</td>\n",
       "      <td><img src=\"https://images-eu.ssl-images-amazon.com/images/I/51340HIM%2BrL._AC_UL200_SR200,200_.jpg\" width=\"50\" ></td>\n",
       "      <td>Finde dich gut, sonst findet dich keiner: Wie du lernst, dich selbst zu lieben, und dabei unwiderstehlich wirst</td>\n",
       "      <td>4.5 of 5 Star</td>\n",
       "      <td>Taschenbuch</td>\n",
       "      <td>8.99</td>\n",
       "      <td>547.000</td>\n",
       "      <td>4.5</td>\n",
       "    </tr>\n",
       "    <tr>\n",
       "      <th>29</th>\n",
       "      <td>#30</td>\n",
       "      <td><img src=\"https://images-eu.ssl-images-amazon.com/images/I/81bxtLsGzRL._AC_UL200_SR200,200_.jpg\" width=\"50\" ></td>\n",
       "      <td>Schüttel den Apfelbaum - Ein Mitmachbuch. Für Kinder von 2 bis 4 Jahren: Zum Schütteln, Schaukeln, Pusten , Klopfen und Sehen, was dann passiert</td>\n",
       "      <td>4.7 of 5 Star</td>\n",
       "      <td>Gebundene Ausgabe</td>\n",
       "      <td>8.99</td>\n",
       "      <td>5.023</td>\n",
       "      <td>4.7</td>\n",
       "    </tr>\n",
       "    <tr>\n",
       "      <th>30</th>\n",
       "      <td>#31</td>\n",
       "      <td><img src=\"https://images-eu.ssl-images-amazon.com/images/I/71DK%2BDpmiEL._AC_UL200_SR200,200_.jpg\" width=\"50\" ></td>\n",
       "      <td>Arbeitsgesetze: mit den wichtigsten Bestimmungen zum Arbeitsverhältnis, Kündigungsrecht, Arbeitsschutzrecht, Berufsbildungsrecht, Tarifrecht, Betriebsverfassungsrecht (Beck-Texte im dtv)</td>\n",
       "      <td>4.7 of 5 Star</td>\n",
       "      <td>Taschenbuch</td>\n",
       "      <td>11.90</td>\n",
       "      <td>308.000</td>\n",
       "      <td>4.7</td>\n",
       "    </tr>\n",
       "    <tr>\n",
       "      <th>31</th>\n",
       "      <td>#32</td>\n",
       "      <td><img src=\"https://images-eu.ssl-images-amazon.com/images/I/71hdmNFN7bL._AC_UL200_SR200,200_.jpg\" width=\"50\" ></td>\n",
       "      <td>Mein großes Buch der Tiergeräusche: Mit über 50 Sounds | Hochwertiges Soundbuch mit realistischen Sounds für Kinder ab 24 Monaten</td>\n",
       "      <td>4.4 of 5 Star</td>\n",
       "      <td>Gebundene Ausgabe</td>\n",
       "      <td>16.99</td>\n",
       "      <td>4.305</td>\n",
       "      <td>4.4</td>\n",
       "    </tr>\n",
       "    <tr>\n",
       "      <th>32</th>\n",
       "      <td>#33</td>\n",
       "      <td><img src=\"https://images-eu.ssl-images-amazon.com/images/I/5113Y%2Bo%2BrGL._AC_UL200_SR200,200_.jpg\" width=\"50\" ></td>\n",
       "      <td>Mein erster Schultag - Mädchen: Eintragbuch zur Einschulung für Mädchen - Erinnerungsbuch zum Schulstart - Geschenke für die Schultüte (Eintragbücher)</td>\n",
       "      <td>4.8 of 5 Star</td>\n",
       "      <td>Gebundene Ausgabe</td>\n",
       "      <td>6.95</td>\n",
       "      <td>2.661</td>\n",
       "      <td>4.8</td>\n",
       "    </tr>\n",
       "    <tr>\n",
       "      <th>33</th>\n",
       "      <td>#34</td>\n",
       "      <td><img src=\"https://images-eu.ssl-images-amazon.com/images/I/817rm4fnv5S._AC_UL200_SR200,200_.jpg\" width=\"50\" ></td>\n",
       "      <td>Träumen lohnt sich. Mein etwas anderer Weg zum Fußballprofi: Mein etwas anderer Weg zum Fußballprofi (SPIEGEL-Bestseller)</td>\n",
       "      <td>4.8 of 5 Star</td>\n",
       "      <td>Broschiert</td>\n",
       "      <td>19.95</td>\n",
       "      <td>193.000</td>\n",
       "      <td>4.8</td>\n",
       "    </tr>\n",
       "    <tr>\n",
       "      <th>34</th>\n",
       "      <td>#35</td>\n",
       "      <td><img src=\"https://images-eu.ssl-images-amazon.com/images/I/81jBjjus0ML._AC_UL200_SR200,200_.jpg\" width=\"50\" ></td>\n",
       "      <td>Der Gesang der Flusskrebse: Roman - Der Nummer 1 Bestseller jetzt im Taschenbuch - “Zauberhaft schön” Der Spiegel</td>\n",
       "      <td>4.6 of 5 Star</td>\n",
       "      <td>Taschenbuch</td>\n",
       "      <td>11.99</td>\n",
       "      <td>7.534</td>\n",
       "      <td>4.6</td>\n",
       "    </tr>\n",
       "    <tr>\n",
       "      <th>35</th>\n",
       "      <td>#36</td>\n",
       "      <td><img src=\"https://images-eu.ssl-images-amazon.com/images/I/51mDBpV55eL._AC_UL200_SR200,200_.jpg\" width=\"50\" ></td>\n",
       "      <td>Rechtschreiben 3: Das Selbstlernheft</td>\n",
       "      <td>4.8 of 5 Star</td>\n",
       "      <td>Taschenbuch</td>\n",
       "      <td>7.20</td>\n",
       "      <td>2.349</td>\n",
       "      <td>4.8</td>\n",
       "    </tr>\n",
       "    <tr>\n",
       "      <th>36</th>\n",
       "      <td>#37</td>\n",
       "      <td><img src=\"https://images-eu.ssl-images-amazon.com/images/I/81iqzAAnERS._AC_UL200_SR200,200_.jpg\" width=\"50\" ></td>\n",
       "      <td>Woman on Fire: Alles über die fabelhaften Wechseljahre</td>\n",
       "      <td>4.6 of 5 Star</td>\n",
       "      <td>Broschiert</td>\n",
       "      <td>16.00</td>\n",
       "      <td>1.227</td>\n",
       "      <td>4.6</td>\n",
       "    </tr>\n",
       "    <tr>\n",
       "      <th>37</th>\n",
       "      <td>#38</td>\n",
       "      <td><img src=\"https://images-eu.ssl-images-amazon.com/images/I/51-tUX4kerS._AC_UL200_SR200,200_.jpg\" width=\"50\" ></td>\n",
       "      <td>Lustige Mal- und Denkspiele: Mein bunter Lern- und Übungsblock Kindergarten</td>\n",
       "      <td>4.7 of 5 Star</td>\n",
       "      <td>Taschenbuch</td>\n",
       "      <td>3.99</td>\n",
       "      <td>5.133</td>\n",
       "      <td>4.7</td>\n",
       "    </tr>\n",
       "    <tr>\n",
       "      <th>38</th>\n",
       "      <td>#39</td>\n",
       "      <td><img src=\"https://images-eu.ssl-images-amazon.com/images/I/71la8e-JSVS._AC_UL200_SR200,200_.jpg\" width=\"50\" ></td>\n",
       "      <td>Medical Cuisine: Die Neuerfindung der gesunden Küche (Gräfe und Unzer Einzeltitel)</td>\n",
       "      <td>4.3 of 5 Star</td>\n",
       "      <td>Gebundene Ausgabe</td>\n",
       "      <td>26.00</td>\n",
       "      <td>37.000</td>\n",
       "      <td>4.3</td>\n",
       "    </tr>\n",
       "    <tr>\n",
       "      <th>39</th>\n",
       "      <td>#40</td>\n",
       "      <td><img src=\"https://images-eu.ssl-images-amazon.com/images/I/71ocUi3ug8L._AC_UL200_SR200,200_.jpg\" width=\"50\" ></td>\n",
       "      <td>Weil du ein magisches Mädchen bist: Inspirierende Geschichten über starke, wundervolle Mädchen, wie auch du eines bist</td>\n",
       "      <td>4.6 of 5 Star</td>\n",
       "      <td>Taschenbuch</td>\n",
       "      <td>12.95</td>\n",
       "      <td>101.000</td>\n",
       "      <td>4.6</td>\n",
       "    </tr>\n",
       "    <tr>\n",
       "      <th>40</th>\n",
       "      <td>#41</td>\n",
       "      <td><img src=\"https://images-eu.ssl-images-amazon.com/images/I/71vcNPw950S._AC_UL200_SR200,200_.jpg\" width=\"50\" ></td>\n",
       "      <td>Dutch Oven: Neue Rezepte von der Sauerländer BBCrew</td>\n",
       "      <td>4.9 of 5 Star</td>\n",
       "      <td>Gebundene Ausgabe</td>\n",
       "      <td>9.99</td>\n",
       "      <td>47.000</td>\n",
       "      <td>4.9</td>\n",
       "    </tr>\n",
       "    <tr>\n",
       "      <th>41</th>\n",
       "      <td>#42</td>\n",
       "      <td><img src=\"https://images-eu.ssl-images-amazon.com/images/I/81fsv1zxpqL._AC_UL200_SR200,200_.jpg\" width=\"50\" ></td>\n",
       "      <td>Chainsaw Man 01</td>\n",
       "      <td>4.9 of 5 Star</td>\n",
       "      <td>Taschenbuch</td>\n",
       "      <td>7.00</td>\n",
       "      <td>301.000</td>\n",
       "      <td>4.9</td>\n",
       "    </tr>\n",
       "    <tr>\n",
       "      <th>42</th>\n",
       "      <td>#43</td>\n",
       "      <td><img src=\"https://images-eu.ssl-images-amazon.com/images/I/71uwjER74AS._AC_UL200_SR200,200_.jpg\" width=\"50\" ></td>\n",
       "      <td>Besser fühlen: Eine Reise zur Gelassenheit</td>\n",
       "      <td>4.7 of 5 Star</td>\n",
       "      <td>Broschiert</td>\n",
       "      <td>16.00</td>\n",
       "      <td>133.000</td>\n",
       "      <td>4.7</td>\n",
       "    </tr>\n",
       "    <tr>\n",
       "      <th>43</th>\n",
       "      <td>#44</td>\n",
       "      <td><img src=\"https://images-eu.ssl-images-amazon.com/images/I/518uR4NEWHL._AC_UL200_SR200,200_.jpg\" width=\"50\" ></td>\n",
       "      <td>100 Dinge, die ein Junge wissen muss</td>\n",
       "      <td>4.7 of 5 Star</td>\n",
       "      <td>Gebundene Ausgabe</td>\n",
       "      <td>4.99</td>\n",
       "      <td>3.248</td>\n",
       "      <td>4.7</td>\n",
       "    </tr>\n",
       "    <tr>\n",
       "      <th>44</th>\n",
       "      <td>#45</td>\n",
       "      <td><img src=\"https://images-eu.ssl-images-amazon.com/images/I/91S-BxA9-%2BL._AC_UL200_SR200,200_.jpg\" width=\"50\" ></td>\n",
       "      <td>Meine Real Life Story: und die Sache mit Gott</td>\n",
       "      <td>4.7 of 5 Star</td>\n",
       "      <td>Gebundene Ausgabe</td>\n",
       "      <td>18.00</td>\n",
       "      <td>348.000</td>\n",
       "      <td>4.7</td>\n",
       "    </tr>\n",
       "    <tr>\n",
       "      <th>45</th>\n",
       "      <td>#46</td>\n",
       "      <td><img src=\"https://images-eu.ssl-images-amazon.com/images/I/815TTLvJUFL._AC_UL200_SR200,200_.jpg\" width=\"50\" ></td>\n",
       "      <td>They Both Die at the End: The international No.1 bestseller!</td>\n",
       "      <td>4.7 of 5 Star</td>\n",
       "      <td>Taschenbuch</td>\n",
       "      <td>7.98</td>\n",
       "      <td>13.424</td>\n",
       "      <td>4.7</td>\n",
       "    </tr>\n",
       "    <tr>\n",
       "      <th>46</th>\n",
       "      <td>#47</td>\n",
       "      <td><img src=\"https://images-eu.ssl-images-amazon.com/images/I/41bzdblWBaL._AC_UL200_SR200,200_.jpg\" width=\"50\" ></td>\n",
       "      <td>Am Ende sterben wir sowieso</td>\n",
       "      <td>4.6 of 5 Star</td>\n",
       "      <td>Taschenbuch</td>\n",
       "      <td>10.00</td>\n",
       "      <td>305.000</td>\n",
       "      <td>4.6</td>\n",
       "    </tr>\n",
       "    <tr>\n",
       "      <th>47</th>\n",
       "      <td>#48</td>\n",
       "      <td><img src=\"https://images-eu.ssl-images-amazon.com/images/I/71diD1BSx0L._AC_UL200_SR200,200_.jpg\" width=\"50\" ></td>\n",
       "      <td>DIE KUNST DER PSYCHOLOGIE - Menschen lesen: Wie Sie Manipulationen erkennen und anwenden, emotionale Intelligenz trainieren und die Grundlagen der Psychologie im Alltag zu Ihrem Vorteil nutzen</td>\n",
       "      <td>4.5 of 5 Star</td>\n",
       "      <td>Taschenbuch</td>\n",
       "      <td>12.90</td>\n",
       "      <td>290.000</td>\n",
       "      <td>4.5</td>\n",
       "    </tr>\n",
       "    <tr>\n",
       "      <th>48</th>\n",
       "      <td>#49</td>\n",
       "      <td><img src=\"https://images-eu.ssl-images-amazon.com/images/I/71uqGC5TZ-L._AC_UL200_SR200,200_.jpg\" width=\"50\" ></td>\n",
       "      <td>Pokémon: Das große Lexikon: Mehr als 300 Seiten geballtes Wissen - für alle kleinen und großen Pokémon-Fans!</td>\n",
       "      <td>4.8 of 5 Star</td>\n",
       "      <td>Gebundene Ausgabe</td>\n",
       "      <td>14.99</td>\n",
       "      <td>2.533</td>\n",
       "      <td>4.8</td>\n",
       "    </tr>\n",
       "    <tr>\n",
       "      <th>49</th>\n",
       "      <td>#50</td>\n",
       "      <td><img src=\"https://images-eu.ssl-images-amazon.com/images/I/91o9Dee%2BcAL._AC_UL200_SR200,200_.jpg\" width=\"50\" ></td>\n",
       "      <td>The Big Five for Life: Was wirklich zählt im Leben</td>\n",
       "      <td>4.6 of 5 Star</td>\n",
       "      <td>Taschenbuch</td>\n",
       "      <td>9.90</td>\n",
       "      <td>4.021</td>\n",
       "      <td>4.6</td>\n",
       "    </tr>\n",
       "    <tr>\n",
       "      <th>50</th>\n",
       "      <td>#51</td>\n",
       "      <td><img src=\"https://images-eu.ssl-images-amazon.com/images/I/91QSCBn9ucL._AC_UL200_SR200,200_.jpg\" width=\"50\" ></td>\n",
       "      <td>Am Arsch vorbei – Der Gelassenheitstee: 100g Kräutertee Wellness in der Dose</td>\n",
       "      <td>4.6 of 5 Star</td>\n",
       "      <td>Geschenkartikel</td>\n",
       "      <td>7.99</td>\n",
       "      <td>3.065</td>\n",
       "      <td>4.6</td>\n",
       "    </tr>\n",
       "    <tr>\n",
       "      <th>51</th>\n",
       "      <td>#52</td>\n",
       "      <td><img src=\"https://images-eu.ssl-images-amazon.com/images/I/815rcRSk%2BsL._AC_UL200_SR200,200_.jpg\" width=\"50\" ></td>\n",
       "      <td>Die 1%-Methode – Minimale Veränderung, maximale Wirkung: Mit kleinen Gewohnheiten jedes Ziel erreichen - Mit Micro Habits zum Erfolg</td>\n",
       "      <td>4.7 of 5 Star</td>\n",
       "      <td>Broschiert</td>\n",
       "      <td>13.00</td>\n",
       "      <td>1.083</td>\n",
       "      <td>4.7</td>\n",
       "    </tr>\n",
       "    <tr>\n",
       "      <th>52</th>\n",
       "      <td>#53</td>\n",
       "      <td><img src=\"https://images-eu.ssl-images-amazon.com/images/I/51YghsLfx%2BL._AC_UL200_SR200,200_.jpg\" width=\"50\" ></td>\n",
       "      <td>Lies mal - Hefte 3 und 4 (Paket): Vom Wort zum Text - Anfangslesen</td>\n",
       "      <td>4.8 of 5 Star</td>\n",
       "      <td>Broschüre</td>\n",
       "      <td>5.50</td>\n",
       "      <td>3.607</td>\n",
       "      <td>4.8</td>\n",
       "    </tr>\n",
       "    <tr>\n",
       "      <th>53</th>\n",
       "      <td>#54</td>\n",
       "      <td><img src=\"https://images-eu.ssl-images-amazon.com/images/I/71tmjrouIIL._AC_UL200_SR200,200_.jpg\" width=\"50\" ></td>\n",
       "      <td>Honigherzen: Roman | Sommerlich humorvoller Liebesroman über einen Neuanfang auf einem alten Bauernhof</td>\n",
       "      <td>4.1 of 5 Star</td>\n",
       "      <td>Taschenbuch</td>\n",
       "      <td>10.00</td>\n",
       "      <td>121.000</td>\n",
       "      <td>4.1</td>\n",
       "    </tr>\n",
       "    <tr>\n",
       "      <th>54</th>\n",
       "      <td>#55</td>\n",
       "      <td><img src=\"https://images-eu.ssl-images-amazon.com/images/I/811wigtoNIL._AC_UL200_SR200,200_.jpg\" width=\"50\" ></td>\n",
       "      <td>Dinoabenteuer für Erstleser - Leserabe 1. Klasse - Erstlesebuch für Kinder ab 6 Jahren (Leserabe - Sonderausgaben)</td>\n",
       "      <td>4.8 of 5 Star</td>\n",
       "      <td>Gebundene Ausgabe</td>\n",
       "      <td>5.00</td>\n",
       "      <td>1.680</td>\n",
       "      <td>4.8</td>\n",
       "    </tr>\n",
       "    <tr>\n",
       "      <th>55</th>\n",
       "      <td>#56</td>\n",
       "      <td><img src=\"https://images-eu.ssl-images-amazon.com/images/I/81g5iB%2Bgi6S._AC_UL200_SR200,200_.jpg\" width=\"50\" ></td>\n",
       "      <td>Die Karte (Kerner und Oswald, Band 4)</td>\n",
       "      <td>4.5 of 5 Star</td>\n",
       "      <td>Taschenbuch</td>\n",
       "      <td>12.00</td>\n",
       "      <td>179.000</td>\n",
       "      <td>4.5</td>\n",
       "    </tr>\n",
       "    <tr>\n",
       "      <th>56</th>\n",
       "      <td>#57</td>\n",
       "      <td><img src=\"https://images-eu.ssl-images-amazon.com/images/I/81hBlTycRNL._AC_UL200_SR200,200_.jpg\" width=\"50\" ></td>\n",
       "      <td>Wahrheit oder Pflicht – Die Kinderedition</td>\n",
       "      <td>4.6 of 5 Star</td>\n",
       "      <td>Karten</td>\n",
       "      <td>8.99</td>\n",
       "      <td>1.299</td>\n",
       "      <td>4.6</td>\n",
       "    </tr>\n",
       "    <tr>\n",
       "      <th>57</th>\n",
       "      <td>#58</td>\n",
       "      <td><img src=\"https://images-eu.ssl-images-amazon.com/images/I/71WZgzG0TTL._AC_UL200_SR200,200_.jpg\" width=\"50\" ></td>\n",
       "      <td>Ruhestand für Einsteiger: Lustiges Geschenk für Rentner (Einsteiger-Reihe)</td>\n",
       "      <td>4.6 of 5 Star</td>\n",
       "      <td>Gebundene Ausgabe</td>\n",
       "      <td>6.99</td>\n",
       "      <td>1.437</td>\n",
       "      <td>4.6</td>\n",
       "    </tr>\n",
       "    <tr>\n",
       "      <th>58</th>\n",
       "      <td>#59</td>\n",
       "      <td><img src=\"https://images-eu.ssl-images-amazon.com/images/I/51lznK-FbCL._AC_UL200_SR200,200_.jpg\" width=\"50\" ></td>\n",
       "      <td>Rechtschreiben 2: Das Selbstlernheft</td>\n",
       "      <td>4.8 of 5 Star</td>\n",
       "      <td>Taschenbuch</td>\n",
       "      <td>6.90</td>\n",
       "      <td>2.591</td>\n",
       "      <td>4.8</td>\n",
       "    </tr>\n",
       "    <tr>\n",
       "      <th>59</th>\n",
       "      <td>#60</td>\n",
       "      <td><img src=\"https://images-eu.ssl-images-amazon.com/images/I/91j201T4dNL._AC_UL200_SR200,200_.jpg\" width=\"50\" ></td>\n",
       "      <td>Die Schule der magischen Tiere 2: Voller Löcher! (2)</td>\n",
       "      <td>4.9 of 5 Star</td>\n",
       "      <td>Gebundene Ausgabe</td>\n",
       "      <td>12.00</td>\n",
       "      <td>2.653</td>\n",
       "      <td>4.9</td>\n",
       "    </tr>\n",
       "    <tr>\n",
       "      <th>60</th>\n",
       "      <td>#61</td>\n",
       "      <td><img src=\"https://images-eu.ssl-images-amazon.com/images/I/61Rl0AjRgVL._AC_UL200_SR200,200_.jpg\" width=\"50\" ></td>\n",
       "      <td>Die 4-Stunden-Woche: Mehr Zeit, mehr Geld, mehr Leben</td>\n",
       "      <td>4.4 of 5 Star</td>\n",
       "      <td>Taschenbuch</td>\n",
       "      <td>11.00</td>\n",
       "      <td>1.734</td>\n",
       "      <td>4.4</td>\n",
       "    </tr>\n",
       "    <tr>\n",
       "      <th>61</th>\n",
       "      <td>#62</td>\n",
       "      <td><img src=\"https://images-eu.ssl-images-amazon.com/images/I/51uzvHqNH2L._AC_UL200_SR200,200_.jpg\" width=\"50\" ></td>\n",
       "      <td>1. Klasse Komplett - Das umfangreiche Übungsheft für gute Noten: 800+ spannende Aufgaben für Mathe, Deutsch, Lesen, Rechtschreiben, Sachkunde und Konzentration - Von Lehrern empfohlen</td>\n",
       "      <td>4.7 of 5 Star</td>\n",
       "      <td>Taschenbuch</td>\n",
       "      <td>12.95</td>\n",
       "      <td>132.000</td>\n",
       "      <td>4.7</td>\n",
       "    </tr>\n",
       "    <tr>\n",
       "      <th>62</th>\n",
       "      <td>#63</td>\n",
       "      <td><img src=\"https://images-eu.ssl-images-amazon.com/images/I/81Sb3wKeU1L._AC_UL200_SR200,200_.jpg\" width=\"50\" ></td>\n",
       "      <td>Ab heute bin ich Schulkind!: Mein Erinnerungsalbum zum Schulanfang: Mein Erinnerungsalbum zum Schulanfang. Endlich Schulkind.</td>\n",
       "      <td>4.7 of 5 Star</td>\n",
       "      <td>Gebundene Ausgabe</td>\n",
       "      <td>4.99</td>\n",
       "      <td>1.254</td>\n",
       "      <td>4.7</td>\n",
       "    </tr>\n",
       "    <tr>\n",
       "      <th>63</th>\n",
       "      <td>#64</td>\n",
       "      <td><img src=\"https://images-eu.ssl-images-amazon.com/images/I/51%2B-JXbzImL._AC_UL200_SR200,200_.jpg\" width=\"50\" ></td>\n",
       "      <td>English G Lighthouse - Allgemeine Ausgabe / Band 1: 5. Schuljahr - Workbook mit Audios online</td>\n",
       "      <td>4.8 of 5 Star</td>\n",
       "      <td>Taschenbuch</td>\n",
       "      <td>10.75</td>\n",
       "      <td>1.261</td>\n",
       "      <td>4.8</td>\n",
       "    </tr>\n",
       "    <tr>\n",
       "      <th>64</th>\n",
       "      <td>#65</td>\n",
       "      <td><img src=\"https://images-eu.ssl-images-amazon.com/images/I/814S-eb4YFL._AC_UL200_SR200,200_.jpg\" width=\"50\" ></td>\n",
       "      <td>tiptoi® Wir entdecken die Dinosaurier (tiptoi® Wieso? Weshalb? Warum?, 24)</td>\n",
       "      <td>4.8 of 5 Star</td>\n",
       "      <td>Spiralbindung</td>\n",
       "      <td>19.99</td>\n",
       "      <td>22.000</td>\n",
       "      <td>4.8</td>\n",
       "    </tr>\n",
       "    <tr>\n",
       "      <th>65</th>\n",
       "      <td>#66</td>\n",
       "      <td><img src=\"https://images-eu.ssl-images-amazon.com/images/I/71FWDdUgyIL._AC_UL200_SR200,200_.jpg\" width=\"50\" ></td>\n",
       "      <td>Alles begann 1991: Eine Reise durch deine wilden Jahre</td>\n",
       "      <td>4.4 of 5 Star</td>\n",
       "      <td>Gebundene Ausgabe</td>\n",
       "      <td>6.00</td>\n",
       "      <td>424.000</td>\n",
       "      <td>4.4</td>\n",
       "    </tr>\n",
       "    <tr>\n",
       "      <th>66</th>\n",
       "      <td>#67</td>\n",
       "      <td><img src=\"https://images-eu.ssl-images-amazon.com/images/I/81AVn%2BDTcAS._AC_UL200_SR200,200_.jpg\" width=\"50\" ></td>\n",
       "      <td>Zarter Schmelz: Eine Lucky-Luke-Hommage von Ralf König</td>\n",
       "      <td>None</td>\n",
       "      <td>Gebundene Ausgabe</td>\n",
       "      <td>16.00</td>\n",
       "      <td>0.000</td>\n",
       "      <td>0.0</td>\n",
       "    </tr>\n",
       "    <tr>\n",
       "      <th>67</th>\n",
       "      <td>#68</td>\n",
       "      <td><img src=\"https://images-eu.ssl-images-amazon.com/images/I/51Kfpb9u7aL._AC_UL200_SR200,200_.jpg\" width=\"50\" ></td>\n",
       "      <td>Corona unmasked: Neue Daten, Zahlen, Hintergründe: Neue Zahlen, Daten, Hintergründe</td>\n",
       "      <td>4.7 of 5 Star</td>\n",
       "      <td>Taschenbuch</td>\n",
       "      <td>15.00</td>\n",
       "      <td>415.000</td>\n",
       "      <td>4.7</td>\n",
       "    </tr>\n",
       "    <tr>\n",
       "      <th>68</th>\n",
       "      <td>#69</td>\n",
       "      <td><img src=\"https://images-eu.ssl-images-amazon.com/images/I/514E8s8xZ7L._AC_UL200_SR200,200_.jpg\" width=\"50\" ></td>\n",
       "      <td>Mein Gebetswürfel zur guten Nacht</td>\n",
       "      <td>4.8 of 5 Star</td>\n",
       "      <td>Sonstiges Zubehör</td>\n",
       "      <td>5.99</td>\n",
       "      <td>1.383</td>\n",
       "      <td>4.8</td>\n",
       "    </tr>\n",
       "    <tr>\n",
       "      <th>69</th>\n",
       "      <td>#70</td>\n",
       "      <td><img src=\"https://images-eu.ssl-images-amazon.com/images/I/51C5mSulOqL._AC_UL200_SR200,200_.jpg\" width=\"50\" ></td>\n",
       "      <td>Der Löwe in dir</td>\n",
       "      <td>4.8 of 5 Star</td>\n",
       "      <td>Gebundene Ausgabe</td>\n",
       "      <td>14.00</td>\n",
       "      <td>3.687</td>\n",
       "      <td>4.8</td>\n",
       "    </tr>\n",
       "    <tr>\n",
       "      <th>70</th>\n",
       "      <td>#71</td>\n",
       "      <td><img src=\"https://images-eu.ssl-images-amazon.com/images/I/51WbAuME%2BmS._AC_UL200_SR200,200_.jpg\" width=\"50\" ></td>\n",
       "      <td>Wie kleine Tiere schlafen gehen: ab 18 Monate</td>\n",
       "      <td>4.8 of 5 Star</td>\n",
       "      <td>Gebundene Ausgabe</td>\n",
       "      <td>7.00</td>\n",
       "      <td>5.453</td>\n",
       "      <td>4.8</td>\n",
       "    </tr>\n",
       "    <tr>\n",
       "      <th>71</th>\n",
       "      <td>#72</td>\n",
       "      <td><img src=\"https://images-eu.ssl-images-amazon.com/images/I/61GjUtc3ajL._AC_UL200_SR200,200_.jpg\" width=\"50\" ></td>\n",
       "      <td>Der Trafikant: Kein & Aber Pocket</td>\n",
       "      <td>4.3 of 5 Star</td>\n",
       "      <td>Taschenbuch</td>\n",
       "      <td>13.00</td>\n",
       "      <td>1.754</td>\n",
       "      <td>4.3</td>\n",
       "    </tr>\n",
       "    <tr>\n",
       "      <th>72</th>\n",
       "      <td>#73</td>\n",
       "      <td><img src=\"https://images-eu.ssl-images-amazon.com/images/I/81X8IKenVvS._AC_UL200_SR200,200_.jpg\" width=\"50\" ></td>\n",
       "      <td>Mensch, Erde! Wir könnten es so schön haben</td>\n",
       "      <td>4.5 of 5 Star</td>\n",
       "      <td>Gebundene Ausgabe</td>\n",
       "      <td>24.00</td>\n",
       "      <td>113.000</td>\n",
       "      <td>4.5</td>\n",
       "    </tr>\n",
       "    <tr>\n",
       "      <th>73</th>\n",
       "      <td>#74</td>\n",
       "      <td><img src=\"https://images-eu.ssl-images-amazon.com/images/I/71ZeyuluZPL._AC_UL200_SR200,200_.jpg\" width=\"50\" ></td>\n",
       "      <td>Das Kind in mir will achtsam morden: Roman (Achtsam morden-Reihe, Band 2)</td>\n",
       "      <td>4.5 of 5 Star</td>\n",
       "      <td>Taschenbuch</td>\n",
       "      <td>10.99</td>\n",
       "      <td>3.752</td>\n",
       "      <td>4.5</td>\n",
       "    </tr>\n",
       "    <tr>\n",
       "      <th>74</th>\n",
       "      <td>#75</td>\n",
       "      <td><img src=\"https://images-eu.ssl-images-amazon.com/images/I/81MBveLYx4L._AC_UL200_SR200,200_.jpg\" width=\"50\" ></td>\n",
       "      <td>Unter der Drachenwand: Roman</td>\n",
       "      <td>4.3 of 5 Star</td>\n",
       "      <td>Taschenbuch</td>\n",
       "      <td>12.90</td>\n",
       "      <td>449.000</td>\n",
       "      <td>4.3</td>\n",
       "    </tr>\n",
       "    <tr>\n",
       "      <th>75</th>\n",
       "      <td>#76</td>\n",
       "      <td><img src=\"https://images-eu.ssl-images-amazon.com/images/I/816GR7jPFCL._AC_UL200_SR200,200_.jpg\" width=\"50\" ></td>\n",
       "      <td>Wieso? Weshalb? Warum? junior: Zähne putzen, Pipi machen (Bad 52) (Wieso? Weshalb? Warum? junior, 52)</td>\n",
       "      <td>4.8 of 5 Star</td>\n",
       "      <td>Spiralbindung</td>\n",
       "      <td>9.99</td>\n",
       "      <td>3.779</td>\n",
       "      <td>4.8</td>\n",
       "    </tr>\n",
       "    <tr>\n",
       "      <th>76</th>\n",
       "      <td>#77</td>\n",
       "      <td><img src=\"https://images-eu.ssl-images-amazon.com/images/I/81hFRCWlFdL._AC_UL200_SR200,200_.jpg\" width=\"50\" ></td>\n",
       "      <td>Jujutsu Kaisen – Band 1</td>\n",
       "      <td>4.9 of 5 Star</td>\n",
       "      <td>Taschenbuch</td>\n",
       "      <td>6.95</td>\n",
       "      <td>922.000</td>\n",
       "      <td>4.9</td>\n",
       "    </tr>\n",
       "    <tr>\n",
       "      <th>77</th>\n",
       "      <td>#78</td>\n",
       "      <td><img src=\"https://images-eu.ssl-images-amazon.com/images/I/71CMeHc-jCL._AC_UL200_SR200,200_.jpg\" width=\"50\" ></td>\n",
       "      <td>99 herrlich verrückte Ideen für euer Leben zu zweit: Charmantes Geschenk zur Hochzeit und allgemein für Paare</td>\n",
       "      <td>4.6 of 5 Star</td>\n",
       "      <td>Taschenbuch</td>\n",
       "      <td>10.00</td>\n",
       "      <td>1.929</td>\n",
       "      <td>4.6</td>\n",
       "    </tr>\n",
       "    <tr>\n",
       "      <th>78</th>\n",
       "      <td>#79</td>\n",
       "      <td><img src=\"https://images-eu.ssl-images-amazon.com/images/I/81cteJeSoYL._AC_UL200_SR200,200_.jpg\" width=\"50\" ></td>\n",
       "      <td>Wieso? Weshalb? Warum? junior: Helfen, teilen, sich vertragen (Band 66) (Wieso? Weshalb? Warum? junior, 66)</td>\n",
       "      <td>4.8 of 5 Star</td>\n",
       "      <td>Spiralbindung</td>\n",
       "      <td>9.99</td>\n",
       "      <td>2.744</td>\n",
       "      <td>4.8</td>\n",
       "    </tr>\n",
       "    <tr>\n",
       "      <th>79</th>\n",
       "      <td>#80</td>\n",
       "      <td><img src=\"https://images-eu.ssl-images-amazon.com/images/I/91d3zqZFNyL._AC_UL200_SR200,200_.jpg\" width=\"50\" ></td>\n",
       "      <td>NARUTO Massiv 1: Die Originalserie als umfangreiche Sammelbandausgabe! (1)</td>\n",
       "      <td>4.8 of 5 Star</td>\n",
       "      <td>Taschenbuch</td>\n",
       "      <td>5.00</td>\n",
       "      <td>1.889</td>\n",
       "      <td>4.8</td>\n",
       "    </tr>\n",
       "    <tr>\n",
       "      <th>80</th>\n",
       "      <td>#81</td>\n",
       "      <td><img src=\"https://images-eu.ssl-images-amazon.com/images/I/81bOSU4skVL._AC_UL200_SR200,200_.jpg\" width=\"50\" ></td>\n",
       "      <td>Schaukel das Schaf - Ein Mitmachbuch zum Schütteln, Schaukeln, Pusten, Klopfen und sehen, was dann passiert. Von 2 bis 4 Jahren: Vom Bestsellerautor (Schüttel den Apfelbaum)</td>\n",
       "      <td>4.8 of 5 Star</td>\n",
       "      <td>Gebundene Ausgabe</td>\n",
       "      <td>8.99</td>\n",
       "      <td>1.987</td>\n",
       "      <td>4.8</td>\n",
       "    </tr>\n",
       "    <tr>\n",
       "      <th>81</th>\n",
       "      <td>#82</td>\n",
       "      <td><img src=\"https://images-eu.ssl-images-amazon.com/images/I/81n0a7emPQS._AC_UL200_SR200,200_.jpg\" width=\"50\" ></td>\n",
       "      <td>Die Verlorenen: Der neue Thriller (Jonah Colley, Band 1)</td>\n",
       "      <td>None</td>\n",
       "      <td>Gebundene Ausgabe</td>\n",
       "      <td>24.00</td>\n",
       "      <td>0.000</td>\n",
       "      <td>0.0</td>\n",
       "    </tr>\n",
       "    <tr>\n",
       "      <th>82</th>\n",
       "      <td>#83</td>\n",
       "      <td><img src=\"https://images-eu.ssl-images-amazon.com/images/I/41TNzxxN51L._AC_UL200_SR200,200_.jpg\" width=\"50\" ></td>\n",
       "      <td>Das Übungsheft Mathematik 3: Denk- und Rechentraining: Denk- und Rechentraining. Mit Lösungsheft und Stickerbogen</td>\n",
       "      <td>4.8 of 5 Star</td>\n",
       "      <td>Broschüre</td>\n",
       "      <td>5.99</td>\n",
       "      <td>2.168</td>\n",
       "      <td>4.8</td>\n",
       "    </tr>\n",
       "    <tr>\n",
       "      <th>83</th>\n",
       "      <td>#84</td>\n",
       "      <td><img src=\"https://images-eu.ssl-images-amazon.com/images/I/91sDAQa4wCL._AC_UL200_SR200,200_.jpg\" width=\"50\" ></td>\n",
       "      <td>Gewitter im Kopf - Leben mit Tourette</td>\n",
       "      <td>4.6 of 5 Star</td>\n",
       "      <td>Broschiert</td>\n",
       "      <td>15.00</td>\n",
       "      <td>14.000</td>\n",
       "      <td>4.6</td>\n",
       "    </tr>\n",
       "    <tr>\n",
       "      <th>84</th>\n",
       "      <td>#85</td>\n",
       "      <td><img src=\"https://images-eu.ssl-images-amazon.com/images/I/71tB0hsd4xL._AC_UL200_SR200,200_.jpg\" width=\"50\" ></td>\n",
       "      <td>Meine Kindergarten-Freunde (Fahrzeuge): Freundebuch ab 3 Jahren für Kindergarten und Kita, für Jungen und Mädchen</td>\n",
       "      <td>4.8 of 5 Star</td>\n",
       "      <td>Gebundene Ausgabe</td>\n",
       "      <td>7.82</td>\n",
       "      <td>2.024</td>\n",
       "      <td>4.8</td>\n",
       "    </tr>\n",
       "    <tr>\n",
       "      <th>85</th>\n",
       "      <td>#86</td>\n",
       "      <td><img src=\"https://images-eu.ssl-images-amazon.com/images/I/71lSK%2B7M3nL._AC_UL200_SR200,200_.jpg\" width=\"50\" ></td>\n",
       "      <td>Rätselblock ab 7 Jahre, Band 1, A5-Block: Kunterbunter Rätselspaß: Labyrinthe, Fehler finden, Kreuzworträtsel, Punkte verbinden u.v.m. (Rätseln, knobeln, logisches Denken, Band 632)</td>\n",
       "      <td>4.7 of 5 Star</td>\n",
       "      <td>Taschenbuch</td>\n",
       "      <td>5.90</td>\n",
       "      <td>1.403</td>\n",
       "      <td>4.7</td>\n",
       "    </tr>\n",
       "    <tr>\n",
       "      <th>86</th>\n",
       "      <td>#87</td>\n",
       "      <td><img src=\"https://images-eu.ssl-images-amazon.com/images/I/61y9CHIOWbS._AC_UL200_SR200,200_.jpg\" width=\"50\" ></td>\n",
       "      <td>Meine Reise zu mir selbst: Finde die Antwort in dir selbst, die dir sonst niemand beantworten kann</td>\n",
       "      <td>4.3 of 5 Star</td>\n",
       "      <td>Taschenbuch</td>\n",
       "      <td>19.99</td>\n",
       "      <td>222.000</td>\n",
       "      <td>4.3</td>\n",
       "    </tr>\n",
       "    <tr>\n",
       "      <th>87</th>\n",
       "      <td>#88</td>\n",
       "      <td><img src=\"https://images-eu.ssl-images-amazon.com/images/I/71%2BKVzyFexL._AC_UL200_SR200,200_.jpg\" width=\"50\" ></td>\n",
       "      <td>Tschick: roman</td>\n",
       "      <td>4.4 of 5 Star</td>\n",
       "      <td>Taschenbuch</td>\n",
       "      <td>10.00</td>\n",
       "      <td>6.818</td>\n",
       "      <td>4.4</td>\n",
       "    </tr>\n",
       "    <tr>\n",
       "      <th>88</th>\n",
       "      <td>#89</td>\n",
       "      <td><img src=\"https://images-eu.ssl-images-amazon.com/images/I/71oxZuV0BnL._AC_UL200_SR200,200_.jpg\" width=\"50\" ></td>\n",
       "      <td>Die tollsten Frauen sind nicht perfekt - sie sind echt.</td>\n",
       "      <td>4.7 of 5 Star</td>\n",
       "      <td>Spiralbindung</td>\n",
       "      <td>7.99</td>\n",
       "      <td>2.695</td>\n",
       "      <td>4.7</td>\n",
       "    </tr>\n",
       "    <tr>\n",
       "      <th>89</th>\n",
       "      <td>#90</td>\n",
       "      <td><img src=\"https://images-eu.ssl-images-amazon.com/images/I/91alVjKcuQL._AC_UL200_SR200,200_.jpg\" width=\"50\" ></td>\n",
       "      <td>Die geheime Drachenschule - Das Tribunal der Sieben Flammen: Band 5</td>\n",
       "      <td>4.7 of 5 Star</td>\n",
       "      <td>Gebundene Ausgabe</td>\n",
       "      <td>12.00</td>\n",
       "      <td>15.000</td>\n",
       "      <td>4.7</td>\n",
       "    </tr>\n",
       "    <tr>\n",
       "      <th>90</th>\n",
       "      <td>#91</td>\n",
       "      <td><img src=\"https://images-eu.ssl-images-amazon.com/images/I/51LO1cMTngL._AC_UL200_SR200,200_.jpg\" width=\"50\" ></td>\n",
       "      <td>Kindergartenblock - Das kann ich schon! ab 4 Jahre, A5-Block (Übungsmaterial für Kindergarten und Vorschule, Band 620)</td>\n",
       "      <td>4.8 of 5 Star</td>\n",
       "      <td>Taschenbuch</td>\n",
       "      <td>5.90</td>\n",
       "      <td>3.684</td>\n",
       "      <td>4.8</td>\n",
       "    </tr>\n",
       "    <tr>\n",
       "      <th>91</th>\n",
       "      <td>#92</td>\n",
       "      <td><img src=\"https://images-eu.ssl-images-amazon.com/images/I/A1P5RQL%2BmML._AC_UL200_SR200,200_.jpg\" width=\"50\" ></td>\n",
       "      <td>Was ich an dir liebe: Eine originelle Liebeserklärung zum Ausfüllen und Verschenken</td>\n",
       "      <td>4.6 of 5 Star</td>\n",
       "      <td>Gebundene Ausgabe</td>\n",
       "      <td>9.99</td>\n",
       "      <td>8.814</td>\n",
       "      <td>4.6</td>\n",
       "    </tr>\n",
       "    <tr>\n",
       "      <th>92</th>\n",
       "      <td>#93</td>\n",
       "      <td><img src=\"https://images-eu.ssl-images-amazon.com/images/I/61yIB-tKNBL._AC_UL200_SR200,200_.jpg\" width=\"50\" ></td>\n",
       "      <td>Simple. Das Kochbuch</td>\n",
       "      <td>4.8 of 5 Star</td>\n",
       "      <td>Gebundene Ausgabe</td>\n",
       "      <td>29.95</td>\n",
       "      <td>1.085</td>\n",
       "      <td>4.8</td>\n",
       "    </tr>\n",
       "    <tr>\n",
       "      <th>93</th>\n",
       "      <td>#94</td>\n",
       "      <td><img src=\"https://images-eu.ssl-images-amazon.com/images/I/818ZInTBHlL._AC_UL200_SR200,200_.jpg\" width=\"50\" ></td>\n",
       "      <td>365 Low-Carb-Rezepte: Low Carb Rezepte für ein ganzes Jahr</td>\n",
       "      <td>4.4 of 5 Star</td>\n",
       "      <td>Gebundene Ausgabe</td>\n",
       "      <td>9.99</td>\n",
       "      <td>5.251</td>\n",
       "      <td>4.4</td>\n",
       "    </tr>\n",
       "    <tr>\n",
       "      <th>94</th>\n",
       "      <td>#95</td>\n",
       "      <td><img src=\"https://images-eu.ssl-images-amazon.com/images/I/71ombj0aFpS._AC_UL200_SR200,200_.jpg\" width=\"50\" ></td>\n",
       "      <td>Miss Merkel: Mord in der Uckermark</td>\n",
       "      <td>4.3 of 5 Star</td>\n",
       "      <td>Broschiert</td>\n",
       "      <td>16.00</td>\n",
       "      <td>1.710</td>\n",
       "      <td>4.3</td>\n",
       "    </tr>\n",
       "    <tr>\n",
       "      <th>95</th>\n",
       "      <td>#96</td>\n",
       "      <td><img src=\"https://images-eu.ssl-images-amazon.com/images/I/611wiqe5s5L._AC_UL200_SR200,200_.jpg\" width=\"50\" ></td>\n",
       "      <td>Das Kind in dir muss Heimat finden: In drei Schritten zum starken Ich – das Arbeitsbuch</td>\n",
       "      <td>4.7 of 5 Star</td>\n",
       "      <td>Broschiert</td>\n",
       "      <td>12.00</td>\n",
       "      <td>2.684</td>\n",
       "      <td>4.7</td>\n",
       "    </tr>\n",
       "    <tr>\n",
       "      <th>96</th>\n",
       "      <td>#97</td>\n",
       "      <td><img src=\"https://images-eu.ssl-images-amazon.com/images/I/51orfVQ4MzL._AC_UL200_SR200,200_.jpg\" width=\"50\" ></td>\n",
       "      <td>Rechtschreiben 4: Das Selbstlernheft</td>\n",
       "      <td>4.8 of 5 Star</td>\n",
       "      <td>Taschenbuch</td>\n",
       "      <td>7.40</td>\n",
       "      <td>1.852</td>\n",
       "      <td>4.8</td>\n",
       "    </tr>\n",
       "    <tr>\n",
       "      <th>97</th>\n",
       "      <td>#98</td>\n",
       "      <td><img src=\"https://images-eu.ssl-images-amazon.com/images/I/71Rfi1yDgeL._AC_UL200_SR200,200_.jpg\" width=\"50\" ></td>\n",
       "      <td>Wichtige Steuergesetze: mit Durchführungsverordnungen. (Textausgabe)</td>\n",
       "      <td>4.6 of 5 Star</td>\n",
       "      <td>Taschenbuch</td>\n",
       "      <td>9.90</td>\n",
       "      <td>256.000</td>\n",
       "      <td>4.6</td>\n",
       "    </tr>\n",
       "    <tr>\n",
       "      <th>98</th>\n",
       "      <td>#99</td>\n",
       "      <td><img src=\"https://images-eu.ssl-images-amazon.com/images/I/71Qbh8Va%2B6L._AC_UL200_SR200,200_.jpg\" width=\"50\" ></td>\n",
       "      <td>Oje, ich wachse: Von den acht \"Sprüngen\" in der mentalen Entwicklung Ihres Kindes während der ersten 14 Monate und wie Sie damit umgehen können- Jetzt mit großem Kapitel zum Ein- und Durchschlafen</td>\n",
       "      <td>4.6 of 5 Star</td>\n",
       "      <td>Taschenbuch</td>\n",
       "      <td>12.00</td>\n",
       "      <td>5.042</td>\n",
       "      <td>4.6</td>\n",
       "    </tr>\n",
       "    <tr>\n",
       "      <th>99</th>\n",
       "      <td>#100</td>\n",
       "      <td><img src=\"https://images-eu.ssl-images-amazon.com/images/I/81Eb5NqfLbL._AC_UL200_SR200,200_.jpg\" width=\"50\" ></td>\n",
       "      <td>Die Schule der magischen Tiere 1: Die Schule der magischen Tiere (1)</td>\n",
       "      <td>4.8 of 5 Star</td>\n",
       "      <td>Taschenbuch</td>\n",
       "      <td>6.99</td>\n",
       "      <td>2.852</td>\n",
       "      <td>4.8</td>\n",
       "    </tr>\n",
       "  </tbody>\n",
       "</table>"
      ],
      "text/plain": [
       "<IPython.core.display.HTML object>"
      ]
     },
     "execution_count": 17,
     "metadata": {},
     "output_type": "execute_result"
    }
   ],
   "source": [
    "HTML(df.to_html(escape=False))"
   ]
  },
  {
   "cell_type": "code",
   "execution_count": 18,
   "metadata": {
    "ExecuteTime": {
     "end_time": "2021-06-29T11:57:07.538486Z",
     "start_time": "2021-06-29T11:57:07.479463Z"
    }
   },
   "outputs": [
    {
     "data": {
      "text/html": [
       "<div>\n",
       "<style scoped>\n",
       "    .dataframe tbody tr th:only-of-type {\n",
       "        vertical-align: middle;\n",
       "    }\n",
       "\n",
       "    .dataframe tbody tr th {\n",
       "        vertical-align: top;\n",
       "    }\n",
       "\n",
       "    .dataframe thead th {\n",
       "        text-align: right;\n",
       "    }\n",
       "</style>\n",
       "<table border=\"1\" class=\"dataframe\">\n",
       "  <thead>\n",
       "    <tr style=\"text-align: right;\">\n",
       "      <th></th>\n",
       "      <th>Rank</th>\n",
       "      <th>Picture</th>\n",
       "      <th>Book Title</th>\n",
       "      <th>Ratings</th>\n",
       "      <th>Store Name</th>\n",
       "      <th>Price</th>\n",
       "      <th>Number of Reviewers</th>\n",
       "      <th>Numeric Ratings</th>\n",
       "    </tr>\n",
       "  </thead>\n",
       "  <tbody>\n",
       "    <tr>\n",
       "      <th>0</th>\n",
       "      <td>#1</td>\n",
       "      <td>&lt;img src=\"https://images-eu.ssl-images-amazon....</td>\n",
       "      <td>Pfoten vom Tisch!: Meine Katzen, andere Katzen...</td>\n",
       "      <td>None</td>\n",
       "      <td>Gebundene Ausgabe</td>\n",
       "      <td>22.00</td>\n",
       "      <td>0.0</td>\n",
       "      <td>0.0</td>\n",
       "    </tr>\n",
       "    <tr>\n",
       "      <th>1</th>\n",
       "      <td>#2</td>\n",
       "      <td>&lt;img src=\"https://images-eu.ssl-images-amazon....</td>\n",
       "      <td>Geh schon mal in dich, das Glück kommt dann na...</td>\n",
       "      <td>None</td>\n",
       "      <td>Taschenbuch</td>\n",
       "      <td>9.99</td>\n",
       "      <td>0.0</td>\n",
       "      <td>0.0</td>\n",
       "    </tr>\n",
       "    <tr>\n",
       "      <th>2</th>\n",
       "      <td>#3</td>\n",
       "      <td>&lt;img src=\"https://images-eu.ssl-images-amazon....</td>\n",
       "      <td>Ein Eimer Farbe für dein Leben: 24/7 mit twent...</td>\n",
       "      <td>4.7 of 5 Star</td>\n",
       "      <td>Taschenbuch</td>\n",
       "      <td>15.00</td>\n",
       "      <td>101.0</td>\n",
       "      <td>4.7</td>\n",
       "    </tr>\n",
       "    <tr>\n",
       "      <th>3</th>\n",
       "      <td>#4</td>\n",
       "      <td>&lt;img src=\"https://images-eu.ssl-images-amazon....</td>\n",
       "      <td>Bretonische Idylle: Kommissar Dupins zehnter F...</td>\n",
       "      <td>4.4 of 5 Star</td>\n",
       "      <td>Broschiert</td>\n",
       "      <td>16.00</td>\n",
       "      <td>393.0</td>\n",
       "      <td>4.4</td>\n",
       "    </tr>\n",
       "    <tr>\n",
       "      <th>4</th>\n",
       "      <td>#5</td>\n",
       "      <td>&lt;img src=\"https://images-eu.ssl-images-amazon....</td>\n",
       "      <td>Falsche Pandemien: Argumente gegen die Herrsch...</td>\n",
       "      <td>4.6 of 5 Star</td>\n",
       "      <td>Broschiert</td>\n",
       "      <td>20.00</td>\n",
       "      <td>151.0</td>\n",
       "      <td>4.6</td>\n",
       "    </tr>\n",
       "  </tbody>\n",
       "</table>\n",
       "</div>"
      ],
      "text/plain": [
       "  Rank                                            Picture  \\\n",
       "0   #1  <img src=\"https://images-eu.ssl-images-amazon....   \n",
       "1   #2  <img src=\"https://images-eu.ssl-images-amazon....   \n",
       "2   #3  <img src=\"https://images-eu.ssl-images-amazon....   \n",
       "3   #4  <img src=\"https://images-eu.ssl-images-amazon....   \n",
       "4   #5  <img src=\"https://images-eu.ssl-images-amazon....   \n",
       "\n",
       "                                          Book Title        Ratings  \\\n",
       "0  Pfoten vom Tisch!: Meine Katzen, andere Katzen...           None   \n",
       "1  Geh schon mal in dich, das Glück kommt dann na...           None   \n",
       "2  Ein Eimer Farbe für dein Leben: 24/7 mit twent...  4.7 of 5 Star   \n",
       "3  Bretonische Idylle: Kommissar Dupins zehnter F...  4.4 of 5 Star   \n",
       "4  Falsche Pandemien: Argumente gegen die Herrsch...  4.6 of 5 Star   \n",
       "\n",
       "          Store Name  Price  Number of Reviewers  Numeric Ratings  \n",
       "0  Gebundene Ausgabe  22.00                  0.0              0.0  \n",
       "1        Taschenbuch   9.99                  0.0              0.0  \n",
       "2        Taschenbuch  15.00                101.0              4.7  \n",
       "3         Broschiert  16.00                393.0              4.4  \n",
       "4         Broschiert  20.00                151.0              4.6  "
      ]
     },
     "execution_count": 18,
     "metadata": {},
     "output_type": "execute_result"
    }
   ],
   "source": [
    "df.head()"
   ]
  },
  {
   "cell_type": "markdown",
   "metadata": {},
   "source": [
    "# Data Analysis"
   ]
  },
  {
   "cell_type": "code",
   "execution_count": 29,
   "metadata": {
    "ExecuteTime": {
     "end_time": "2021-06-29T12:02:06.530491Z",
     "start_time": "2021-06-29T12:02:06.454932Z"
    }
   },
   "outputs": [
    {
     "data": {
      "text/html": [
       "<div>\n",
       "<style scoped>\n",
       "    .dataframe tbody tr th:only-of-type {\n",
       "        vertical-align: middle;\n",
       "    }\n",
       "\n",
       "    .dataframe tbody tr th {\n",
       "        vertical-align: top;\n",
       "    }\n",
       "\n",
       "    .dataframe thead th {\n",
       "        text-align: right;\n",
       "    }\n",
       "</style>\n",
       "<table border=\"1\" class=\"dataframe\">\n",
       "  <thead>\n",
       "    <tr style=\"text-align: right;\">\n",
       "      <th></th>\n",
       "      <th>Price</th>\n",
       "      <th>Number of Reviewers</th>\n",
       "      <th>Numeric Ratings</th>\n",
       "    </tr>\n",
       "  </thead>\n",
       "  <tbody>\n",
       "    <tr>\n",
       "      <th>count</th>\n",
       "      <td>100.00000</td>\n",
       "      <td>100.000000</td>\n",
       "      <td>100.000000</td>\n",
       "    </tr>\n",
       "    <tr>\n",
       "      <th>mean</th>\n",
       "      <td>12.96920</td>\n",
       "      <td>111.218420</td>\n",
       "      <td>4.404000</td>\n",
       "    </tr>\n",
       "    <tr>\n",
       "      <th>std</th>\n",
       "      <td>6.30532</td>\n",
       "      <td>202.018568</td>\n",
       "      <td>1.030242</td>\n",
       "    </tr>\n",
       "    <tr>\n",
       "      <th>min</th>\n",
       "      <td>3.99000</td>\n",
       "      <td>0.000000</td>\n",
       "      <td>0.000000</td>\n",
       "    </tr>\n",
       "    <tr>\n",
       "      <th>25%</th>\n",
       "      <td>8.71000</td>\n",
       "      <td>2.132000</td>\n",
       "      <td>4.500000</td>\n",
       "    </tr>\n",
       "    <tr>\n",
       "      <th>50%</th>\n",
       "      <td>11.99500</td>\n",
       "      <td>5.032500</td>\n",
       "      <td>4.700000</td>\n",
       "    </tr>\n",
       "    <tr>\n",
       "      <th>75%</th>\n",
       "      <td>15.99250</td>\n",
       "      <td>126.000000</td>\n",
       "      <td>4.800000</td>\n",
       "    </tr>\n",
       "    <tr>\n",
       "      <th>max</th>\n",
       "      <td>34.95000</td>\n",
       "      <td>922.000000</td>\n",
       "      <td>4.900000</td>\n",
       "    </tr>\n",
       "  </tbody>\n",
       "</table>\n",
       "</div>"
      ],
      "text/plain": [
       "           Price  Number of Reviewers  Numeric Ratings\n",
       "count  100.00000           100.000000       100.000000\n",
       "mean    12.96920           111.218420         4.404000\n",
       "std      6.30532           202.018568         1.030242\n",
       "min      3.99000             0.000000         0.000000\n",
       "25%      8.71000             2.132000         4.500000\n",
       "50%     11.99500             5.032500         4.700000\n",
       "75%     15.99250           126.000000         4.800000\n",
       "max     34.95000           922.000000         4.900000"
      ]
     },
     "execution_count": 29,
     "metadata": {},
     "output_type": "execute_result"
    }
   ],
   "source": [
    "# Statistical Overview\n",
    "df.describe()"
   ]
  },
  {
   "cell_type": "markdown",
   "metadata": {},
   "source": [
    "## explanation\n",
    "Out of 100 sample data we have found min price of the book is 3.99 euro and maximum price 34.95 where average price is 12.94.\n",
    "And in case of rating maximum rating is 5 and we have found average rating is 4.5"
   ]
  },
  {
   "cell_type": "markdown",
   "metadata": {},
   "source": [
    "## Correlation between different variables"
   ]
  },
  {
   "cell_type": "code",
   "execution_count": 30,
   "metadata": {
    "ExecuteTime": {
     "end_time": "2021-06-29T12:02:21.103497Z",
     "start_time": "2021-06-29T12:02:20.755152Z"
    }
   },
   "outputs": [
    {
     "data": {
      "image/png": "[encoded data removed]",
      "text/plain": [
       "<Figure size 864x720 with 2 Axes>"
      ]
     },
     "metadata": {
      "needs_background": "light"
     },
     "output_type": "display_data"
    }
   ],
   "source": [
    "corr = df.corr()\n",
    "f, ax = plt.subplots(figsize=(12, 10))\n",
    "sns.heatmap(corr, annot=True);"
   ]
  },
  {
   "cell_type": "markdown",
   "metadata": {},
   "source": [
    "There is a positive relation exists between number of Reviewers and Ratings."
   ]
  },
  {
   "cell_type": "markdown",
   "metadata": {},
   "source": [
    "## Top 10 Ratings Based on Number of Reviewers"
   ]
  },
  {
   "cell_type": "code",
   "execution_count": 31,
   "metadata": {
    "ExecuteTime": {
     "end_time": "2021-06-29T12:03:05.746805Z",
     "start_time": "2021-06-29T12:03:05.471240Z"
    }
   },
   "outputs": [
    {
     "data": {
      "image/png": "[encoded data removed]",
      "text/plain": [
       "<Figure size 720x432 with 1 Axes>"
      ]
     },
     "metadata": {
      "needs_background": "light"
     },
     "output_type": "display_data"
    }
   ],
   "source": [
    "plt.figure(figsize = (10,6))\n",
    "df.groupby(\"Numeric Ratings\")[\"Number of Reviewers\"].max().sort_values(ascending = False).plot(kind = \"barh\", );\n",
    "plt.ylabel(\"Numeric_ratings\")\n",
    "plt.xlabel(\"Number of reviewers\")\n",
    "plt.show();"
   ]
  },
  {
   "cell_type": "markdown",
   "metadata": {},
   "source": [
    "We can see that 4.7 to 4.9 contains the majority of reviews from reviewers."
   ]
  },
  {
   "cell_type": "markdown",
   "metadata": {},
   "source": [
    "## Top 10 Books Based on Number of Reviewers"
   ]
  },
  {
   "cell_type": "code",
   "execution_count": 32,
   "metadata": {
    "ExecuteTime": {
     "end_time": "2021-06-29T12:03:09.864128Z",
     "start_time": "2021-06-29T12:03:09.534244Z"
    }
   },
   "outputs": [
    {
     "data": {
      "image/png": "[encoded data removed]",
      "text/plain": [
       "<Figure size 720x720 with 1 Axes>"
      ]
     },
     "metadata": {
      "needs_background": "light"
     },
     "output_type": "display_data"
    }
   ],
   "source": [
    "plt.figure(figsize = (10,10))\n",
    "df.groupby(\"Book Title\")[\"Number of Reviewers\"].max().nlargest(10).sort_values(ascending = False).plot(kind = \"barh\", );\n",
    "plt.ylabel(\"Book title\")\n",
    "plt.xlabel(\"Number of reviewers\")\n",
    "plt.show();"
   ]
  },
  {
   "cell_type": "markdown",
   "metadata": {},
   "source": [
    "## Based on price sort the book list"
   ]
  },
  {
   "cell_type": "code",
   "execution_count": 33,
   "metadata": {
    "ExecuteTime": {
     "end_time": "2021-06-29T12:03:12.048825Z",
     "start_time": "2021-06-29T12:03:11.734907Z"
    }
   },
   "outputs": [
    {
     "data": {
      "image/png": "[encoded data removed]",
      "text/plain": [
       "<Figure size 720x432 with 1 Axes>"
      ]
     },
     "metadata": {
      "needs_background": "light"
     },
     "output_type": "display_data"
    }
   ],
   "source": [
    "plt.figure(figsize = (10,6))\n",
    "df.groupby(\"Book Title\")[\"Price\"].max().nlargest(10).sort_values(ascending = True).plot(kind = \"barh\");\n",
    "plt.xlabel(\"Book Price\")\n",
    "plt.ylabel(\"Boot Title\")\n",
    "plt.show();"
   ]
  },
  {
   "cell_type": "code",
   "execution_count": 34,
   "metadata": {
    "ExecuteTime": {
     "end_time": "2021-06-29T12:03:12.706712Z",
     "start_time": "2021-06-29T12:03:12.673189Z"
    }
   },
   "outputs": [
    {
     "data": {
      "text/html": [
       "<div>\n",
       "<style scoped>\n",
       "    .dataframe tbody tr th:only-of-type {\n",
       "        vertical-align: middle;\n",
       "    }\n",
       "\n",
       "    .dataframe tbody tr th {\n",
       "        vertical-align: top;\n",
       "    }\n",
       "\n",
       "    .dataframe thead th {\n",
       "        text-align: right;\n",
       "    }\n",
       "</style>\n",
       "<table border=\"1\" class=\"dataframe\">\n",
       "  <thead>\n",
       "    <tr style=\"text-align: right;\">\n",
       "      <th></th>\n",
       "      <th>Book Title</th>\n",
       "      <th>Price</th>\n",
       "    </tr>\n",
       "    <tr>\n",
       "      <th>Numeric Ratings</th>\n",
       "      <th></th>\n",
       "      <th></th>\n",
       "    </tr>\n",
       "  </thead>\n",
       "  <tbody>\n",
       "    <tr>\n",
       "      <th>4.8</th>\n",
       "      <td>tiptoi® Wir entdecken die Dinosaurier (tiptoi®...</td>\n",
       "      <td>34.95</td>\n",
       "    </tr>\n",
       "    <tr>\n",
       "      <th>4.3</th>\n",
       "      <td>Unter der Drachenwand: Roman</td>\n",
       "      <td>26.00</td>\n",
       "    </tr>\n",
       "    <tr>\n",
       "      <th>4.6</th>\n",
       "      <td>Woman on Fire: Alles über die fabelhaften Wech...</td>\n",
       "      <td>25.00</td>\n",
       "    </tr>\n",
       "    <tr>\n",
       "      <th>0.0</th>\n",
       "      <td>food with love: Sweet Love &amp; Happiness: Süße L...</td>\n",
       "      <td>24.99</td>\n",
       "    </tr>\n",
       "    <tr>\n",
       "      <th>4.7</th>\n",
       "      <td>Vielleicht - Eine Geschichte über die unendlic...</td>\n",
       "      <td>24.95</td>\n",
       "    </tr>\n",
       "    <tr>\n",
       "      <th>4.5</th>\n",
       "      <td>Über Menschen: Roman</td>\n",
       "      <td>24.00</td>\n",
       "    </tr>\n",
       "    <tr>\n",
       "      <th>4.4</th>\n",
       "      <td>Tschick: roman</td>\n",
       "      <td>22.00</td>\n",
       "    </tr>\n",
       "    <tr>\n",
       "      <th>4.9</th>\n",
       "      <td>Jujutsu Kaisen – Band 1</td>\n",
       "      <td>12.00</td>\n",
       "    </tr>\n",
       "    <tr>\n",
       "      <th>4.1</th>\n",
       "      <td>Madame le Commissaire und die panische Diva: E...</td>\n",
       "      <td>10.99</td>\n",
       "    </tr>\n",
       "  </tbody>\n",
       "</table>\n",
       "</div>"
      ],
      "text/plain": [
       "                                                        Book Title  Price\n",
       "Numeric Ratings                                                          \n",
       "4.8              tiptoi® Wir entdecken die Dinosaurier (tiptoi®...  34.95\n",
       "4.3                                   Unter der Drachenwand: Roman  26.00\n",
       "4.6              Woman on Fire: Alles über die fabelhaften Wech...  25.00\n",
       "0.0              food with love: Sweet Love & Happiness: Süße L...  24.99\n",
       "4.7              Vielleicht - Eine Geschichte über die unendlic...  24.95\n",
       "4.5                                           Über Menschen: Roman  24.00\n",
       "4.4                                                 Tschick: roman  22.00\n",
       "4.9                                        Jujutsu Kaisen – Band 1  12.00\n",
       "4.1              Madame le Commissaire und die panische Diva: E...  10.99"
      ]
     },
     "execution_count": 34,
     "metadata": {},
     "output_type": "execute_result"
    }
   ],
   "source": [
    "df.groupby(by='Numeric Ratings')[['Book Title','Price']].max().sort_values(by= \"Price\", ascending = False)"
   ]
  },
  {
   "cell_type": "markdown",
   "metadata": {},
   "source": [
    "We can see that __Wir entdecken die Dinosaurier__ has the highest price and contains 4.8 Ratings."
   ]
  },
  {
   "cell_type": "code",
   "execution_count": 35,
   "metadata": {
    "ExecuteTime": {
     "end_time": "2021-06-29T12:03:14.243745Z",
     "start_time": "2021-06-29T12:03:14.174619Z"
    }
   },
   "outputs": [
    {
     "data": {
      "text/html": [
       "<div>\n",
       "<style scoped>\n",
       "    .dataframe tbody tr th:only-of-type {\n",
       "        vertical-align: middle;\n",
       "    }\n",
       "\n",
       "    .dataframe tbody tr th {\n",
       "        vertical-align: top;\n",
       "    }\n",
       "\n",
       "    .dataframe thead th {\n",
       "        text-align: right;\n",
       "    }\n",
       "</style>\n",
       "<table border=\"1\" class=\"dataframe\">\n",
       "  <thead>\n",
       "    <tr style=\"text-align: right;\">\n",
       "      <th></th>\n",
       "      <th>Book Title</th>\n",
       "      <th>Price</th>\n",
       "    </tr>\n",
       "    <tr>\n",
       "      <th>Numeric Ratings</th>\n",
       "      <th></th>\n",
       "      <th></th>\n",
       "    </tr>\n",
       "  </thead>\n",
       "  <tbody>\n",
       "    <tr>\n",
       "      <th>0.0</th>\n",
       "      <td>Die Verlorenen: Der neue Thriller (Jonah Colle...</td>\n",
       "      <td>9.99</td>\n",
       "    </tr>\n",
       "    <tr>\n",
       "      <th>4.1</th>\n",
       "      <td>Honigherzen: Roman | Sommerlich humorvoller Li...</td>\n",
       "      <td>10.00</td>\n",
       "    </tr>\n",
       "    <tr>\n",
       "      <th>4.3</th>\n",
       "      <td>Der Donnerstagsmordclub: Kriminalroman | Der M...</td>\n",
       "      <td>12.90</td>\n",
       "    </tr>\n",
       "    <tr>\n",
       "      <th>4.4</th>\n",
       "      <td>365 Low-Carb-Rezepte: Low Carb Rezepte für ein...</td>\n",
       "      <td>6.00</td>\n",
       "    </tr>\n",
       "    <tr>\n",
       "      <th>4.5</th>\n",
       "      <td>Achtsam morden: Roman (Achtsam morden-Reihe, B...</td>\n",
       "      <td>8.95</td>\n",
       "    </tr>\n",
       "    <tr>\n",
       "      <th>4.6</th>\n",
       "      <td>99 herrlich verrückte Ideen für euer Leben zu ...</td>\n",
       "      <td>5.90</td>\n",
       "    </tr>\n",
       "    <tr>\n",
       "      <th>4.7</th>\n",
       "      <td>1. Klasse Komplett - Das umfangreiche Übungshe...</td>\n",
       "      <td>3.99</td>\n",
       "    </tr>\n",
       "    <tr>\n",
       "      <th>4.8</th>\n",
       "      <td>Das NEINhorn</td>\n",
       "      <td>5.00</td>\n",
       "    </tr>\n",
       "    <tr>\n",
       "      <th>4.9</th>\n",
       "      <td>Chainsaw Man 01</td>\n",
       "      <td>6.95</td>\n",
       "    </tr>\n",
       "  </tbody>\n",
       "</table>\n",
       "</div>"
      ],
      "text/plain": [
       "                                                        Book Title  Price\n",
       "Numeric Ratings                                                          \n",
       "0.0              Die Verlorenen: Der neue Thriller (Jonah Colle...   9.99\n",
       "4.1              Honigherzen: Roman | Sommerlich humorvoller Li...  10.00\n",
       "4.3              Der Donnerstagsmordclub: Kriminalroman | Der M...  12.90\n",
       "4.4              365 Low-Carb-Rezepte: Low Carb Rezepte für ein...   6.00\n",
       "4.5              Achtsam morden: Roman (Achtsam morden-Reihe, B...   8.95\n",
       "4.6              99 herrlich verrückte Ideen für euer Leben zu ...   5.90\n",
       "4.7              1. Klasse Komplett - Das umfangreiche Übungshe...   3.99\n",
       "4.8                                                   Das NEINhorn   5.00\n",
       "4.9                                                Chainsaw Man 01   6.95"
      ]
     },
     "execution_count": 35,
     "metadata": {},
     "output_type": "execute_result"
    }
   ],
   "source": [
    "df.groupby(by='Numeric Ratings')[['Book Title','Price']].min()"
   ]
  },
  {
   "cell_type": "markdown",
   "metadata": {},
   "source": [
    "## Top 20 Bestseller books in Amazon.de based on Ratings"
   ]
  },
  {
   "cell_type": "code",
   "execution_count": 36,
   "metadata": {
    "ExecuteTime": {
     "end_time": "2021-06-29T12:03:15.555622Z",
     "start_time": "2021-06-29T12:03:15.405327Z"
    }
   },
   "outputs": [
    {
     "data": {
      "application/vnd.plotly.v1+json": {
       "config": {
        "plotlyServerURL": "https://plot.ly"
       },
       "data": [
        {
         "alignmentgroup": "True",
         "hovertemplate": "Numeric Ratings=%{x}<br>Book Title=%{y}<extra></extra>",
         "legendgroup": "",
         "marker": {
          "color": "rgb(251,180,174)",
          "opacity": 0.5
         },
         "name": "",
         "offsetgroup": "",
         "orientation": "h",
         "showlegend": false,
         "textposition": "auto",
         "type": "bar",
         "x": [
          4.9,
          4.9,
          4.9,
          4.9,
          4.9,
          4.8,
          4.8,
          4.8,
          4.8,
          4.8,
          4.8,
          4.8,
          4.8,
          4.8,
          4.8,
          4.8,
          4.8,
          4.8,
          4.8,
          4.8
         ],
         "xaxis": "x",
         "y": [
          "Dutch Oven: Neue Rezepte von der Sauerländer BBCrew",
          "Jujutsu Kaisen – Band 1",
          "Die Schule der magischen Tiere – Endlich Ferien 6: Hatice und Mette-Maja (6)",
          "Die Schule der magischen Tiere 2: Voller Löcher! (2)",
          "Chainsaw Man 01",
          "Mein erster Schultag - Mädchen: Eintragbuch zur Einschulung für Mädchen - Erinnerungsbuch zum Schulstart - Geschenke für die Schultüte (Eintragbücher)",
          "Das Übungsheft Mathematik 3: Denk- und Rechentraining: Denk- und Rechentraining. Mit Lösungsheft und Stickerbogen",
          "NARUTO Massiv 1: Die Originalserie als umfangreiche Sammelbandausgabe! (1)",
          "Meine Kindergarten-Freunde (Fahrzeuge): Freundebuch ab 3 Jahren für Kindergarten und Kita, für Jungen und Mädchen",
          "Der Löwe in dir",
          "Das NEINhorn",
          "Mein Gebetswürfel zur guten Nacht",
          "Pokémon: Das große Lexikon: Mehr als 300 Seiten geballtes Wissen - für alle kleinen und großen Pokémon-Fans!",
          "Kindergartenblock - Das kann ich schon! ab 4 Jahre, A5-Block (Übungsmaterial für Kindergarten und Vorschule, Band 620)",
          "Die Schule der magischen Tiere 1: Die Schule der magischen Tiere (1)",
          "English G Lighthouse - Allgemeine Ausgabe / Band 1: 5. Schuljahr - Workbook mit Audios online",
          "Diercke Weltatlas - Aktuelle Ausgabe",
          "Lies mal - Hefte 3 und 4 (Paket): Vom Wort zum Text - Anfangslesen",
          "Dinoabenteuer für Erstleser - Leserabe 1. Klasse - Erstlesebuch für Kinder ab 6 Jahren (Leserabe - Sonderausgaben)",
          "Rechtschreiben 2: Das Selbstlernheft"
         ],
         "yaxis": "y"
        }
       ],
       "layout": {
        "barmode": "relative",
        "legend": {
         "tracegroupgap": 0
        },
        "template": {
         "data": {
          "bar": [
           {
            "error_x": {
             "color": "#2a3f5f"
            },
            "error_y": {
             "color": "#2a3f5f"
            },
            "marker": {
             "line": {
              "color": "#E5ECF6",
              "width": 0.5
             }
            },
            "type": "bar"
           }
          ],
          "barpolar": [
           {
            "marker": {
             "line": {
              "color": "#E5ECF6",
              "width": 0.5
             }
            },
            "type": "barpolar"
           }
          ],
          "carpet": [
           {
            "aaxis": {
             "endlinecolor": "#2a3f5f",
             "gridcolor": "white",
             "linecolor": "white",
             "minorgridcolor": "white",
             "startlinecolor": "#2a3f5f"
            },
            "baxis": {
             "endlinecolor": "#2a3f5f",
             "gridcolor": "white",
             "linecolor": "white",
             "minorgridcolor": "white",
             "startlinecolor": "#2a3f5f"
            },
            "type": "carpet"
           }
          ],
          "choropleth": [
           {
            "colorbar": {
             "outlinewidth": 0,
             "ticks": ""
            },
            "type": "choropleth"
           }
          ],
          "contour": [
           {
            "colorbar": {
             "outlinewidth": 0,
             "ticks": ""
            },
            "colorscale": [
             [
              0,
              "#0d0887"
             ],
             [
              0.1111111111111111,
              "#46039f"
             ],
             [
              0.2222222222222222,
              "#7201a8"
             ],
             [
              0.3333333333333333,
              "#9c179e"
             ],
             [
              0.4444444444444444,
              "#bd3786"
             ],
             [
              0.5555555555555556,
              "#d8576b"
             ],
             [
              0.6666666666666666,
              "#ed7953"
             ],
             [
              0.7777777777777778,
              "#fb9f3a"
             ],
             [
              0.8888888888888888,
              "#fdca26"
             ],
             [
              1,
              "#f0f921"
             ]
            ],
            "type": "contour"
           }
          ],
          "contourcarpet": [
           {
            "colorbar": {
             "outlinewidth": 0,
             "ticks": ""
            },
            "type": "contourcarpet"
           }
          ],
          "heatmap": [
           {
            "colorbar": {
             "outlinewidth": 0,
             "ticks": ""
            },
            "colorscale": [
             [
              0,
              "#0d0887"
             ],
             [
              0.1111111111111111,
              "#46039f"
             ],
             [
              0.2222222222222222,
              "#7201a8"
             ],
             [
              0.3333333333333333,
              "#9c179e"
             ],
             [
              0.4444444444444444,
              "#bd3786"
             ],
             [
              0.5555555555555556,
              "#d8576b"
             ],
             [
              0.6666666666666666,
              "#ed7953"
             ],
             [
              0.7777777777777778,
              "#fb9f3a"
             ],
             [
              0.8888888888888888,
              "#fdca26"
             ],
             [
              1,
              "#f0f921"
             ]
            ],
            "type": "heatmap"
           }
          ],
          "heatmapgl": [
           {
            "colorbar": {
             "outlinewidth": 0,
             "ticks": ""
            },
            "colorscale": [
             [
              0,
              "#0d0887"
             ],
             [
              0.1111111111111111,
              "#46039f"
             ],
             [
              0.2222222222222222,
              "#7201a8"
             ],
             [
              0.3333333333333333,
              "#9c179e"
             ],
             [
              0.4444444444444444,
              "#bd3786"
             ],
             [
              0.5555555555555556,
              "#d8576b"
             ],
             [
              0.6666666666666666,
              "#ed7953"
             ],
             [
              0.7777777777777778,
              "#fb9f3a"
             ],
             [
              0.8888888888888888,
              "#fdca26"
             ],
             [
              1,
              "#f0f921"
             ]
            ],
            "type": "heatmapgl"
           }
          ],
          "histogram": [
           {
            "marker": {
             "colorbar": {
              "outlinewidth": 0,
              "ticks": ""
             }
            },
            "type": "histogram"
           }
          ],
          "histogram2d": [
           {
            "colorbar": {
             "outlinewidth": 0,
             "ticks": ""
            },
            "colorscale": [
             [
              0,
              "#0d0887"
             ],
             [
              0.1111111111111111,
              "#46039f"
             ],
             [
              0.2222222222222222,
              "#7201a8"
             ],
             [
              0.3333333333333333,
              "#9c179e"
             ],
             [
              0.4444444444444444,
              "#bd3786"
             ],
             [
              0.5555555555555556,
              "#d8576b"
             ],
             [
              0.6666666666666666,
              "#ed7953"
             ],
             [
              0.7777777777777778,
              "#fb9f3a"
             ],
             [
              0.8888888888888888,
              "#fdca26"
             ],
             [
              1,
              "#f0f921"
             ]
            ],
            "type": "histogram2d"
           }
          ],
          "histogram2dcontour": [
           {
            "colorbar": {
             "outlinewidth": 0,
             "ticks": ""
            },
            "colorscale": [
             [
              0,
              "#0d0887"
             ],
             [
              0.1111111111111111,
              "#46039f"
             ],
             [
              0.2222222222222222,
              "#7201a8"
             ],
             [
              0.3333333333333333,
              "#9c179e"
             ],
             [
              0.4444444444444444,
              "#bd3786"
             ],
             [
              0.5555555555555556,
              "#d8576b"
             ],
             [
              0.6666666666666666,
              "#ed7953"
             ],
             [
              0.7777777777777778,
              "#fb9f3a"
             ],
             [
              0.8888888888888888,
              "#fdca26"
             ],
             [
              1,
              "#f0f921"
             ]
            ],
            "type": "histogram2dcontour"
           }
          ],
          "mesh3d": [
           {
            "colorbar": {
             "outlinewidth": 0,
             "ticks": ""
            },
            "type": "mesh3d"
           }
          ],
          "parcoords": [
           {
            "line": {
             "colorbar": {
              "outlinewidth": 0,
              "ticks": ""
             }
            },
            "type": "parcoords"
           }
          ],
          "pie": [
           {
            "automargin": true,
            "type": "pie"
           }
          ],
          "scatter": [
           {
            "marker": {
             "colorbar": {
              "outlinewidth": 0,
              "ticks": ""
             }
            },
            "type": "scatter"
           }
          ],
          "scatter3d": [
           {
            "line": {
             "colorbar": {
              "outlinewidth": 0,
              "ticks": ""
             }
            },
            "marker": {
             "colorbar": {
              "outlinewidth": 0,
              "ticks": ""
             }
            },
            "type": "scatter3d"
           }
          ],
          "scattercarpet": [
           {
            "marker": {
             "colorbar": {
              "outlinewidth": 0,
              "ticks": ""
             }
            },
            "type": "scattercarpet"
           }
          ],
          "scattergeo": [
           {
            "marker": {
             "colorbar": {
              "outlinewidth": 0,
              "ticks": ""
             }
            },
            "type": "scattergeo"
           }
          ],
          "scattergl": [
           {
            "marker": {
             "colorbar": {
              "outlinewidth": 0,
              "ticks": ""
             }
            },
            "type": "scattergl"
           }
          ],
          "scattermapbox": [
           {
            "marker": {
             "colorbar": {
              "outlinewidth": 0,
              "ticks": ""
             }
            },
            "type": "scattermapbox"
           }
          ],
          "scatterpolar": [
           {
            "marker": {
             "colorbar": {
              "outlinewidth": 0,
              "ticks": ""
             }
            },
            "type": "scatterpolar"
           }
          ],
          "scatterpolargl": [
           {
            "marker": {
             "colorbar": {
              "outlinewidth": 0,
              "ticks": ""
             }
            },
            "type": "scatterpolargl"
           }
          ],
          "scatterternary": [
           {
            "marker": {
             "colorbar": {
              "outlinewidth": 0,
              "ticks": ""
             }
            },
            "type": "scatterternary"
           }
          ],
          "surface": [
           {
            "colorbar": {
             "outlinewidth": 0,
             "ticks": ""
            },
            "colorscale": [
             [
              0,
              "#0d0887"
             ],
             [
              0.1111111111111111,
              "#46039f"
             ],
             [
              0.2222222222222222,
              "#7201a8"
             ],
             [
              0.3333333333333333,
              "#9c179e"
             ],
             [
              0.4444444444444444,
              "#bd3786"
             ],
             [
              0.5555555555555556,
              "#d8576b"
             ],
             [
              0.6666666666666666,
              "#ed7953"
             ],
             [
              0.7777777777777778,
              "#fb9f3a"
             ],
             [
              0.8888888888888888,
              "#fdca26"
             ],
             [
              1,
              "#f0f921"
             ]
            ],
            "type": "surface"
           }
          ],
          "table": [
           {
            "cells": {
             "fill": {
              "color": "#EBF0F8"
             },
             "line": {
              "color": "white"
             }
            },
            "header": {
             "fill": {
              "color": "#C8D4E3"
             },
             "line": {
              "color": "white"
             }
            },
            "type": "table"
           }
          ]
         },
         "layout": {
          "annotationdefaults": {
           "arrowcolor": "#2a3f5f",
           "arrowhead": 0,
           "arrowwidth": 1
          },
          "autotypenumbers": "strict",
          "coloraxis": {
           "colorbar": {
            "outlinewidth": 0,
            "ticks": ""
           }
          },
          "colorscale": {
           "diverging": [
            [
             0,
             "#8e0152"
            ],
            [
             0.1,
             "#c51b7d"
            ],
            [
             0.2,
             "#de77ae"
            ],
            [
             0.3,
             "#f1b6da"
            ],
            [
             0.4,
             "#fde0ef"
            ],
            [
             0.5,
             "#f7f7f7"
            ],
            [
             0.6,
             "#e6f5d0"
            ],
            [
             0.7,
             "#b8e186"
            ],
            [
             0.8,
             "#7fbc41"
            ],
            [
             0.9,
             "#4d9221"
            ],
            [
             1,
             "#276419"
            ]
           ],
           "sequential": [
            [
             0,
             "#0d0887"
            ],
            [
             0.1111111111111111,
             "#46039f"
            ],
            [
             0.2222222222222222,
             "#7201a8"
            ],
            [
             0.3333333333333333,
             "#9c179e"
            ],
            [
             0.4444444444444444,
             "#bd3786"
            ],
            [
             0.5555555555555556,
             "#d8576b"
            ],
            [
             0.6666666666666666,
             "#ed7953"
            ],
            [
             0.7777777777777778,
             "#fb9f3a"
            ],
            [
             0.8888888888888888,
             "#fdca26"
            ],
            [
             1,
             "#f0f921"
            ]
           ],
           "sequentialminus": [
            [
             0,
             "#0d0887"
            ],
            [
             0.1111111111111111,
             "#46039f"
            ],
            [
             0.2222222222222222,
             "#7201a8"
            ],
            [
             0.3333333333333333,
             "#9c179e"
            ],
            [
             0.4444444444444444,
             "#bd3786"
            ],
            [
             0.5555555555555556,
             "#d8576b"
            ],
            [
             0.6666666666666666,
             "#ed7953"
            ],
            [
             0.7777777777777778,
             "#fb9f3a"
            ],
            [
             0.8888888888888888,
             "#fdca26"
            ],
            [
             1,
             "#f0f921"
            ]
           ]
          },
          "colorway": [
           "#636efa",
           "#EF553B",
           "#00cc96",
           "#ab63fa",
           "#FFA15A",
           "#19d3f3",
           "#FF6692",
           "#B6E880",
           "#FF97FF",
           "#FECB52"
          ],
          "font": {
           "color": "#2a3f5f"
          },
          "geo": {
           "bgcolor": "white",
           "lakecolor": "white",
           "landcolor": "#E5ECF6",
           "showlakes": true,
           "showland": true,
           "subunitcolor": "white"
          },
          "hoverlabel": {
           "align": "left"
          },
          "hovermode": "closest",
          "mapbox": {
           "style": "light"
          },
          "paper_bgcolor": "white",
          "plot_bgcolor": "#E5ECF6",
          "polar": {
           "angularaxis": {
            "gridcolor": "white",
            "linecolor": "white",
            "ticks": ""
           },
           "bgcolor": "#E5ECF6",
           "radialaxis": {
            "gridcolor": "white",
            "linecolor": "white",
            "ticks": ""
           }
          },
          "scene": {
           "xaxis": {
            "backgroundcolor": "#E5ECF6",
            "gridcolor": "white",
            "gridwidth": 2,
            "linecolor": "white",
            "showbackground": true,
            "ticks": "",
            "zerolinecolor": "white"
           },
           "yaxis": {
            "backgroundcolor": "#E5ECF6",
            "gridcolor": "white",
            "gridwidth": 2,
            "linecolor": "white",
            "showbackground": true,
            "ticks": "",
            "zerolinecolor": "white"
           },
           "zaxis": {
            "backgroundcolor": "#E5ECF6",
            "gridcolor": "white",
            "gridwidth": 2,
            "linecolor": "white",
            "showbackground": true,
            "ticks": "",
            "zerolinecolor": "white"
           }
          },
          "shapedefaults": {
           "line": {
            "color": "#2a3f5f"
           }
          },
          "ternary": {
           "aaxis": {
            "gridcolor": "white",
            "linecolor": "white",
            "ticks": ""
           },
           "baxis": {
            "gridcolor": "white",
            "linecolor": "white",
            "ticks": ""
           },
           "bgcolor": "#E5ECF6",
           "caxis": {
            "gridcolor": "white",
            "linecolor": "white",
            "ticks": ""
           }
          },
          "title": {
           "x": 0.05
          },
          "xaxis": {
           "automargin": true,
           "gridcolor": "white",
           "linecolor": "white",
           "ticks": "",
           "title": {
            "standoff": 15
           },
           "zerolinecolor": "white",
           "zerolinewidth": 2
          },
          "yaxis": {
           "automargin": true,
           "gridcolor": "white",
           "linecolor": "white",
           "ticks": "",
           "title": {
            "standoff": 15
           },
           "zerolinecolor": "white",
           "zerolinewidth": 2
          }
         }
        },
        "title": {
         "text": "Top 20 Bestseller books in Amazon.de based on ratings"
        },
        "xaxis": {
         "anchor": "y",
         "domain": [
          0,
          1
         ],
         "title": {
          "text": "Numeric Ratings"
         }
        },
        "yaxis": {
         "anchor": "x",
         "domain": [
          0,
          1
         ],
         "title": {
          "text": "Book Title"
         }
        }
       }
      },
      "text/html": [
       "<div>                            <div id=\"eb3b67c2-23f1-4cd6-a085-8d6e597d5045\" class=\"plotly-graph-div\" style=\"height:525px; width:100%;\"></div>            <script type=\"text/javascript\">                require([\"plotly\"], function(Plotly) {                    window.PLOTLYENV=window.PLOTLYENV || {};                                    if (document.getElementById(\"eb3b67c2-23f1-4cd6-a085-8d6e597d5045\")) {                    Plotly.newPlot(                        \"eb3b67c2-23f1-4cd6-a085-8d6e597d5045\",                        [{\"alignmentgroup\": \"True\", \"hovertemplate\": \"Numeric Ratings=%{x}<br>Book Title=%{y}<extra></extra>\", \"legendgroup\": \"\", \"marker\": {\"color\": \"rgb(251,180,174)\", \"opacity\": 0.5}, \"name\": \"\", \"offsetgroup\": \"\", \"orientation\": \"h\", \"showlegend\": false, \"textposition\": \"auto\", \"type\": \"bar\", \"x\": [4.9, 4.9, 4.9, 4.9, 4.9, 4.8, 4.8, 4.8, 4.8, 4.8, 4.8, 4.8, 4.8, 4.8, 4.8, 4.8, 4.8, 4.8, 4.8, 4.8], \"xaxis\": \"x\", \"y\": [\"Dutch Oven: Neue Rezepte von der Sauerl\\u00e4nder BBCrew\", \"Jujutsu Kaisen \\u2013 Band 1\", \"Die Schule der magischen Tiere \\u2013 Endlich Ferien 6: Hatice und Mette-Maja (6)\", \"Die Schule der magischen Tiere 2: Voller L\\u00f6cher! (2)\", \"Chainsaw Man 01\", \"Mein erster Schultag - M\\u00e4dchen: Eintragbuch zur Einschulung f\\u00fcr M\\u00e4dchen - Erinnerungsbuch zum Schulstart - Geschenke f\\u00fcr die Schult\\u00fcte (Eintragb\\u00fccher)\", \"Das \\u00dcbungsheft Mathematik 3: Denk- und Rechentraining: Denk- und Rechentraining. Mit L\\u00f6sungsheft und Stickerbogen\", \"NARUTO Massiv 1: Die Originalserie als umfangreiche Sammelbandausgabe! (1)\", \"Meine Kindergarten-Freunde (Fahrzeuge): Freundebuch ab 3 Jahren f\\u00fcr Kindergarten und Kita, f\\u00fcr Jungen und M\\u00e4dchen\", \"Der L\\u00f6we in dir\", \"Das NEINhorn\", \"Mein Gebetsw\\u00fcrfel zur guten Nacht\", \"Pok\\u00e9mon: Das gro\\u00dfe Lexikon: Mehr als 300 Seiten geballtes Wissen - f\\u00fcr alle kleinen und gro\\u00dfen Pok\\u00e9mon-Fans!\", \"Kindergartenblock - Das kann ich schon! ab 4 Jahre, A5-Block (\\u00dcbungsmaterial f\\u00fcr Kindergarten und Vorschule, Band 620)\", \"Die Schule der magischen Tiere 1: Die Schule der magischen Tiere (1)\", \"English G Lighthouse - Allgemeine Ausgabe / Band 1: 5. Schuljahr - Workbook mit Audios online\", \"Diercke Weltatlas - Aktuelle Ausgabe\", \"Lies mal - Hefte 3 und 4 (Paket): Vom Wort zum Text - Anfangslesen\", \"Dinoabenteuer f\\u00fcr Erstleser - Leserabe 1. Klasse - Erstlesebuch f\\u00fcr Kinder ab 6 Jahren (Leserabe - Sonderausgaben)\", \"Rechtschreiben 2: Das Selbstlernheft\"], \"yaxis\": \"y\"}],                        {\"barmode\": \"relative\", \"legend\": {\"tracegroupgap\": 0}, \"template\": {\"data\": {\"bar\": [{\"error_x\": {\"color\": \"#2a3f5f\"}, \"error_y\": {\"color\": \"#2a3f5f\"}, \"marker\": {\"line\": {\"color\": \"#E5ECF6\", \"width\": 0.5}}, \"type\": \"bar\"}], \"barpolar\": [{\"marker\": {\"line\": {\"color\": \"#E5ECF6\", \"width\": 0.5}}, \"type\": \"barpolar\"}], \"carpet\": [{\"aaxis\": {\"endlinecolor\": \"#2a3f5f\", \"gridcolor\": \"white\", \"linecolor\": \"white\", \"minorgridcolor\": \"white\", \"startlinecolor\": \"#2a3f5f\"}, \"baxis\": {\"endlinecolor\": \"#2a3f5f\", \"gridcolor\": \"white\", \"linecolor\": \"white\", \"minorgridcolor\": \"white\", \"startlinecolor\": \"#2a3f5f\"}, \"type\": \"carpet\"}], \"choropleth\": [{\"colorbar\": {\"outlinewidth\": 0, \"ticks\": \"\"}, \"type\": \"choropleth\"}], \"contour\": [{\"colorbar\": {\"outlinewidth\": 0, \"ticks\": \"\"}, \"colorscale\": [[0.0, \"#0d0887\"], [0.1111111111111111, \"#46039f\"], [0.2222222222222222, \"#7201a8\"], [0.3333333333333333, \"#9c179e\"], [0.4444444444444444, \"#bd3786\"], [0.5555555555555556, \"#d8576b\"], [0.6666666666666666, \"#ed7953\"], [0.7777777777777778, \"#fb9f3a\"], [0.8888888888888888, \"#fdca26\"], [1.0, \"#f0f921\"]], \"type\": \"contour\"}], \"contourcarpet\": [{\"colorbar\": {\"outlinewidth\": 0, \"ticks\": \"\"}, \"type\": \"contourcarpet\"}], \"heatmap\": [{\"colorbar\": {\"outlinewidth\": 0, \"ticks\": \"\"}, \"colorscale\": [[0.0, \"#0d0887\"], [0.1111111111111111, \"#46039f\"], [0.2222222222222222, \"#7201a8\"], [0.3333333333333333, \"#9c179e\"], [0.4444444444444444, \"#bd3786\"], [0.5555555555555556, \"#d8576b\"], [0.6666666666666666, \"#ed7953\"], [0.7777777777777778, \"#fb9f3a\"], [0.8888888888888888, \"#fdca26\"], [1.0, \"#f0f921\"]], \"type\": \"heatmap\"}], \"heatmapgl\": [{\"colorbar\": {\"outlinewidth\": 0, \"ticks\": \"\"}, \"colorscale\": [[0.0, \"#0d0887\"], [0.1111111111111111, \"#46039f\"], [0.2222222222222222, \"#7201a8\"], [0.3333333333333333, \"#9c179e\"], [0.4444444444444444, \"#bd3786\"], [0.5555555555555556, \"#d8576b\"], [0.6666666666666666, \"#ed7953\"], [0.7777777777777778, \"#fb9f3a\"], [0.8888888888888888, \"#fdca26\"], [1.0, \"#f0f921\"]], \"type\": \"heatmapgl\"}], \"histogram\": [{\"marker\": {\"colorbar\": {\"outlinewidth\": 0, \"ticks\": \"\"}}, \"type\": \"histogram\"}], \"histogram2d\": [{\"colorbar\": {\"outlinewidth\": 0, \"ticks\": \"\"}, \"colorscale\": [[0.0, \"#0d0887\"], [0.1111111111111111, \"#46039f\"], [0.2222222222222222, \"#7201a8\"], [0.3333333333333333, \"#9c179e\"], [0.4444444444444444, \"#bd3786\"], [0.5555555555555556, \"#d8576b\"], [0.6666666666666666, \"#ed7953\"], [0.7777777777777778, \"#fb9f3a\"], [0.8888888888888888, \"#fdca26\"], [1.0, \"#f0f921\"]], \"type\": \"histogram2d\"}], \"histogram2dcontour\": [{\"colorbar\": {\"outlinewidth\": 0, \"ticks\": \"\"}, \"colorscale\": [[0.0, \"#0d0887\"], [0.1111111111111111, \"#46039f\"], [0.2222222222222222, \"#7201a8\"], [0.3333333333333333, \"#9c179e\"], [0.4444444444444444, \"#bd3786\"], [0.5555555555555556, \"#d8576b\"], [0.6666666666666666, \"#ed7953\"], [0.7777777777777778, \"#fb9f3a\"], [0.8888888888888888, \"#fdca26\"], [1.0, \"#f0f921\"]], \"type\": \"histogram2dcontour\"}], \"mesh3d\": [{\"colorbar\": {\"outlinewidth\": 0, \"ticks\": \"\"}, \"type\": \"mesh3d\"}], \"parcoords\": [{\"line\": {\"colorbar\": {\"outlinewidth\": 0, \"ticks\": \"\"}}, \"type\": \"parcoords\"}], \"pie\": [{\"automargin\": true, \"type\": \"pie\"}], \"scatter\": [{\"marker\": {\"colorbar\": {\"outlinewidth\": 0, \"ticks\": \"\"}}, \"type\": \"scatter\"}], \"scatter3d\": [{\"line\": {\"colorbar\": {\"outlinewidth\": 0, \"ticks\": \"\"}}, \"marker\": {\"colorbar\": {\"outlinewidth\": 0, \"ticks\": \"\"}}, \"type\": \"scatter3d\"}], \"scattercarpet\": [{\"marker\": {\"colorbar\": {\"outlinewidth\": 0, \"ticks\": \"\"}}, \"type\": \"scattercarpet\"}], \"scattergeo\": [{\"marker\": {\"colorbar\": {\"outlinewidth\": 0, \"ticks\": \"\"}}, \"type\": \"scattergeo\"}], \"scattergl\": [{\"marker\": {\"colorbar\": {\"outlinewidth\": 0, \"ticks\": \"\"}}, \"type\": \"scattergl\"}], \"scattermapbox\": [{\"marker\": {\"colorbar\": {\"outlinewidth\": 0, \"ticks\": \"\"}}, \"type\": \"scattermapbox\"}], \"scatterpolar\": [{\"marker\": {\"colorbar\": {\"outlinewidth\": 0, \"ticks\": \"\"}}, \"type\": \"scatterpolar\"}], \"scatterpolargl\": [{\"marker\": {\"colorbar\": {\"outlinewidth\": 0, \"ticks\": \"\"}}, \"type\": \"scatterpolargl\"}], \"scatterternary\": [{\"marker\": {\"colorbar\": {\"outlinewidth\": 0, \"ticks\": \"\"}}, \"type\": \"scatterternary\"}], \"surface\": [{\"colorbar\": {\"outlinewidth\": 0, \"ticks\": \"\"}, \"colorscale\": [[0.0, \"#0d0887\"], [0.1111111111111111, \"#46039f\"], [0.2222222222222222, \"#7201a8\"], [0.3333333333333333, \"#9c179e\"], [0.4444444444444444, \"#bd3786\"], [0.5555555555555556, \"#d8576b\"], [0.6666666666666666, \"#ed7953\"], [0.7777777777777778, \"#fb9f3a\"], [0.8888888888888888, \"#fdca26\"], [1.0, \"#f0f921\"]], \"type\": \"surface\"}], \"table\": [{\"cells\": {\"fill\": {\"color\": \"#EBF0F8\"}, \"line\": {\"color\": \"white\"}}, \"header\": {\"fill\": {\"color\": \"#C8D4E3\"}, \"line\": {\"color\": \"white\"}}, \"type\": \"table\"}]}, \"layout\": {\"annotationdefaults\": {\"arrowcolor\": \"#2a3f5f\", \"arrowhead\": 0, \"arrowwidth\": 1}, \"autotypenumbers\": \"strict\", \"coloraxis\": {\"colorbar\": {\"outlinewidth\": 0, \"ticks\": \"\"}}, \"colorscale\": {\"diverging\": [[0, \"#8e0152\"], [0.1, \"#c51b7d\"], [0.2, \"#de77ae\"], [0.3, \"#f1b6da\"], [0.4, \"#fde0ef\"], [0.5, \"#f7f7f7\"], [0.6, \"#e6f5d0\"], [0.7, \"#b8e186\"], [0.8, \"#7fbc41\"], [0.9, \"#4d9221\"], [1, \"#276419\"]], \"sequential\": [[0.0, \"#0d0887\"], [0.1111111111111111, \"#46039f\"], [0.2222222222222222, \"#7201a8\"], [0.3333333333333333, \"#9c179e\"], [0.4444444444444444, \"#bd3786\"], [0.5555555555555556, \"#d8576b\"], [0.6666666666666666, \"#ed7953\"], [0.7777777777777778, \"#fb9f3a\"], [0.8888888888888888, \"#fdca26\"], [1.0, \"#f0f921\"]], \"sequentialminus\": [[0.0, \"#0d0887\"], [0.1111111111111111, \"#46039f\"], [0.2222222222222222, \"#7201a8\"], [0.3333333333333333, \"#9c179e\"], [0.4444444444444444, \"#bd3786\"], [0.5555555555555556, \"#d8576b\"], [0.6666666666666666, \"#ed7953\"], [0.7777777777777778, \"#fb9f3a\"], [0.8888888888888888, \"#fdca26\"], [1.0, \"#f0f921\"]]}, \"colorway\": [\"#636efa\", \"#EF553B\", \"#00cc96\", \"#ab63fa\", \"#FFA15A\", \"#19d3f3\", \"#FF6692\", \"#B6E880\", \"#FF97FF\", \"#FECB52\"], \"font\": {\"color\": \"#2a3f5f\"}, \"geo\": {\"bgcolor\": \"white\", \"lakecolor\": \"white\", \"landcolor\": \"#E5ECF6\", \"showlakes\": true, \"showland\": true, \"subunitcolor\": \"white\"}, \"hoverlabel\": {\"align\": \"left\"}, \"hovermode\": \"closest\", \"mapbox\": {\"style\": \"light\"}, \"paper_bgcolor\": \"white\", \"plot_bgcolor\": \"#E5ECF6\", \"polar\": {\"angularaxis\": {\"gridcolor\": \"white\", \"linecolor\": \"white\", \"ticks\": \"\"}, \"bgcolor\": \"#E5ECF6\", \"radialaxis\": {\"gridcolor\": \"white\", \"linecolor\": \"white\", \"ticks\": \"\"}}, \"scene\": {\"xaxis\": {\"backgroundcolor\": \"#E5ECF6\", \"gridcolor\": \"white\", \"gridwidth\": 2, \"linecolor\": \"white\", \"showbackground\": true, \"ticks\": \"\", \"zerolinecolor\": \"white\"}, \"yaxis\": {\"backgroundcolor\": \"#E5ECF6\", \"gridcolor\": \"white\", \"gridwidth\": 2, \"linecolor\": \"white\", \"showbackground\": true, \"ticks\": \"\", \"zerolinecolor\": \"white\"}, \"zaxis\": {\"backgroundcolor\": \"#E5ECF6\", \"gridcolor\": \"white\", \"gridwidth\": 2, \"linecolor\": \"white\", \"showbackground\": true, \"ticks\": \"\", \"zerolinecolor\": \"white\"}}, \"shapedefaults\": {\"line\": {\"color\": \"#2a3f5f\"}}, \"ternary\": {\"aaxis\": {\"gridcolor\": \"white\", \"linecolor\": \"white\", \"ticks\": \"\"}, \"baxis\": {\"gridcolor\": \"white\", \"linecolor\": \"white\", \"ticks\": \"\"}, \"bgcolor\": \"#E5ECF6\", \"caxis\": {\"gridcolor\": \"white\", \"linecolor\": \"white\", \"ticks\": \"\"}}, \"title\": {\"x\": 0.05}, \"xaxis\": {\"automargin\": true, \"gridcolor\": \"white\", \"linecolor\": \"white\", \"ticks\": \"\", \"title\": {\"standoff\": 15}, \"zerolinecolor\": \"white\", \"zerolinewidth\": 2}, \"yaxis\": {\"automargin\": true, \"gridcolor\": \"white\", \"linecolor\": \"white\", \"ticks\": \"\", \"title\": {\"standoff\": 15}, \"zerolinecolor\": \"white\", \"zerolinewidth\": 2}}}, \"title\": {\"text\": \"Top 20 Bestseller books in Amazon.de based on ratings\"}, \"xaxis\": {\"anchor\": \"y\", \"domain\": [0.0, 1.0], \"title\": {\"text\": \"Numeric Ratings\"}}, \"yaxis\": {\"anchor\": \"x\", \"domain\": [0.0, 1.0], \"title\": {\"text\": \"Book Title\"}}},                        {\"responsive\": true}                    ).then(function(){\n",
       "                            \n",
       "var gd = document.getElementById('eb3b67c2-23f1-4cd6-a085-8d6e597d5045');\n",
       "var x = new MutationObserver(function (mutations, observer) {{\n",
       "        var display = window.getComputedStyle(gd).display;\n",
       "        if (!display || display === 'none') {{\n",
       "            console.log([gd, 'removed!']);\n",
       "            Plotly.purge(gd);\n",
       "            observer.disconnect();\n",
       "        }}\n",
       "}});\n",
       "\n",
       "// Listen for the removal of the full notebook cells\n",
       "var notebookContainer = gd.closest('#notebook-container');\n",
       "if (notebookContainer) {{\n",
       "    x.observe(notebookContainer, {childList: true});\n",
       "}}\n",
       "\n",
       "// Listen for the clearing of the current output cell\n",
       "var outputEl = gd.closest('.output');\n",
       "if (outputEl) {{\n",
       "    x.observe(outputEl, {childList: true});\n",
       "}}\n",
       "\n",
       "                        })                };                });            </script>        </div>"
      ]
     },
     "metadata": {},
     "output_type": "display_data"
    }
   ],
   "source": [
    "a = df.groupby(by=\"Book Title\")[[\"Numeric Ratings\"]].max().sort_values(\"Numeric Ratings\",ascending=False)[:20]\n",
    "fig = px.bar(a,x=\"Numeric Ratings\", color_discrete_sequence=px.colors.qualitative.Pastel1,opacity = 0.5, title= \"Top 20 Bestseller books in Amazon.de based on ratings\")\n",
    "fig.show()"
   ]
  },
  {
   "cell_type": "markdown",
   "metadata": {},
   "source": [
    "So we can see that __Dierche Weltatlas- Aktuele Ausgabe__ is the best book based on the ratings.\n",
    "\n",
    "## Based on Ratings sums of the Percentages of Book prices"
   ]
  },
  {
   "cell_type": "code",
   "execution_count": 37,
   "metadata": {
    "ExecuteTime": {
     "end_time": "2021-06-29T12:03:17.070128Z",
     "start_time": "2021-06-29T12:03:16.886395Z"
    }
   },
   "outputs": [
    {
     "data": {
      "application/vnd.plotly.v1+json": {
       "config": {
        "plotlyServerURL": "https://plot.ly"
       },
       "data": [
        {
         "alignmentgroup": "True",
         "bingroup": "x",
         "histfunc": "sum",
         "hovertemplate": "Numeric Ratings=%{x}<br>sum of Price=%{y}<extra></extra>",
         "legendgroup": "0.0",
         "marker": {
          "color": "#636efa",
          "opacity": 0.5
         },
         "name": "0.0",
         "nbinsx": 10,
         "offsetgroup": "0.0",
         "orientation": "v",
         "showlegend": true,
         "type": "histogram",
         "x": [
          0
         ],
         "xaxis": "x",
         "y": [
          19.396
         ],
         "yaxis": "y"
        },
        {
         "alignmentgroup": "True",
         "bingroup": "x",
         "histfunc": "sum",
         "hovertemplate": "Numeric Ratings=%{x}<br>sum of Price=%{y}<extra></extra>",
         "legendgroup": "4.1",
         "marker": {
          "color": "#EF553B",
          "opacity": 0.5
         },
         "name": "4.1",
         "nbinsx": 10,
         "offsetgroup": "4.1",
         "orientation": "v",
         "showlegend": true,
         "type": "histogram",
         "x": [
          4.1
         ],
         "xaxis": "x",
         "y": [
          10.495000000000001
         ],
         "yaxis": "y"
        },
        {
         "alignmentgroup": "True",
         "bingroup": "x",
         "histfunc": "sum",
         "hovertemplate": "Numeric Ratings=%{x}<br>sum of Price=%{y}<extra></extra>",
         "legendgroup": "4.3",
         "marker": {
          "color": "#00cc96",
          "opacity": 0.5
         },
         "name": "4.3",
         "nbinsx": 10,
         "offsetgroup": "4.3",
         "orientation": "v",
         "showlegend": true,
         "type": "histogram",
         "x": [
          4.3
         ],
         "xaxis": "x",
         "y": [
          17.313333333333333
         ],
         "yaxis": "y"
        },
        {
         "alignmentgroup": "True",
         "bingroup": "x",
         "histfunc": "sum",
         "hovertemplate": "Numeric Ratings=%{x}<br>sum of Price=%{y}<extra></extra>",
         "legendgroup": "4.4",
         "marker": {
          "color": "#ab63fa",
          "opacity": 0.5
         },
         "name": "4.4",
         "nbinsx": 10,
         "offsetgroup": "4.4",
         "orientation": "v",
         "showlegend": true,
         "type": "histogram",
         "x": [
          4.4
         ],
         "xaxis": "x",
         "y": [
          13.497499999999999
         ],
         "yaxis": "y"
        },
        {
         "alignmentgroup": "True",
         "bingroup": "x",
         "histfunc": "sum",
         "hovertemplate": "Numeric Ratings=%{x}<br>sum of Price=%{y}<extra></extra>",
         "legendgroup": "4.5",
         "marker": {
          "color": "#FFA15A",
          "opacity": 0.5
         },
         "name": "4.5",
         "nbinsx": 10,
         "offsetgroup": "4.5",
         "orientation": "v",
         "showlegend": true,
         "type": "histogram",
         "x": [
          4.5
         ],
         "xaxis": "x",
         "y": [
          13.86888888888889
         ],
         "yaxis": "y"
        },
        {
         "alignmentgroup": "True",
         "bingroup": "x",
         "histfunc": "sum",
         "hovertemplate": "Numeric Ratings=%{x}<br>sum of Price=%{y}<extra></extra>",
         "legendgroup": "4.6",
         "marker": {
          "color": "#19d3f3",
          "opacity": 0.5
         },
         "name": "4.6",
         "nbinsx": 10,
         "offsetgroup": "4.6",
         "orientation": "v",
         "showlegend": true,
         "type": "histogram",
         "x": [
          4.6
         ],
         "xaxis": "x",
         "y": [
          12.31055555555556
         ],
         "yaxis": "y"
        },
        {
         "alignmentgroup": "True",
         "bingroup": "x",
         "histfunc": "sum",
         "hovertemplate": "Numeric Ratings=%{x}<br>sum of Price=%{y}<extra></extra>",
         "legendgroup": "4.7",
         "marker": {
          "color": "#FF6692",
          "opacity": 0.5
         },
         "name": "4.7",
         "nbinsx": 10,
         "offsetgroup": "4.7",
         "orientation": "v",
         "showlegend": true,
         "type": "histogram",
         "x": [
          4.7
         ],
         "xaxis": "x",
         "y": [
          12.389090909090909
         ],
         "yaxis": "y"
        },
        {
         "alignmentgroup": "True",
         "bingroup": "x",
         "histfunc": "sum",
         "hovertemplate": "Numeric Ratings=%{x}<br>sum of Price=%{y}<extra></extra>",
         "legendgroup": "4.8",
         "marker": {
          "color": "#B6E880",
          "opacity": 0.5
         },
         "name": "4.8",
         "nbinsx": 10,
         "offsetgroup": "4.8",
         "orientation": "v",
         "showlegend": true,
         "type": "histogram",
         "x": [
          4.8
         ],
         "xaxis": "x",
         "y": [
          12.007200000000003
         ],
         "yaxis": "y"
        },
        {
         "alignmentgroup": "True",
         "bingroup": "x",
         "histfunc": "sum",
         "hovertemplate": "Numeric Ratings=%{x}<br>sum of Price=%{y}<extra></extra>",
         "legendgroup": "4.9",
         "marker": {
          "color": "#FF97FF",
          "opacity": 0.5
         },
         "name": "4.9",
         "nbinsx": 10,
         "offsetgroup": "4.9",
         "orientation": "v",
         "showlegend": true,
         "type": "histogram",
         "x": [
          4.9
         ],
         "xaxis": "x",
         "y": [
          9.588000000000001
         ],
         "yaxis": "y"
        }
       ],
       "layout": {
        "barmode": "relative",
        "legend": {
         "title": {
          "text": "Numeric Ratings"
         },
         "tracegroupgap": 0
        },
        "template": {
         "data": {
          "bar": [
           {
            "error_x": {
             "color": "#2a3f5f"
            },
            "error_y": {
             "color": "#2a3f5f"
            },
            "marker": {
             "line": {
              "color": "#E5ECF6",
              "width": 0.5
             }
            },
            "type": "bar"
           }
          ],
          "barpolar": [
           {
            "marker": {
             "line": {
              "color": "#E5ECF6",
              "width": 0.5
             }
            },
            "type": "barpolar"
           }
          ],
          "carpet": [
           {
            "aaxis": {
             "endlinecolor": "#2a3f5f",
             "gridcolor": "white",
             "linecolor": "white",
             "minorgridcolor": "white",
             "startlinecolor": "#2a3f5f"
            },
            "baxis": {
             "endlinecolor": "#2a3f5f",
             "gridcolor": "white",
             "linecolor": "white",
             "minorgridcolor": "white",
             "startlinecolor": "#2a3f5f"
            },
            "type": "carpet"
           }
          ],
          "choropleth": [
           {
            "colorbar": {
             "outlinewidth": 0,
             "ticks": ""
            },
            "type": "choropleth"
           }
          ],
          "contour": [
           {
            "colorbar": {
             "outlinewidth": 0,
             "ticks": ""
            },
            "colorscale": [
             [
              0,
              "#0d0887"
             ],
             [
              0.1111111111111111,
              "#46039f"
             ],
             [
              0.2222222222222222,
              "#7201a8"
             ],
             [
              0.3333333333333333,
              "#9c179e"
             ],
             [
              0.4444444444444444,
              "#bd3786"
             ],
             [
              0.5555555555555556,
              "#d8576b"
             ],
             [
              0.6666666666666666,
              "#ed7953"
             ],
             [
              0.7777777777777778,
              "#fb9f3a"
             ],
             [
              0.8888888888888888,
              "#fdca26"
             ],
             [
              1,
              "#f0f921"
             ]
            ],
            "type": "contour"
           }
          ],
          "contourcarpet": [
           {
            "colorbar": {
             "outlinewidth": 0,
             "ticks": ""
            },
            "type": "contourcarpet"
           }
          ],
          "heatmap": [
           {
            "colorbar": {
             "outlinewidth": 0,
             "ticks": ""
            },
            "colorscale": [
             [
              0,
              "#0d0887"
             ],
             [
              0.1111111111111111,
              "#46039f"
             ],
             [
              0.2222222222222222,
              "#7201a8"
             ],
             [
              0.3333333333333333,
              "#9c179e"
             ],
             [
              0.4444444444444444,
              "#bd3786"
             ],
             [
              0.5555555555555556,
              "#d8576b"
             ],
             [
              0.6666666666666666,
              "#ed7953"
             ],
             [
              0.7777777777777778,
              "#fb9f3a"
             ],
             [
              0.8888888888888888,
              "#fdca26"
             ],
             [
              1,
              "#f0f921"
             ]
            ],
            "type": "heatmap"
           }
          ],
          "heatmapgl": [
           {
            "colorbar": {
             "outlinewidth": 0,
             "ticks": ""
            },
            "colorscale": [
             [
              0,
              "#0d0887"
             ],
             [
              0.1111111111111111,
              "#46039f"
             ],
             [
              0.2222222222222222,
              "#7201a8"
             ],
             [
              0.3333333333333333,
              "#9c179e"
             ],
             [
              0.4444444444444444,
              "#bd3786"
             ],
             [
              0.5555555555555556,
              "#d8576b"
             ],
             [
              0.6666666666666666,
              "#ed7953"
             ],
             [
              0.7777777777777778,
              "#fb9f3a"
             ],
             [
              0.8888888888888888,
              "#fdca26"
             ],
             [
              1,
              "#f0f921"
             ]
            ],
            "type": "heatmapgl"
           }
          ],
          "histogram": [
           {
            "marker": {
             "colorbar": {
              "outlinewidth": 0,
              "ticks": ""
             }
            },
            "type": "histogram"
           }
          ],
          "histogram2d": [
           {
            "colorbar": {
             "outlinewidth": 0,
             "ticks": ""
            },
            "colorscale": [
             [
              0,
              "#0d0887"
             ],
             [
              0.1111111111111111,
              "#46039f"
             ],
             [
              0.2222222222222222,
              "#7201a8"
             ],
             [
              0.3333333333333333,
              "#9c179e"
             ],
             [
              0.4444444444444444,
              "#bd3786"
             ],
             [
              0.5555555555555556,
              "#d8576b"
             ],
             [
              0.6666666666666666,
              "#ed7953"
             ],
             [
              0.7777777777777778,
              "#fb9f3a"
             ],
             [
              0.8888888888888888,
              "#fdca26"
             ],
             [
              1,
              "#f0f921"
             ]
            ],
            "type": "histogram2d"
           }
          ],
          "histogram2dcontour": [
           {
            "colorbar": {
             "outlinewidth": 0,
             "ticks": ""
            },
            "colorscale": [
             [
              0,
              "#0d0887"
             ],
             [
              0.1111111111111111,
              "#46039f"
             ],
             [
              0.2222222222222222,
              "#7201a8"
             ],
             [
              0.3333333333333333,
              "#9c179e"
             ],
             [
              0.4444444444444444,
              "#bd3786"
             ],
             [
              0.5555555555555556,
              "#d8576b"
             ],
             [
              0.6666666666666666,
              "#ed7953"
             ],
             [
              0.7777777777777778,
              "#fb9f3a"
             ],
             [
              0.8888888888888888,
              "#fdca26"
             ],
             [
              1,
              "#f0f921"
             ]
            ],
            "type": "histogram2dcontour"
           }
          ],
          "mesh3d": [
           {
            "colorbar": {
             "outlinewidth": 0,
             "ticks": ""
            },
            "type": "mesh3d"
           }
          ],
          "parcoords": [
           {
            "line": {
             "colorbar": {
              "outlinewidth": 0,
              "ticks": ""
             }
            },
            "type": "parcoords"
           }
          ],
          "pie": [
           {
            "automargin": true,
            "type": "pie"
           }
          ],
          "scatter": [
           {
            "marker": {
             "colorbar": {
              "outlinewidth": 0,
              "ticks": ""
             }
            },
            "type": "scatter"
           }
          ],
          "scatter3d": [
           {
            "line": {
             "colorbar": {
              "outlinewidth": 0,
              "ticks": ""
             }
            },
            "marker": {
             "colorbar": {
              "outlinewidth": 0,
              "ticks": ""
             }
            },
            "type": "scatter3d"
           }
          ],
          "scattercarpet": [
           {
            "marker": {
             "colorbar": {
              "outlinewidth": 0,
              "ticks": ""
             }
            },
            "type": "scattercarpet"
           }
          ],
          "scattergeo": [
           {
            "marker": {
             "colorbar": {
              "outlinewidth": 0,
              "ticks": ""
             }
            },
            "type": "scattergeo"
           }
          ],
          "scattergl": [
           {
            "marker": {
             "colorbar": {
              "outlinewidth": 0,
              "ticks": ""
             }
            },
            "type": "scattergl"
           }
          ],
          "scattermapbox": [
           {
            "marker": {
             "colorbar": {
              "outlinewidth": 0,
              "ticks": ""
             }
            },
            "type": "scattermapbox"
           }
          ],
          "scatterpolar": [
           {
            "marker": {
             "colorbar": {
              "outlinewidth": 0,
              "ticks": ""
             }
            },
            "type": "scatterpolar"
           }
          ],
          "scatterpolargl": [
           {
            "marker": {
             "colorbar": {
              "outlinewidth": 0,
              "ticks": ""
             }
            },
            "type": "scatterpolargl"
           }
          ],
          "scatterternary": [
           {
            "marker": {
             "colorbar": {
              "outlinewidth": 0,
              "ticks": ""
             }
            },
            "type": "scatterternary"
           }
          ],
          "surface": [
           {
            "colorbar": {
             "outlinewidth": 0,
             "ticks": ""
            },
            "colorscale": [
             [
              0,
              "#0d0887"
             ],
             [
              0.1111111111111111,
              "#46039f"
             ],
             [
              0.2222222222222222,
              "#7201a8"
             ],
             [
              0.3333333333333333,
              "#9c179e"
             ],
             [
              0.4444444444444444,
              "#bd3786"
             ],
             [
              0.5555555555555556,
              "#d8576b"
             ],
             [
              0.6666666666666666,
              "#ed7953"
             ],
             [
              0.7777777777777778,
              "#fb9f3a"
             ],
             [
              0.8888888888888888,
              "#fdca26"
             ],
             [
              1,
              "#f0f921"
             ]
            ],
            "type": "surface"
           }
          ],
          "table": [
           {
            "cells": {
             "fill": {
              "color": "#EBF0F8"
             },
             "line": {
              "color": "white"
             }
            },
            "header": {
             "fill": {
              "color": "#C8D4E3"
             },
             "line": {
              "color": "white"
             }
            },
            "type": "table"
           }
          ]
         },
         "layout": {
          "annotationdefaults": {
           "arrowcolor": "#2a3f5f",
           "arrowhead": 0,
           "arrowwidth": 1
          },
          "autotypenumbers": "strict",
          "coloraxis": {
           "colorbar": {
            "outlinewidth": 0,
            "ticks": ""
           }
          },
          "colorscale": {
           "diverging": [
            [
             0,
             "#8e0152"
            ],
            [
             0.1,
             "#c51b7d"
            ],
            [
             0.2,
             "#de77ae"
            ],
            [
             0.3,
             "#f1b6da"
            ],
            [
             0.4,
             "#fde0ef"
            ],
            [
             0.5,
             "#f7f7f7"
            ],
            [
             0.6,
             "#e6f5d0"
            ],
            [
             0.7,
             "#b8e186"
            ],
            [
             0.8,
             "#7fbc41"
            ],
            [
             0.9,
             "#4d9221"
            ],
            [
             1,
             "#276419"
            ]
           ],
           "sequential": [
            [
             0,
             "#0d0887"
            ],
            [
             0.1111111111111111,
             "#46039f"
            ],
            [
             0.2222222222222222,
             "#7201a8"
            ],
            [
             0.3333333333333333,
             "#9c179e"
            ],
            [
             0.4444444444444444,
             "#bd3786"
            ],
            [
             0.5555555555555556,
             "#d8576b"
            ],
            [
             0.6666666666666666,
             "#ed7953"
            ],
            [
             0.7777777777777778,
             "#fb9f3a"
            ],
            [
             0.8888888888888888,
             "#fdca26"
            ],
            [
             1,
             "#f0f921"
            ]
           ],
           "sequentialminus": [
            [
             0,
             "#0d0887"
            ],
            [
             0.1111111111111111,
             "#46039f"
            ],
            [
             0.2222222222222222,
             "#7201a8"
            ],
            [
             0.3333333333333333,
             "#9c179e"
            ],
            [
             0.4444444444444444,
             "#bd3786"
            ],
            [
             0.5555555555555556,
             "#d8576b"
            ],
            [
             0.6666666666666666,
             "#ed7953"
            ],
            [
             0.7777777777777778,
             "#fb9f3a"
            ],
            [
             0.8888888888888888,
             "#fdca26"
            ],
            [
             1,
             "#f0f921"
            ]
           ]
          },
          "colorway": [
           "#636efa",
           "#EF553B",
           "#00cc96",
           "#ab63fa",
           "#FFA15A",
           "#19d3f3",
           "#FF6692",
           "#B6E880",
           "#FF97FF",
           "#FECB52"
          ],
          "font": {
           "color": "#2a3f5f"
          },
          "geo": {
           "bgcolor": "white",
           "lakecolor": "white",
           "landcolor": "#E5ECF6",
           "showlakes": true,
           "showland": true,
           "subunitcolor": "white"
          },
          "hoverlabel": {
           "align": "left"
          },
          "hovermode": "closest",
          "mapbox": {
           "style": "light"
          },
          "paper_bgcolor": "white",
          "plot_bgcolor": "#E5ECF6",
          "polar": {
           "angularaxis": {
            "gridcolor": "white",
            "linecolor": "white",
            "ticks": ""
           },
           "bgcolor": "#E5ECF6",
           "radialaxis": {
            "gridcolor": "white",
            "linecolor": "white",
            "ticks": ""
           }
          },
          "scene": {
           "xaxis": {
            "backgroundcolor": "#E5ECF6",
            "gridcolor": "white",
            "gridwidth": 2,
            "linecolor": "white",
            "showbackground": true,
            "ticks": "",
            "zerolinecolor": "white"
           },
           "yaxis": {
            "backgroundcolor": "#E5ECF6",
            "gridcolor": "white",
            "gridwidth": 2,
            "linecolor": "white",
            "showbackground": true,
            "ticks": "",
            "zerolinecolor": "white"
           },
           "zaxis": {
            "backgroundcolor": "#E5ECF6",
            "gridcolor": "white",
            "gridwidth": 2,
            "linecolor": "white",
            "showbackground": true,
            "ticks": "",
            "zerolinecolor": "white"
           }
          },
          "shapedefaults": {
           "line": {
            "color": "#2a3f5f"
           }
          },
          "ternary": {
           "aaxis": {
            "gridcolor": "white",
            "linecolor": "white",
            "ticks": ""
           },
           "baxis": {
            "gridcolor": "white",
            "linecolor": "white",
            "ticks": ""
           },
           "bgcolor": "#E5ECF6",
           "caxis": {
            "gridcolor": "white",
            "linecolor": "white",
            "ticks": ""
           }
          },
          "title": {
           "x": 0.05
          },
          "xaxis": {
           "automargin": true,
           "gridcolor": "white",
           "linecolor": "white",
           "ticks": "",
           "title": {
            "standoff": 15
           },
           "zerolinecolor": "white",
           "zerolinewidth": 2
          },
          "yaxis": {
           "automargin": true,
           "gridcolor": "white",
           "linecolor": "white",
           "ticks": "",
           "title": {
            "standoff": 15
           },
           "zerolinecolor": "white",
           "zerolinewidth": 2
          }
         }
        },
        "title": {
         "text": "Based on Ratings sums of the Percentages of Book prices"
        },
        "xaxis": {
         "anchor": "y",
         "categoryarray": [
          0,
          4.1,
          4.3,
          4.4,
          4.5,
          4.6,
          4.7,
          4.8,
          4.9
         ],
         "categoryorder": "array",
         "domain": [
          0,
          1
         ],
         "title": {
          "text": "Numeric Ratings"
         }
        },
        "yaxis": {
         "anchor": "x",
         "domain": [
          0,
          1
         ],
         "title": {
          "text": "sum of Price"
         }
        }
       }
      },
      "text/html": [
       "<div>                            <div id=\"909cbaa9-ace4-42de-a2f3-8316eb30aac1\" class=\"plotly-graph-div\" style=\"height:525px; width:100%;\"></div>            <script type=\"text/javascript\">                require([\"plotly\"], function(Plotly) {                    window.PLOTLYENV=window.PLOTLYENV || {};                                    if (document.getElementById(\"909cbaa9-ace4-42de-a2f3-8316eb30aac1\")) {                    Plotly.newPlot(                        \"909cbaa9-ace4-42de-a2f3-8316eb30aac1\",                        [{\"alignmentgroup\": \"True\", \"bingroup\": \"x\", \"histfunc\": \"sum\", \"hovertemplate\": \"Numeric Ratings=%{x}<br>sum of Price=%{y}<extra></extra>\", \"legendgroup\": \"0.0\", \"marker\": {\"color\": \"#636efa\", \"opacity\": 0.5}, \"name\": \"0.0\", \"nbinsx\": 10, \"offsetgroup\": \"0.0\", \"orientation\": \"v\", \"showlegend\": true, \"type\": \"histogram\", \"x\": [0.0], \"xaxis\": \"x\", \"y\": [19.396], \"yaxis\": \"y\"}, {\"alignmentgroup\": \"True\", \"bingroup\": \"x\", \"histfunc\": \"sum\", \"hovertemplate\": \"Numeric Ratings=%{x}<br>sum of Price=%{y}<extra></extra>\", \"legendgroup\": \"4.1\", \"marker\": {\"color\": \"#EF553B\", \"opacity\": 0.5}, \"name\": \"4.1\", \"nbinsx\": 10, \"offsetgroup\": \"4.1\", \"orientation\": \"v\", \"showlegend\": true, \"type\": \"histogram\", \"x\": [4.1], \"xaxis\": \"x\", \"y\": [10.495000000000001], \"yaxis\": \"y\"}, {\"alignmentgroup\": \"True\", \"bingroup\": \"x\", \"histfunc\": \"sum\", \"hovertemplate\": \"Numeric Ratings=%{x}<br>sum of Price=%{y}<extra></extra>\", \"legendgroup\": \"4.3\", \"marker\": {\"color\": \"#00cc96\", \"opacity\": 0.5}, \"name\": \"4.3\", \"nbinsx\": 10, \"offsetgroup\": \"4.3\", \"orientation\": \"v\", \"showlegend\": true, \"type\": \"histogram\", \"x\": [4.3], \"xaxis\": \"x\", \"y\": [17.313333333333333], \"yaxis\": \"y\"}, {\"alignmentgroup\": \"True\", \"bingroup\": \"x\", \"histfunc\": \"sum\", \"hovertemplate\": \"Numeric Ratings=%{x}<br>sum of Price=%{y}<extra></extra>\", \"legendgroup\": \"4.4\", \"marker\": {\"color\": \"#ab63fa\", \"opacity\": 0.5}, \"name\": \"4.4\", \"nbinsx\": 10, \"offsetgroup\": \"4.4\", \"orientation\": \"v\", \"showlegend\": true, \"type\": \"histogram\", \"x\": [4.4], \"xaxis\": \"x\", \"y\": [13.497499999999999], \"yaxis\": \"y\"}, {\"alignmentgroup\": \"True\", \"bingroup\": \"x\", \"histfunc\": \"sum\", \"hovertemplate\": \"Numeric Ratings=%{x}<br>sum of Price=%{y}<extra></extra>\", \"legendgroup\": \"4.5\", \"marker\": {\"color\": \"#FFA15A\", \"opacity\": 0.5}, \"name\": \"4.5\", \"nbinsx\": 10, \"offsetgroup\": \"4.5\", \"orientation\": \"v\", \"showlegend\": true, \"type\": \"histogram\", \"x\": [4.5], \"xaxis\": \"x\", \"y\": [13.86888888888889], \"yaxis\": \"y\"}, {\"alignmentgroup\": \"True\", \"bingroup\": \"x\", \"histfunc\": \"sum\", \"hovertemplate\": \"Numeric Ratings=%{x}<br>sum of Price=%{y}<extra></extra>\", \"legendgroup\": \"4.6\", \"marker\": {\"color\": \"#19d3f3\", \"opacity\": 0.5}, \"name\": \"4.6\", \"nbinsx\": 10, \"offsetgroup\": \"4.6\", \"orientation\": \"v\", \"showlegend\": true, \"type\": \"histogram\", \"x\": [4.6], \"xaxis\": \"x\", \"y\": [12.31055555555556], \"yaxis\": \"y\"}, {\"alignmentgroup\": \"True\", \"bingroup\": \"x\", \"histfunc\": \"sum\", \"hovertemplate\": \"Numeric Ratings=%{x}<br>sum of Price=%{y}<extra></extra>\", \"legendgroup\": \"4.7\", \"marker\": {\"color\": \"#FF6692\", \"opacity\": 0.5}, \"name\": \"4.7\", \"nbinsx\": 10, \"offsetgroup\": \"4.7\", \"orientation\": \"v\", \"showlegend\": true, \"type\": \"histogram\", \"x\": [4.7], \"xaxis\": \"x\", \"y\": [12.389090909090909], \"yaxis\": \"y\"}, {\"alignmentgroup\": \"True\", \"bingroup\": \"x\", \"histfunc\": \"sum\", \"hovertemplate\": \"Numeric Ratings=%{x}<br>sum of Price=%{y}<extra></extra>\", \"legendgroup\": \"4.8\", \"marker\": {\"color\": \"#B6E880\", \"opacity\": 0.5}, \"name\": \"4.8\", \"nbinsx\": 10, \"offsetgroup\": \"4.8\", \"orientation\": \"v\", \"showlegend\": true, \"type\": \"histogram\", \"x\": [4.8], \"xaxis\": \"x\", \"y\": [12.007200000000003], \"yaxis\": \"y\"}, {\"alignmentgroup\": \"True\", \"bingroup\": \"x\", \"histfunc\": \"sum\", \"hovertemplate\": \"Numeric Ratings=%{x}<br>sum of Price=%{y}<extra></extra>\", \"legendgroup\": \"4.9\", \"marker\": {\"color\": \"#FF97FF\", \"opacity\": 0.5}, \"name\": \"4.9\", \"nbinsx\": 10, \"offsetgroup\": \"4.9\", \"orientation\": \"v\", \"showlegend\": true, \"type\": \"histogram\", \"x\": [4.9], \"xaxis\": \"x\", \"y\": [9.588000000000001], \"yaxis\": \"y\"}],                        {\"barmode\": \"relative\", \"legend\": {\"title\": {\"text\": \"Numeric Ratings\"}, \"tracegroupgap\": 0}, \"template\": {\"data\": {\"bar\": [{\"error_x\": {\"color\": \"#2a3f5f\"}, \"error_y\": {\"color\": \"#2a3f5f\"}, \"marker\": {\"line\": {\"color\": \"#E5ECF6\", \"width\": 0.5}}, \"type\": \"bar\"}], \"barpolar\": [{\"marker\": {\"line\": {\"color\": \"#E5ECF6\", \"width\": 0.5}}, \"type\": \"barpolar\"}], \"carpet\": [{\"aaxis\": {\"endlinecolor\": \"#2a3f5f\", \"gridcolor\": \"white\", \"linecolor\": \"white\", \"minorgridcolor\": \"white\", \"startlinecolor\": \"#2a3f5f\"}, \"baxis\": {\"endlinecolor\": \"#2a3f5f\", \"gridcolor\": \"white\", \"linecolor\": \"white\", \"minorgridcolor\": \"white\", \"startlinecolor\": \"#2a3f5f\"}, \"type\": \"carpet\"}], \"choropleth\": [{\"colorbar\": {\"outlinewidth\": 0, \"ticks\": \"\"}, \"type\": \"choropleth\"}], \"contour\": [{\"colorbar\": {\"outlinewidth\": 0, \"ticks\": \"\"}, \"colorscale\": [[0.0, \"#0d0887\"], [0.1111111111111111, \"#46039f\"], [0.2222222222222222, \"#7201a8\"], [0.3333333333333333, \"#9c179e\"], [0.4444444444444444, \"#bd3786\"], [0.5555555555555556, \"#d8576b\"], [0.6666666666666666, \"#ed7953\"], [0.7777777777777778, \"#fb9f3a\"], [0.8888888888888888, \"#fdca26\"], [1.0, \"#f0f921\"]], \"type\": \"contour\"}], \"contourcarpet\": [{\"colorbar\": {\"outlinewidth\": 0, \"ticks\": \"\"}, \"type\": \"contourcarpet\"}], \"heatmap\": [{\"colorbar\": {\"outlinewidth\": 0, \"ticks\": \"\"}, \"colorscale\": [[0.0, \"#0d0887\"], [0.1111111111111111, \"#46039f\"], [0.2222222222222222, \"#7201a8\"], [0.3333333333333333, \"#9c179e\"], [0.4444444444444444, \"#bd3786\"], [0.5555555555555556, \"#d8576b\"], [0.6666666666666666, \"#ed7953\"], [0.7777777777777778, \"#fb9f3a\"], [0.8888888888888888, \"#fdca26\"], [1.0, \"#f0f921\"]], \"type\": \"heatmap\"}], \"heatmapgl\": [{\"colorbar\": {\"outlinewidth\": 0, \"ticks\": \"\"}, \"colorscale\": [[0.0, \"#0d0887\"], [0.1111111111111111, \"#46039f\"], [0.2222222222222222, \"#7201a8\"], [0.3333333333333333, \"#9c179e\"], [0.4444444444444444, \"#bd3786\"], [0.5555555555555556, \"#d8576b\"], [0.6666666666666666, \"#ed7953\"], [0.7777777777777778, \"#fb9f3a\"], [0.8888888888888888, \"#fdca26\"], [1.0, \"#f0f921\"]], \"type\": \"heatmapgl\"}], \"histogram\": [{\"marker\": {\"colorbar\": {\"outlinewidth\": 0, \"ticks\": \"\"}}, \"type\": \"histogram\"}], \"histogram2d\": [{\"colorbar\": {\"outlinewidth\": 0, \"ticks\": \"\"}, \"colorscale\": [[0.0, \"#0d0887\"], [0.1111111111111111, \"#46039f\"], [0.2222222222222222, \"#7201a8\"], [0.3333333333333333, \"#9c179e\"], [0.4444444444444444, \"#bd3786\"], [0.5555555555555556, \"#d8576b\"], [0.6666666666666666, \"#ed7953\"], [0.7777777777777778, \"#fb9f3a\"], [0.8888888888888888, \"#fdca26\"], [1.0, \"#f0f921\"]], \"type\": \"histogram2d\"}], \"histogram2dcontour\": [{\"colorbar\": {\"outlinewidth\": 0, \"ticks\": \"\"}, \"colorscale\": [[0.0, \"#0d0887\"], [0.1111111111111111, \"#46039f\"], [0.2222222222222222, \"#7201a8\"], [0.3333333333333333, \"#9c179e\"], [0.4444444444444444, \"#bd3786\"], [0.5555555555555556, \"#d8576b\"], [0.6666666666666666, \"#ed7953\"], [0.7777777777777778, \"#fb9f3a\"], [0.8888888888888888, \"#fdca26\"], [1.0, \"#f0f921\"]], \"type\": \"histogram2dcontour\"}], \"mesh3d\": [{\"colorbar\": {\"outlinewidth\": 0, \"ticks\": \"\"}, \"type\": \"mesh3d\"}], \"parcoords\": [{\"line\": {\"colorbar\": {\"outlinewidth\": 0, \"ticks\": \"\"}}, \"type\": \"parcoords\"}], \"pie\": [{\"automargin\": true, \"type\": \"pie\"}], \"scatter\": [{\"marker\": {\"colorbar\": {\"outlinewidth\": 0, \"ticks\": \"\"}}, \"type\": \"scatter\"}], \"scatter3d\": [{\"line\": {\"colorbar\": {\"outlinewidth\": 0, \"ticks\": \"\"}}, \"marker\": {\"colorbar\": {\"outlinewidth\": 0, \"ticks\": \"\"}}, \"type\": \"scatter3d\"}], \"scattercarpet\": [{\"marker\": {\"colorbar\": {\"outlinewidth\": 0, \"ticks\": \"\"}}, \"type\": \"scattercarpet\"}], \"scattergeo\": [{\"marker\": {\"colorbar\": {\"outlinewidth\": 0, \"ticks\": \"\"}}, \"type\": \"scattergeo\"}], \"scattergl\": [{\"marker\": {\"colorbar\": {\"outlinewidth\": 0, \"ticks\": \"\"}}, \"type\": \"scattergl\"}], \"scattermapbox\": [{\"marker\": {\"colorbar\": {\"outlinewidth\": 0, \"ticks\": \"\"}}, \"type\": \"scattermapbox\"}], \"scatterpolar\": [{\"marker\": {\"colorbar\": {\"outlinewidth\": 0, \"ticks\": \"\"}}, \"type\": \"scatterpolar\"}], \"scatterpolargl\": [{\"marker\": {\"colorbar\": {\"outlinewidth\": 0, \"ticks\": \"\"}}, \"type\": \"scatterpolargl\"}], \"scatterternary\": [{\"marker\": {\"colorbar\": {\"outlinewidth\": 0, \"ticks\": \"\"}}, \"type\": \"scatterternary\"}], \"surface\": [{\"colorbar\": {\"outlinewidth\": 0, \"ticks\": \"\"}, \"colorscale\": [[0.0, \"#0d0887\"], [0.1111111111111111, \"#46039f\"], [0.2222222222222222, \"#7201a8\"], [0.3333333333333333, \"#9c179e\"], [0.4444444444444444, \"#bd3786\"], [0.5555555555555556, \"#d8576b\"], [0.6666666666666666, \"#ed7953\"], [0.7777777777777778, \"#fb9f3a\"], [0.8888888888888888, \"#fdca26\"], [1.0, \"#f0f921\"]], \"type\": \"surface\"}], \"table\": [{\"cells\": {\"fill\": {\"color\": \"#EBF0F8\"}, \"line\": {\"color\": \"white\"}}, \"header\": {\"fill\": {\"color\": \"#C8D4E3\"}, \"line\": {\"color\": \"white\"}}, \"type\": \"table\"}]}, \"layout\": {\"annotationdefaults\": {\"arrowcolor\": \"#2a3f5f\", \"arrowhead\": 0, \"arrowwidth\": 1}, \"autotypenumbers\": \"strict\", \"coloraxis\": {\"colorbar\": {\"outlinewidth\": 0, \"ticks\": \"\"}}, \"colorscale\": {\"diverging\": [[0, \"#8e0152\"], [0.1, \"#c51b7d\"], [0.2, \"#de77ae\"], [0.3, \"#f1b6da\"], [0.4, \"#fde0ef\"], [0.5, \"#f7f7f7\"], [0.6, \"#e6f5d0\"], [0.7, \"#b8e186\"], [0.8, \"#7fbc41\"], [0.9, \"#4d9221\"], [1, \"#276419\"]], \"sequential\": [[0.0, \"#0d0887\"], [0.1111111111111111, \"#46039f\"], [0.2222222222222222, \"#7201a8\"], [0.3333333333333333, \"#9c179e\"], [0.4444444444444444, \"#bd3786\"], [0.5555555555555556, \"#d8576b\"], [0.6666666666666666, \"#ed7953\"], [0.7777777777777778, \"#fb9f3a\"], [0.8888888888888888, \"#fdca26\"], [1.0, \"#f0f921\"]], \"sequentialminus\": [[0.0, \"#0d0887\"], [0.1111111111111111, \"#46039f\"], [0.2222222222222222, \"#7201a8\"], [0.3333333333333333, \"#9c179e\"], [0.4444444444444444, \"#bd3786\"], [0.5555555555555556, \"#d8576b\"], [0.6666666666666666, \"#ed7953\"], [0.7777777777777778, \"#fb9f3a\"], [0.8888888888888888, \"#fdca26\"], [1.0, \"#f0f921\"]]}, \"colorway\": [\"#636efa\", \"#EF553B\", \"#00cc96\", \"#ab63fa\", \"#FFA15A\", \"#19d3f3\", \"#FF6692\", \"#B6E880\", \"#FF97FF\", \"#FECB52\"], \"font\": {\"color\": \"#2a3f5f\"}, \"geo\": {\"bgcolor\": \"white\", \"lakecolor\": \"white\", \"landcolor\": \"#E5ECF6\", \"showlakes\": true, \"showland\": true, \"subunitcolor\": \"white\"}, \"hoverlabel\": {\"align\": \"left\"}, \"hovermode\": \"closest\", \"mapbox\": {\"style\": \"light\"}, \"paper_bgcolor\": \"white\", \"plot_bgcolor\": \"#E5ECF6\", \"polar\": {\"angularaxis\": {\"gridcolor\": \"white\", \"linecolor\": \"white\", \"ticks\": \"\"}, \"bgcolor\": \"#E5ECF6\", \"radialaxis\": {\"gridcolor\": \"white\", \"linecolor\": \"white\", \"ticks\": \"\"}}, \"scene\": {\"xaxis\": {\"backgroundcolor\": \"#E5ECF6\", \"gridcolor\": \"white\", \"gridwidth\": 2, \"linecolor\": \"white\", \"showbackground\": true, \"ticks\": \"\", \"zerolinecolor\": \"white\"}, \"yaxis\": {\"backgroundcolor\": \"#E5ECF6\", \"gridcolor\": \"white\", \"gridwidth\": 2, \"linecolor\": \"white\", \"showbackground\": true, \"ticks\": \"\", \"zerolinecolor\": \"white\"}, \"zaxis\": {\"backgroundcolor\": \"#E5ECF6\", \"gridcolor\": \"white\", \"gridwidth\": 2, \"linecolor\": \"white\", \"showbackground\": true, \"ticks\": \"\", \"zerolinecolor\": \"white\"}}, \"shapedefaults\": {\"line\": {\"color\": \"#2a3f5f\"}}, \"ternary\": {\"aaxis\": {\"gridcolor\": \"white\", \"linecolor\": \"white\", \"ticks\": \"\"}, \"baxis\": {\"gridcolor\": \"white\", \"linecolor\": \"white\", \"ticks\": \"\"}, \"bgcolor\": \"#E5ECF6\", \"caxis\": {\"gridcolor\": \"white\", \"linecolor\": \"white\", \"ticks\": \"\"}}, \"title\": {\"x\": 0.05}, \"xaxis\": {\"automargin\": true, \"gridcolor\": \"white\", \"linecolor\": \"white\", \"ticks\": \"\", \"title\": {\"standoff\": 15}, \"zerolinecolor\": \"white\", \"zerolinewidth\": 2}, \"yaxis\": {\"automargin\": true, \"gridcolor\": \"white\", \"linecolor\": \"white\", \"ticks\": \"\", \"title\": {\"standoff\": 15}, \"zerolinecolor\": \"white\", \"zerolinewidth\": 2}}}, \"title\": {\"text\": \"Based on Ratings sums of the Percentages of Book prices\"}, \"xaxis\": {\"anchor\": \"y\", \"categoryarray\": [0.0, 4.1, 4.3, 4.4, 4.5, 4.6, 4.7, 4.8, 4.9], \"categoryorder\": \"array\", \"domain\": [0.0, 1.0], \"title\": {\"text\": \"Numeric Ratings\"}}, \"yaxis\": {\"anchor\": \"x\", \"domain\": [0.0, 1.0], \"title\": {\"text\": \"sum of Price\"}}},                        {\"responsive\": true}                    ).then(function(){\n",
       "                            \n",
       "var gd = document.getElementById('909cbaa9-ace4-42de-a2f3-8316eb30aac1');\n",
       "var x = new MutationObserver(function (mutations, observer) {{\n",
       "        var display = window.getComputedStyle(gd).display;\n",
       "        if (!display || display === 'none') {{\n",
       "            console.log([gd, 'removed!']);\n",
       "            Plotly.purge(gd);\n",
       "            observer.disconnect();\n",
       "        }}\n",
       "}});\n",
       "\n",
       "// Listen for the removal of the full notebook cells\n",
       "var notebookContainer = gd.closest('#notebook-container');\n",
       "if (notebookContainer) {{\n",
       "    x.observe(notebookContainer, {childList: true});\n",
       "}}\n",
       "\n",
       "// Listen for the clearing of the current output cell\n",
       "var outputEl = gd.closest('.output');\n",
       "if (outputEl) {{\n",
       "    x.observe(outputEl, {childList: true});\n",
       "}}\n",
       "\n",
       "                        })                };                });            </script>        </div>"
      ]
     },
     "metadata": {},
     "output_type": "display_data"
    }
   ],
   "source": [
    "a = df.groupby(by=\"Numeric Ratings\")[[\"Price\"]].mean().reset_index()\n",
    "fig= px.histogram(a, x=\"Numeric Ratings\",y= \"Price\",opacity=0.5,nbins=10,\n",
    "                  color=\"Numeric Ratings\", title = \"Based on Ratings sums of the Percentages of Book prices\")\n",
    "fig.show()"
   ]
  },
  {
   "cell_type": "markdown",
   "metadata": {},
   "source": [
    "## Average Performance Distribution of Price, Number of Review and Ratings"
   ]
  },
  {
   "cell_type": "code",
   "execution_count": 65,
   "metadata": {
    "ExecuteTime": {
     "end_time": "2021-06-29T12:19:31.521341Z",
     "start_time": "2021-06-29T12:19:31.360077Z"
    }
   },
   "outputs": [
    {
     "data": {
      "application/vnd.plotly.v1+json": {
       "config": {
        "plotlyServerURL": "https://plot.ly"
       },
       "data": [
        {
         "hovertemplate": "variable=Price<br>index=%{x}<br>value=%{y}<extra></extra>",
         "legendgroup": "Price",
         "line": {
          "color": "#636efa",
          "dash": "solid"
         },
         "mode": "lines",
         "name": "Price",
         "orientation": "v",
         "showlegend": true,
         "type": "scatter",
         "x": [
          0,
          1,
          2,
          3,
          4,
          5,
          6,
          7,
          8,
          9,
          10,
          11,
          12,
          13,
          14,
          15,
          16,
          17,
          18,
          19,
          20,
          21,
          22,
          23,
          24,
          25,
          26,
          27,
          28,
          29,
          30,
          31,
          32,
          33,
          34,
          35,
          36,
          37,
          38,
          39,
          40,
          41,
          42,
          43,
          44,
          45,
          46,
          47,
          48
         ],
         "xaxis": "x",
         "y": [
          3.99,
          4.99,
          5,
          5.5,
          5.9,
          5.99,
          6,
          6.9,
          6.95,
          6.99,
          7,
          7.2,
          7.4,
          7.82,
          7.98,
          7.99,
          8.95,
          8.99,
          9.9,
          9.99,
          10,
          10.75,
          10.99,
          11,
          11.9,
          11.99,
          12,
          12.9,
          12.95,
          13,
          14,
          14.99,
          15,
          15.99,
          16,
          16.99,
          18,
          19.95,
          19.99,
          20,
          22,
          24,
          24.95,
          24.99,
          25,
          26,
          29.95,
          29.99,
          34.95
         ],
         "yaxis": "y"
        },
        {
         "hovertemplate": "variable=Number of Reviewers<br>index=%{x}<br>value=%{y}<extra></extra>",
         "legendgroup": "Number of Reviewers",
         "line": {
          "color": "#EF553B",
          "dash": "solid"
         },
         "mode": "lines",
         "name": "Number of Reviewers",
         "orientation": "v",
         "showlegend": true,
         "type": "scatter",
         "x": [
          0,
          1,
          2,
          3,
          4,
          5,
          6,
          7,
          8,
          9,
          10,
          11,
          12,
          13,
          14,
          15,
          16,
          17,
          18,
          19,
          20,
          21,
          22,
          23,
          24,
          25,
          26,
          27,
          28,
          29,
          30,
          31,
          32,
          33,
          34,
          35,
          36,
          37,
          38,
          39,
          40,
          41,
          42,
          43,
          44,
          45,
          46,
          47,
          48
         ],
         "xaxis": "x",
         "y": [
          5.133,
          2.2510000000000003,
          1.7845,
          3.607,
          154.02900000000002,
          1.7755,
          424,
          2.591,
          462.3305,
          2.1445,
          153.2265,
          2.349,
          1.852,
          2.024,
          13.424,
          2.88,
          12.032,
          138.82725,
          130.0105,
          10.619714285714284,
          108.68674999999999,
          1.261,
          225.33399999999997,
          1.734,
          308,
          7.534,
          54.72983333333334,
          369.5,
          80.379,
          4.44,
          25.661666666666665,
          5.012333333333333,
          290,
          386,
          88.616,
          4.305,
          348,
          193,
          122,
          151,
          1.6753333333333333,
          38.583333333333336,
          727,
          0,
          493,
          37,
          1.085,
          808,
          2.292
         ],
         "yaxis": "y"
        },
        {
         "hovertemplate": "variable=Numeric Ratings<br>index=%{x}<br>value=%{y}<extra></extra>",
         "legendgroup": "Numeric Ratings",
         "line": {
          "color": "#00cc96",
          "dash": "solid"
         },
         "mode": "lines",
         "name": "Numeric Ratings",
         "orientation": "v",
         "showlegend": true,
         "type": "scatter",
         "x": [
          0,
          1,
          2,
          3,
          4,
          5,
          6,
          7,
          8,
          9,
          10,
          11,
          12,
          13,
          14,
          15,
          16,
          17,
          18,
          19,
          20,
          21,
          22,
          23,
          24,
          25,
          26,
          27,
          28,
          29,
          30,
          31,
          32,
          33,
          34,
          35,
          36,
          37,
          38,
          39,
          40,
          41,
          42,
          43,
          44,
          45,
          46,
          47,
          48
         ],
         "xaxis": "x",
         "y": [
          4.7,
          4.7,
          4.8,
          4.8,
          4.7,
          4.8,
          4.4,
          4.8,
          4.85,
          4.699999999999999,
          4.85,
          4.8,
          4.8,
          4.8,
          4.7,
          4.65,
          4.5,
          4.6499999999999995,
          4.6,
          4.028571428571429,
          4.425,
          4.8,
          4.366666666666666,
          4.4,
          4.7,
          4.6,
          4.716666666666666,
          4.4,
          4.666666666666667,
          4.6000000000000005,
          4.633333333333333,
          4.7,
          4.675000000000001,
          4.3,
          3.733333333333334,
          4.4,
          4.7,
          4.8,
          4.55,
          4.6,
          2.966666666666667,
          3.0666666666666664,
          4.7,
          0,
          4.6,
          4.3,
          4.8,
          4.8,
          4.8
         ],
         "yaxis": "y"
        }
       ],
       "layout": {
        "legend": {
         "title": {
          "text": "variable"
         },
         "tracegroupgap": 0
        },
        "template": {
         "data": {
          "bar": [
           {
            "error_x": {
             "color": "#2a3f5f"
            },
            "error_y": {
             "color": "#2a3f5f"
            },
            "marker": {
             "line": {
              "color": "#E5ECF6",
              "width": 0.5
             }
            },
            "type": "bar"
           }
          ],
          "barpolar": [
           {
            "marker": {
             "line": {
              "color": "#E5ECF6",
              "width": 0.5
             }
            },
            "type": "barpolar"
           }
          ],
          "carpet": [
           {
            "aaxis": {
             "endlinecolor": "#2a3f5f",
             "gridcolor": "white",
             "linecolor": "white",
             "minorgridcolor": "white",
             "startlinecolor": "#2a3f5f"
            },
            "baxis": {
             "endlinecolor": "#2a3f5f",
             "gridcolor": "white",
             "linecolor": "white",
             "minorgridcolor": "white",
             "startlinecolor": "#2a3f5f"
            },
            "type": "carpet"
           }
          ],
          "choropleth": [
           {
            "colorbar": {
             "outlinewidth": 0,
             "ticks": ""
            },
            "type": "choropleth"
           }
          ],
          "contour": [
           {
            "colorbar": {
             "outlinewidth": 0,
             "ticks": ""
            },
            "colorscale": [
             [
              0,
              "#0d0887"
             ],
             [
              0.1111111111111111,
              "#46039f"
             ],
             [
              0.2222222222222222,
              "#7201a8"
             ],
             [
              0.3333333333333333,
              "#9c179e"
             ],
             [
              0.4444444444444444,
              "#bd3786"
             ],
             [
              0.5555555555555556,
              "#d8576b"
             ],
             [
              0.6666666666666666,
              "#ed7953"
             ],
             [
              0.7777777777777778,
              "#fb9f3a"
             ],
             [
              0.8888888888888888,
              "#fdca26"
             ],
             [
              1,
              "#f0f921"
             ]
            ],
            "type": "contour"
           }
          ],
          "contourcarpet": [
           {
            "colorbar": {
             "outlinewidth": 0,
             "ticks": ""
            },
            "type": "contourcarpet"
           }
          ],
          "heatmap": [
           {
            "colorbar": {
             "outlinewidth": 0,
             "ticks": ""
            },
            "colorscale": [
             [
              0,
              "#0d0887"
             ],
             [
              0.1111111111111111,
              "#46039f"
             ],
             [
              0.2222222222222222,
              "#7201a8"
             ],
             [
              0.3333333333333333,
              "#9c179e"
             ],
             [
              0.4444444444444444,
              "#bd3786"
             ],
             [
              0.5555555555555556,
              "#d8576b"
             ],
             [
              0.6666666666666666,
              "#ed7953"
             ],
             [
              0.7777777777777778,
              "#fb9f3a"
             ],
             [
              0.8888888888888888,
              "#fdca26"
             ],
             [
              1,
              "#f0f921"
             ]
            ],
            "type": "heatmap"
           }
          ],
          "heatmapgl": [
           {
            "colorbar": {
             "outlinewidth": 0,
             "ticks": ""
            },
            "colorscale": [
             [
              0,
              "#0d0887"
             ],
             [
              0.1111111111111111,
              "#46039f"
             ],
             [
              0.2222222222222222,
              "#7201a8"
             ],
             [
              0.3333333333333333,
              "#9c179e"
             ],
             [
              0.4444444444444444,
              "#bd3786"
             ],
             [
              0.5555555555555556,
              "#d8576b"
             ],
             [
              0.6666666666666666,
              "#ed7953"
             ],
             [
              0.7777777777777778,
              "#fb9f3a"
             ],
             [
              0.8888888888888888,
              "#fdca26"
             ],
             [
              1,
              "#f0f921"
             ]
            ],
            "type": "heatmapgl"
           }
          ],
          "histogram": [
           {
            "marker": {
             "colorbar": {
              "outlinewidth": 0,
              "ticks": ""
             }
            },
            "type": "histogram"
           }
          ],
          "histogram2d": [
           {
            "colorbar": {
             "outlinewidth": 0,
             "ticks": ""
            },
            "colorscale": [
             [
              0,
              "#0d0887"
             ],
             [
              0.1111111111111111,
              "#46039f"
             ],
             [
              0.2222222222222222,
              "#7201a8"
             ],
             [
              0.3333333333333333,
              "#9c179e"
             ],
             [
              0.4444444444444444,
              "#bd3786"
             ],
             [
              0.5555555555555556,
              "#d8576b"
             ],
             [
              0.6666666666666666,
              "#ed7953"
             ],
             [
              0.7777777777777778,
              "#fb9f3a"
             ],
             [
              0.8888888888888888,
              "#fdca26"
             ],
             [
              1,
              "#f0f921"
             ]
            ],
            "type": "histogram2d"
           }
          ],
          "histogram2dcontour": [
           {
            "colorbar": {
             "outlinewidth": 0,
             "ticks": ""
            },
            "colorscale": [
             [
              0,
              "#0d0887"
             ],
             [
              0.1111111111111111,
              "#46039f"
             ],
             [
              0.2222222222222222,
              "#7201a8"
             ],
             [
              0.3333333333333333,
              "#9c179e"
             ],
             [
              0.4444444444444444,
              "#bd3786"
             ],
             [
              0.5555555555555556,
              "#d8576b"
             ],
             [
              0.6666666666666666,
              "#ed7953"
             ],
             [
              0.7777777777777778,
              "#fb9f3a"
             ],
             [
              0.8888888888888888,
              "#fdca26"
             ],
             [
              1,
              "#f0f921"
             ]
            ],
            "type": "histogram2dcontour"
           }
          ],
          "mesh3d": [
           {
            "colorbar": {
             "outlinewidth": 0,
             "ticks": ""
            },
            "type": "mesh3d"
           }
          ],
          "parcoords": [
           {
            "line": {
             "colorbar": {
              "outlinewidth": 0,
              "ticks": ""
             }
            },
            "type": "parcoords"
           }
          ],
          "pie": [
           {
            "automargin": true,
            "type": "pie"
           }
          ],
          "scatter": [
           {
            "marker": {
             "colorbar": {
              "outlinewidth": 0,
              "ticks": ""
             }
            },
            "type": "scatter"
           }
          ],
          "scatter3d": [
           {
            "line": {
             "colorbar": {
              "outlinewidth": 0,
              "ticks": ""
             }
            },
            "marker": {
             "colorbar": {
              "outlinewidth": 0,
              "ticks": ""
             }
            },
            "type": "scatter3d"
           }
          ],
          "scattercarpet": [
           {
            "marker": {
             "colorbar": {
              "outlinewidth": 0,
              "ticks": ""
             }
            },
            "type": "scattercarpet"
           }
          ],
          "scattergeo": [
           {
            "marker": {
             "colorbar": {
              "outlinewidth": 0,
              "ticks": ""
             }
            },
            "type": "scattergeo"
           }
          ],
          "scattergl": [
           {
            "marker": {
             "colorbar": {
              "outlinewidth": 0,
              "ticks": ""
             }
            },
            "type": "scattergl"
           }
          ],
          "scattermapbox": [
           {
            "marker": {
             "colorbar": {
              "outlinewidth": 0,
              "ticks": ""
             }
            },
            "type": "scattermapbox"
           }
          ],
          "scatterpolar": [
           {
            "marker": {
             "colorbar": {
              "outlinewidth": 0,
              "ticks": ""
             }
            },
            "type": "scatterpolar"
           }
          ],
          "scatterpolargl": [
           {
            "marker": {
             "colorbar": {
              "outlinewidth": 0,
              "ticks": ""
             }
            },
            "type": "scatterpolargl"
           }
          ],
          "scatterternary": [
           {
            "marker": {
             "colorbar": {
              "outlinewidth": 0,
              "ticks": ""
             }
            },
            "type": "scatterternary"
           }
          ],
          "surface": [
           {
            "colorbar": {
             "outlinewidth": 0,
             "ticks": ""
            },
            "colorscale": [
             [
              0,
              "#0d0887"
             ],
             [
              0.1111111111111111,
              "#46039f"
             ],
             [
              0.2222222222222222,
              "#7201a8"
             ],
             [
              0.3333333333333333,
              "#9c179e"
             ],
             [
              0.4444444444444444,
              "#bd3786"
             ],
             [
              0.5555555555555556,
              "#d8576b"
             ],
             [
              0.6666666666666666,
              "#ed7953"
             ],
             [
              0.7777777777777778,
              "#fb9f3a"
             ],
             [
              0.8888888888888888,
              "#fdca26"
             ],
             [
              1,
              "#f0f921"
             ]
            ],
            "type": "surface"
           }
          ],
          "table": [
           {
            "cells": {
             "fill": {
              "color": "#EBF0F8"
             },
             "line": {
              "color": "white"
             }
            },
            "header": {
             "fill": {
              "color": "#C8D4E3"
             },
             "line": {
              "color": "white"
             }
            },
            "type": "table"
           }
          ]
         },
         "layout": {
          "annotationdefaults": {
           "arrowcolor": "#2a3f5f",
           "arrowhead": 0,
           "arrowwidth": 1
          },
          "autotypenumbers": "strict",
          "coloraxis": {
           "colorbar": {
            "outlinewidth": 0,
            "ticks": ""
           }
          },
          "colorscale": {
           "diverging": [
            [
             0,
             "#8e0152"
            ],
            [
             0.1,
             "#c51b7d"
            ],
            [
             0.2,
             "#de77ae"
            ],
            [
             0.3,
             "#f1b6da"
            ],
            [
             0.4,
             "#fde0ef"
            ],
            [
             0.5,
             "#f7f7f7"
            ],
            [
             0.6,
             "#e6f5d0"
            ],
            [
             0.7,
             "#b8e186"
            ],
            [
             0.8,
             "#7fbc41"
            ],
            [
             0.9,
             "#4d9221"
            ],
            [
             1,
             "#276419"
            ]
           ],
           "sequential": [
            [
             0,
             "#0d0887"
            ],
            [
             0.1111111111111111,
             "#46039f"
            ],
            [
             0.2222222222222222,
             "#7201a8"
            ],
            [
             0.3333333333333333,
             "#9c179e"
            ],
            [
             0.4444444444444444,
             "#bd3786"
            ],
            [
             0.5555555555555556,
             "#d8576b"
            ],
            [
             0.6666666666666666,
             "#ed7953"
            ],
            [
             0.7777777777777778,
             "#fb9f3a"
            ],
            [
             0.8888888888888888,
             "#fdca26"
            ],
            [
             1,
             "#f0f921"
            ]
           ],
           "sequentialminus": [
            [
             0,
             "#0d0887"
            ],
            [
             0.1111111111111111,
             "#46039f"
            ],
            [
             0.2222222222222222,
             "#7201a8"
            ],
            [
             0.3333333333333333,
             "#9c179e"
            ],
            [
             0.4444444444444444,
             "#bd3786"
            ],
            [
             0.5555555555555556,
             "#d8576b"
            ],
            [
             0.6666666666666666,
             "#ed7953"
            ],
            [
             0.7777777777777778,
             "#fb9f3a"
            ],
            [
             0.8888888888888888,
             "#fdca26"
            ],
            [
             1,
             "#f0f921"
            ]
           ]
          },
          "colorway": [
           "#636efa",
           "#EF553B",
           "#00cc96",
           "#ab63fa",
           "#FFA15A",
           "#19d3f3",
           "#FF6692",
           "#B6E880",
           "#FF97FF",
           "#FECB52"
          ],
          "font": {
           "color": "#2a3f5f"
          },
          "geo": {
           "bgcolor": "white",
           "lakecolor": "white",
           "landcolor": "#E5ECF6",
           "showlakes": true,
           "showland": true,
           "subunitcolor": "white"
          },
          "hoverlabel": {
           "align": "left"
          },
          "hovermode": "closest",
          "mapbox": {
           "style": "light"
          },
          "paper_bgcolor": "white",
          "plot_bgcolor": "#E5ECF6",
          "polar": {
           "angularaxis": {
            "gridcolor": "white",
            "linecolor": "white",
            "ticks": ""
           },
           "bgcolor": "#E5ECF6",
           "radialaxis": {
            "gridcolor": "white",
            "linecolor": "white",
            "ticks": ""
           }
          },
          "scene": {
           "xaxis": {
            "backgroundcolor": "#E5ECF6",
            "gridcolor": "white",
            "gridwidth": 2,
            "linecolor": "white",
            "showbackground": true,
            "ticks": "",
            "zerolinecolor": "white"
           },
           "yaxis": {
            "backgroundcolor": "#E5ECF6",
            "gridcolor": "white",
            "gridwidth": 2,
            "linecolor": "white",
            "showbackground": true,
            "ticks": "",
            "zerolinecolor": "white"
           },
           "zaxis": {
            "backgroundcolor": "#E5ECF6",
            "gridcolor": "white",
            "gridwidth": 2,
            "linecolor": "white",
            "showbackground": true,
            "ticks": "",
            "zerolinecolor": "white"
           }
          },
          "shapedefaults": {
           "line": {
            "color": "#2a3f5f"
           }
          },
          "ternary": {
           "aaxis": {
            "gridcolor": "white",
            "linecolor": "white",
            "ticks": ""
           },
           "baxis": {
            "gridcolor": "white",
            "linecolor": "white",
            "ticks": ""
           },
           "bgcolor": "#E5ECF6",
           "caxis": {
            "gridcolor": "white",
            "linecolor": "white",
            "ticks": ""
           }
          },
          "title": {
           "x": 0.05
          },
          "xaxis": {
           "automargin": true,
           "gridcolor": "white",
           "linecolor": "white",
           "ticks": "",
           "title": {
            "standoff": 15
           },
           "zerolinecolor": "white",
           "zerolinewidth": 2
          },
          "yaxis": {
           "automargin": true,
           "gridcolor": "white",
           "linecolor": "white",
           "ticks": "",
           "title": {
            "standoff": 15
           },
           "zerolinecolor": "white",
           "zerolinewidth": 2
          }
         }
        },
        "title": {
         "text": "Average Performance Distribution of Price, Number of Review and Ratings"
        },
        "xaxis": {
         "anchor": "y",
         "domain": [
          0,
          1
         ],
         "title": {
          "text": "index"
         }
        },
        "yaxis": {
         "anchor": "x",
         "domain": [
          0,
          1
         ],
         "title": {
          "text": "value"
         }
        }
       }
      },
      "text/html": [
       "<div>                            <div id=\"7ab5a03f-8164-4dbd-a6a4-cacc5dfb984c\" class=\"plotly-graph-div\" style=\"height:525px; width:100%;\"></div>            <script type=\"text/javascript\">                require([\"plotly\"], function(Plotly) {                    window.PLOTLYENV=window.PLOTLYENV || {};                                    if (document.getElementById(\"7ab5a03f-8164-4dbd-a6a4-cacc5dfb984c\")) {                    Plotly.newPlot(                        \"7ab5a03f-8164-4dbd-a6a4-cacc5dfb984c\",                        [{\"hovertemplate\": \"variable=Price<br>index=%{x}<br>value=%{y}<extra></extra>\", \"legendgroup\": \"Price\", \"line\": {\"color\": \"#636efa\", \"dash\": \"solid\"}, \"mode\": \"lines\", \"name\": \"Price\", \"orientation\": \"v\", \"showlegend\": true, \"type\": \"scatter\", \"x\": [0, 1, 2, 3, 4, 5, 6, 7, 8, 9, 10, 11, 12, 13, 14, 15, 16, 17, 18, 19, 20, 21, 22, 23, 24, 25, 26, 27, 28, 29, 30, 31, 32, 33, 34, 35, 36, 37, 38, 39, 40, 41, 42, 43, 44, 45, 46, 47, 48], \"xaxis\": \"x\", \"y\": [3.99, 4.99, 5.0, 5.5, 5.9, 5.99, 6.0, 6.9, 6.95, 6.99, 7.0, 7.2, 7.4, 7.82, 7.98, 7.99, 8.95, 8.99, 9.9, 9.99, 10.0, 10.75, 10.99, 11.0, 11.9, 11.99, 12.0, 12.9, 12.95, 13.0, 14.0, 14.99, 15.0, 15.99, 16.0, 16.99, 18.0, 19.95, 19.99, 20.0, 22.0, 24.0, 24.95, 24.99, 25.0, 26.0, 29.95, 29.99, 34.95], \"yaxis\": \"y\"}, {\"hovertemplate\": \"variable=Number of Reviewers<br>index=%{x}<br>value=%{y}<extra></extra>\", \"legendgroup\": \"Number of Reviewers\", \"line\": {\"color\": \"#EF553B\", \"dash\": \"solid\"}, \"mode\": \"lines\", \"name\": \"Number of Reviewers\", \"orientation\": \"v\", \"showlegend\": true, \"type\": \"scatter\", \"x\": [0, 1, 2, 3, 4, 5, 6, 7, 8, 9, 10, 11, 12, 13, 14, 15, 16, 17, 18, 19, 20, 21, 22, 23, 24, 25, 26, 27, 28, 29, 30, 31, 32, 33, 34, 35, 36, 37, 38, 39, 40, 41, 42, 43, 44, 45, 46, 47, 48], \"xaxis\": \"x\", \"y\": [5.133, 2.2510000000000003, 1.7845, 3.607, 154.02900000000002, 1.7755, 424.0, 2.591, 462.3305, 2.1445, 153.2265, 2.349, 1.852, 2.024, 13.424, 2.88, 12.032, 138.82725, 130.0105, 10.619714285714284, 108.68674999999999, 1.261, 225.33399999999997, 1.734, 308.0, 7.534, 54.72983333333334, 369.5, 80.379, 4.44, 25.661666666666665, 5.012333333333333, 290.0, 386.0, 88.616, 4.305, 348.0, 193.0, 122.0, 151.0, 1.6753333333333333, 38.583333333333336, 727.0, 0.0, 493.0, 37.0, 1.085, 808.0, 2.292], \"yaxis\": \"y\"}, {\"hovertemplate\": \"variable=Numeric Ratings<br>index=%{x}<br>value=%{y}<extra></extra>\", \"legendgroup\": \"Numeric Ratings\", \"line\": {\"color\": \"#00cc96\", \"dash\": \"solid\"}, \"mode\": \"lines\", \"name\": \"Numeric Ratings\", \"orientation\": \"v\", \"showlegend\": true, \"type\": \"scatter\", \"x\": [0, 1, 2, 3, 4, 5, 6, 7, 8, 9, 10, 11, 12, 13, 14, 15, 16, 17, 18, 19, 20, 21, 22, 23, 24, 25, 26, 27, 28, 29, 30, 31, 32, 33, 34, 35, 36, 37, 38, 39, 40, 41, 42, 43, 44, 45, 46, 47, 48], \"xaxis\": \"x\", \"y\": [4.7, 4.7, 4.8, 4.8, 4.7, 4.8, 4.4, 4.8, 4.85, 4.699999999999999, 4.85, 4.8, 4.8, 4.8, 4.7, 4.65, 4.5, 4.6499999999999995, 4.6, 4.028571428571429, 4.425, 4.8, 4.366666666666666, 4.4, 4.7, 4.6, 4.716666666666666, 4.4, 4.666666666666667, 4.6000000000000005, 4.633333333333333, 4.7, 4.675000000000001, 4.3, 3.733333333333334, 4.4, 4.7, 4.8, 4.55, 4.6, 2.966666666666667, 3.0666666666666664, 4.7, 0.0, 4.6, 4.3, 4.8, 4.8, 4.8], \"yaxis\": \"y\"}],                        {\"legend\": {\"title\": {\"text\": \"variable\"}, \"tracegroupgap\": 0}, \"template\": {\"data\": {\"bar\": [{\"error_x\": {\"color\": \"#2a3f5f\"}, \"error_y\": {\"color\": \"#2a3f5f\"}, \"marker\": {\"line\": {\"color\": \"#E5ECF6\", \"width\": 0.5}}, \"type\": \"bar\"}], \"barpolar\": [{\"marker\": {\"line\": {\"color\": \"#E5ECF6\", \"width\": 0.5}}, \"type\": \"barpolar\"}], \"carpet\": [{\"aaxis\": {\"endlinecolor\": \"#2a3f5f\", \"gridcolor\": \"white\", \"linecolor\": \"white\", \"minorgridcolor\": \"white\", \"startlinecolor\": \"#2a3f5f\"}, \"baxis\": {\"endlinecolor\": \"#2a3f5f\", \"gridcolor\": \"white\", \"linecolor\": \"white\", \"minorgridcolor\": \"white\", \"startlinecolor\": \"#2a3f5f\"}, \"type\": \"carpet\"}], \"choropleth\": [{\"colorbar\": {\"outlinewidth\": 0, \"ticks\": \"\"}, \"type\": \"choropleth\"}], \"contour\": [{\"colorbar\": {\"outlinewidth\": 0, \"ticks\": \"\"}, \"colorscale\": [[0.0, \"#0d0887\"], [0.1111111111111111, \"#46039f\"], [0.2222222222222222, \"#7201a8\"], [0.3333333333333333, \"#9c179e\"], [0.4444444444444444, \"#bd3786\"], [0.5555555555555556, \"#d8576b\"], [0.6666666666666666, \"#ed7953\"], [0.7777777777777778, \"#fb9f3a\"], [0.8888888888888888, \"#fdca26\"], [1.0, \"#f0f921\"]], \"type\": \"contour\"}], \"contourcarpet\": [{\"colorbar\": {\"outlinewidth\": 0, \"ticks\": \"\"}, \"type\": \"contourcarpet\"}], \"heatmap\": [{\"colorbar\": {\"outlinewidth\": 0, \"ticks\": \"\"}, \"colorscale\": [[0.0, \"#0d0887\"], [0.1111111111111111, \"#46039f\"], [0.2222222222222222, \"#7201a8\"], [0.3333333333333333, \"#9c179e\"], [0.4444444444444444, \"#bd3786\"], [0.5555555555555556, \"#d8576b\"], [0.6666666666666666, \"#ed7953\"], [0.7777777777777778, \"#fb9f3a\"], [0.8888888888888888, \"#fdca26\"], [1.0, \"#f0f921\"]], \"type\": \"heatmap\"}], \"heatmapgl\": [{\"colorbar\": {\"outlinewidth\": 0, \"ticks\": \"\"}, \"colorscale\": [[0.0, \"#0d0887\"], [0.1111111111111111, \"#46039f\"], [0.2222222222222222, \"#7201a8\"], [0.3333333333333333, \"#9c179e\"], [0.4444444444444444, \"#bd3786\"], [0.5555555555555556, \"#d8576b\"], [0.6666666666666666, \"#ed7953\"], [0.7777777777777778, \"#fb9f3a\"], [0.8888888888888888, \"#fdca26\"], [1.0, \"#f0f921\"]], \"type\": \"heatmapgl\"}], \"histogram\": [{\"marker\": {\"colorbar\": {\"outlinewidth\": 0, \"ticks\": \"\"}}, \"type\": \"histogram\"}], \"histogram2d\": [{\"colorbar\": {\"outlinewidth\": 0, \"ticks\": \"\"}, \"colorscale\": [[0.0, \"#0d0887\"], [0.1111111111111111, \"#46039f\"], [0.2222222222222222, \"#7201a8\"], [0.3333333333333333, \"#9c179e\"], [0.4444444444444444, \"#bd3786\"], [0.5555555555555556, \"#d8576b\"], [0.6666666666666666, \"#ed7953\"], [0.7777777777777778, \"#fb9f3a\"], [0.8888888888888888, \"#fdca26\"], [1.0, \"#f0f921\"]], \"type\": \"histogram2d\"}], \"histogram2dcontour\": [{\"colorbar\": {\"outlinewidth\": 0, \"ticks\": \"\"}, \"colorscale\": [[0.0, \"#0d0887\"], [0.1111111111111111, \"#46039f\"], [0.2222222222222222, \"#7201a8\"], [0.3333333333333333, \"#9c179e\"], [0.4444444444444444, \"#bd3786\"], [0.5555555555555556, \"#d8576b\"], [0.6666666666666666, \"#ed7953\"], [0.7777777777777778, \"#fb9f3a\"], [0.8888888888888888, \"#fdca26\"], [1.0, \"#f0f921\"]], \"type\": \"histogram2dcontour\"}], \"mesh3d\": [{\"colorbar\": {\"outlinewidth\": 0, \"ticks\": \"\"}, \"type\": \"mesh3d\"}], \"parcoords\": [{\"line\": {\"colorbar\": {\"outlinewidth\": 0, \"ticks\": \"\"}}, \"type\": \"parcoords\"}], \"pie\": [{\"automargin\": true, \"type\": \"pie\"}], \"scatter\": [{\"marker\": {\"colorbar\": {\"outlinewidth\": 0, \"ticks\": \"\"}}, \"type\": \"scatter\"}], \"scatter3d\": [{\"line\": {\"colorbar\": {\"outlinewidth\": 0, \"ticks\": \"\"}}, \"marker\": {\"colorbar\": {\"outlinewidth\": 0, \"ticks\": \"\"}}, \"type\": \"scatter3d\"}], \"scattercarpet\": [{\"marker\": {\"colorbar\": {\"outlinewidth\": 0, \"ticks\": \"\"}}, \"type\": \"scattercarpet\"}], \"scattergeo\": [{\"marker\": {\"colorbar\": {\"outlinewidth\": 0, \"ticks\": \"\"}}, \"type\": \"scattergeo\"}], \"scattergl\": [{\"marker\": {\"colorbar\": {\"outlinewidth\": 0, \"ticks\": \"\"}}, \"type\": \"scattergl\"}], \"scattermapbox\": [{\"marker\": {\"colorbar\": {\"outlinewidth\": 0, \"ticks\": \"\"}}, \"type\": \"scattermapbox\"}], \"scatterpolar\": [{\"marker\": {\"colorbar\": {\"outlinewidth\": 0, \"ticks\": \"\"}}, \"type\": \"scatterpolar\"}], \"scatterpolargl\": [{\"marker\": {\"colorbar\": {\"outlinewidth\": 0, \"ticks\": \"\"}}, \"type\": \"scatterpolargl\"}], \"scatterternary\": [{\"marker\": {\"colorbar\": {\"outlinewidth\": 0, \"ticks\": \"\"}}, \"type\": \"scatterternary\"}], \"surface\": [{\"colorbar\": {\"outlinewidth\": 0, \"ticks\": \"\"}, \"colorscale\": [[0.0, \"#0d0887\"], [0.1111111111111111, \"#46039f\"], [0.2222222222222222, \"#7201a8\"], [0.3333333333333333, \"#9c179e\"], [0.4444444444444444, \"#bd3786\"], [0.5555555555555556, \"#d8576b\"], [0.6666666666666666, \"#ed7953\"], [0.7777777777777778, \"#fb9f3a\"], [0.8888888888888888, \"#fdca26\"], [1.0, \"#f0f921\"]], \"type\": \"surface\"}], \"table\": [{\"cells\": {\"fill\": {\"color\": \"#EBF0F8\"}, \"line\": {\"color\": \"white\"}}, \"header\": {\"fill\": {\"color\": \"#C8D4E3\"}, \"line\": {\"color\": \"white\"}}, \"type\": \"table\"}]}, \"layout\": {\"annotationdefaults\": {\"arrowcolor\": \"#2a3f5f\", \"arrowhead\": 0, \"arrowwidth\": 1}, \"autotypenumbers\": \"strict\", \"coloraxis\": {\"colorbar\": {\"outlinewidth\": 0, \"ticks\": \"\"}}, \"colorscale\": {\"diverging\": [[0, \"#8e0152\"], [0.1, \"#c51b7d\"], [0.2, \"#de77ae\"], [0.3, \"#f1b6da\"], [0.4, \"#fde0ef\"], [0.5, \"#f7f7f7\"], [0.6, \"#e6f5d0\"], [0.7, \"#b8e186\"], [0.8, \"#7fbc41\"], [0.9, \"#4d9221\"], [1, \"#276419\"]], \"sequential\": [[0.0, \"#0d0887\"], [0.1111111111111111, \"#46039f\"], [0.2222222222222222, \"#7201a8\"], [0.3333333333333333, \"#9c179e\"], [0.4444444444444444, \"#bd3786\"], [0.5555555555555556, \"#d8576b\"], [0.6666666666666666, \"#ed7953\"], [0.7777777777777778, \"#fb9f3a\"], [0.8888888888888888, \"#fdca26\"], [1.0, \"#f0f921\"]], \"sequentialminus\": [[0.0, \"#0d0887\"], [0.1111111111111111, \"#46039f\"], [0.2222222222222222, \"#7201a8\"], [0.3333333333333333, \"#9c179e\"], [0.4444444444444444, \"#bd3786\"], [0.5555555555555556, \"#d8576b\"], [0.6666666666666666, \"#ed7953\"], [0.7777777777777778, \"#fb9f3a\"], [0.8888888888888888, \"#fdca26\"], [1.0, \"#f0f921\"]]}, \"colorway\": [\"#636efa\", \"#EF553B\", \"#00cc96\", \"#ab63fa\", \"#FFA15A\", \"#19d3f3\", \"#FF6692\", \"#B6E880\", \"#FF97FF\", \"#FECB52\"], \"font\": {\"color\": \"#2a3f5f\"}, \"geo\": {\"bgcolor\": \"white\", \"lakecolor\": \"white\", \"landcolor\": \"#E5ECF6\", \"showlakes\": true, \"showland\": true, \"subunitcolor\": \"white\"}, \"hoverlabel\": {\"align\": \"left\"}, \"hovermode\": \"closest\", \"mapbox\": {\"style\": \"light\"}, \"paper_bgcolor\": \"white\", \"plot_bgcolor\": \"#E5ECF6\", \"polar\": {\"angularaxis\": {\"gridcolor\": \"white\", \"linecolor\": \"white\", \"ticks\": \"\"}, \"bgcolor\": \"#E5ECF6\", \"radialaxis\": {\"gridcolor\": \"white\", \"linecolor\": \"white\", \"ticks\": \"\"}}, \"scene\": {\"xaxis\": {\"backgroundcolor\": \"#E5ECF6\", \"gridcolor\": \"white\", \"gridwidth\": 2, \"linecolor\": \"white\", \"showbackground\": true, \"ticks\": \"\", \"zerolinecolor\": \"white\"}, \"yaxis\": {\"backgroundcolor\": \"#E5ECF6\", \"gridcolor\": \"white\", \"gridwidth\": 2, \"linecolor\": \"white\", \"showbackground\": true, \"ticks\": \"\", \"zerolinecolor\": \"white\"}, \"zaxis\": {\"backgroundcolor\": \"#E5ECF6\", \"gridcolor\": \"white\", \"gridwidth\": 2, \"linecolor\": \"white\", \"showbackground\": true, \"ticks\": \"\", \"zerolinecolor\": \"white\"}}, \"shapedefaults\": {\"line\": {\"color\": \"#2a3f5f\"}}, \"ternary\": {\"aaxis\": {\"gridcolor\": \"white\", \"linecolor\": \"white\", \"ticks\": \"\"}, \"baxis\": {\"gridcolor\": \"white\", \"linecolor\": \"white\", \"ticks\": \"\"}, \"bgcolor\": \"#E5ECF6\", \"caxis\": {\"gridcolor\": \"white\", \"linecolor\": \"white\", \"ticks\": \"\"}}, \"title\": {\"x\": 0.05}, \"xaxis\": {\"automargin\": true, \"gridcolor\": \"white\", \"linecolor\": \"white\", \"ticks\": \"\", \"title\": {\"standoff\": 15}, \"zerolinecolor\": \"white\", \"zerolinewidth\": 2}, \"yaxis\": {\"automargin\": true, \"gridcolor\": \"white\", \"linecolor\": \"white\", \"ticks\": \"\", \"title\": {\"standoff\": 15}, \"zerolinecolor\": \"white\", \"zerolinewidth\": 2}}}, \"title\": {\"text\": \"Average Performance Distribution of Price, Number of Review and Ratings\"}, \"xaxis\": {\"anchor\": \"y\", \"domain\": [0.0, 1.0], \"title\": {\"text\": \"index\"}}, \"yaxis\": {\"anchor\": \"x\", \"domain\": [0.0, 1.0], \"title\": {\"text\": \"value\"}}},                        {\"responsive\": true}                    ).then(function(){\n",
       "                            \n",
       "var gd = document.getElementById('7ab5a03f-8164-4dbd-a6a4-cacc5dfb984c');\n",
       "var x = new MutationObserver(function (mutations, observer) {{\n",
       "        var display = window.getComputedStyle(gd).display;\n",
       "        if (!display || display === 'none') {{\n",
       "            console.log([gd, 'removed!']);\n",
       "            Plotly.purge(gd);\n",
       "            observer.disconnect();\n",
       "        }}\n",
       "}});\n",
       "\n",
       "// Listen for the removal of the full notebook cells\n",
       "var notebookContainer = gd.closest('#notebook-container');\n",
       "if (notebookContainer) {{\n",
       "    x.observe(notebookContainer, {childList: true});\n",
       "}}\n",
       "\n",
       "// Listen for the clearing of the current output cell\n",
       "var outputEl = gd.closest('.output');\n",
       "if (outputEl) {{\n",
       "    x.observe(outputEl, {childList: true});\n",
       "}}\n",
       "\n",
       "                        })                };                });            </script>        </div>"
      ]
     },
     "metadata": {},
     "output_type": "display_data"
    }
   ],
   "source": [
    "a = df.groupby(by=\"Price\").mean().reset_index()\n",
    "fig =px.line(a, title = 'Average Performance Distribution of Price, Number of Review and Ratings')\n",
    "fig.show()"
   ]
  },
  {
   "cell_type": "markdown",
   "metadata": {},
   "source": [
    "## Analysis based on Book Store"
   ]
  },
  {
   "cell_type": "code",
   "execution_count": 66,
   "metadata": {
    "ExecuteTime": {
     "end_time": "2021-06-29T12:21:32.735310Z",
     "start_time": "2021-06-29T12:21:32.676676Z"
    }
   },
   "outputs": [
    {
     "name": "stdout",
     "output_type": "stream",
     "text": [
      "                   Number of Reviewers  Numeric Ratings\n",
      "Store Name                                             \n",
      "Taschenbuch                    922.000              4.9\n",
      "Gebundene Ausgabe              808.000              4.9\n",
      "Broschiert                     630.000              4.8\n",
      "Spiralbindung                   22.000              4.8\n",
      "Broschüre                        3.607              4.8\n",
      "Geschenkartikel                  3.065              4.6\n",
      "Sonstiges Zubehör                1.383              4.8\n",
      "Karten                           1.299              4.6\n"
     ]
    },
    {
     "data": {
      "application/vnd.plotly.v1+json": {
       "config": {
        "linkText": "Export to plot.ly",
        "plotlyServerURL": "https://plot.ly",
        "showLink": true
       },
       "data": [
        {
         "marker": {
          "color": "rgba(255, 153, 51, 0.6)",
          "line": {
           "color": "rgba(255, 153, 51, 1.0)",
           "width": 1
          }
         },
         "name": "Number of Reviewers",
         "orientation": "v",
         "text": "",
         "type": "bar",
         "x": [
          "Taschenbuch",
          "Gebundene Ausgabe",
          "Broschiert",
          "Spiralbindung",
          "Broschüre",
          "Geschenkartikel",
          "Sonstiges Zubehör",
          "Karten"
         ],
         "y": [
          922,
          808,
          630,
          22,
          3.607,
          3.065,
          1.383,
          1.299
         ]
        },
        {
         "marker": {
          "color": "rgba(55, 128, 191, 0.6)",
          "line": {
           "color": "rgba(55, 128, 191, 1.0)",
           "width": 1
          }
         },
         "name": "Numeric Ratings",
         "orientation": "v",
         "text": "",
         "type": "bar",
         "x": [
          "Taschenbuch",
          "Gebundene Ausgabe",
          "Broschiert",
          "Spiralbindung",
          "Broschüre",
          "Geschenkartikel",
          "Sonstiges Zubehör",
          "Karten"
         ],
         "y": [
          4.9,
          4.9,
          4.8,
          4.8,
          4.8,
          4.6,
          4.8,
          4.6
         ]
        }
       ],
       "layout": {
        "legend": {
         "bgcolor": "#F5F6F9",
         "font": {
          "color": "#4D5663"
         }
        },
        "paper_bgcolor": "#F5F6F9",
        "plot_bgcolor": "#F5F6F9",
        "template": {
         "data": {
          "bar": [
           {
            "error_x": {
             "color": "#2a3f5f"
            },
            "error_y": {
             "color": "#2a3f5f"
            },
            "marker": {
             "line": {
              "color": "#E5ECF6",
              "width": 0.5
             }
            },
            "type": "bar"
           }
          ],
          "barpolar": [
           {
            "marker": {
             "line": {
              "color": "#E5ECF6",
              "width": 0.5
             }
            },
            "type": "barpolar"
           }
          ],
          "carpet": [
           {
            "aaxis": {
             "endlinecolor": "#2a3f5f",
             "gridcolor": "white",
             "linecolor": "white",
             "minorgridcolor": "white",
             "startlinecolor": "#2a3f5f"
            },
            "baxis": {
             "endlinecolor": "#2a3f5f",
             "gridcolor": "white",
             "linecolor": "white",
             "minorgridcolor": "white",
             "startlinecolor": "#2a3f5f"
            },
            "type": "carpet"
           }
          ],
          "choropleth": [
           {
            "colorbar": {
             "outlinewidth": 0,
             "ticks": ""
            },
            "type": "choropleth"
           }
          ],
          "contour": [
           {
            "colorbar": {
             "outlinewidth": 0,
             "ticks": ""
            },
            "colorscale": [
             [
              0,
              "#0d0887"
             ],
             [
              0.1111111111111111,
              "#46039f"
             ],
             [
              0.2222222222222222,
              "#7201a8"
             ],
             [
              0.3333333333333333,
              "#9c179e"
             ],
             [
              0.4444444444444444,
              "#bd3786"
             ],
             [
              0.5555555555555556,
              "#d8576b"
             ],
             [
              0.6666666666666666,
              "#ed7953"
             ],
             [
              0.7777777777777778,
              "#fb9f3a"
             ],
             [
              0.8888888888888888,
              "#fdca26"
             ],
             [
              1,
              "#f0f921"
             ]
            ],
            "type": "contour"
           }
          ],
          "contourcarpet": [
           {
            "colorbar": {
             "outlinewidth": 0,
             "ticks": ""
            },
            "type": "contourcarpet"
           }
          ],
          "heatmap": [
           {
            "colorbar": {
             "outlinewidth": 0,
             "ticks": ""
            },
            "colorscale": [
             [
              0,
              "#0d0887"
             ],
             [
              0.1111111111111111,
              "#46039f"
             ],
             [
              0.2222222222222222,
              "#7201a8"
             ],
             [
              0.3333333333333333,
              "#9c179e"
             ],
             [
              0.4444444444444444,
              "#bd3786"
             ],
             [
              0.5555555555555556,
              "#d8576b"
             ],
             [
              0.6666666666666666,
              "#ed7953"
             ],
             [
              0.7777777777777778,
              "#fb9f3a"
             ],
             [
              0.8888888888888888,
              "#fdca26"
             ],
             [
              1,
              "#f0f921"
             ]
            ],
            "type": "heatmap"
           }
          ],
          "heatmapgl": [
           {
            "colorbar": {
             "outlinewidth": 0,
             "ticks": ""
            },
            "colorscale": [
             [
              0,
              "#0d0887"
             ],
             [
              0.1111111111111111,
              "#46039f"
             ],
             [
              0.2222222222222222,
              "#7201a8"
             ],
             [
              0.3333333333333333,
              "#9c179e"
             ],
             [
              0.4444444444444444,
              "#bd3786"
             ],
             [
              0.5555555555555556,
              "#d8576b"
             ],
             [
              0.6666666666666666,
              "#ed7953"
             ],
             [
              0.7777777777777778,
              "#fb9f3a"
             ],
             [
              0.8888888888888888,
              "#fdca26"
             ],
             [
              1,
              "#f0f921"
             ]
            ],
            "type": "heatmapgl"
           }
          ],
          "histogram": [
           {
            "marker": {
             "colorbar": {
              "outlinewidth": 0,
              "ticks": ""
             }
            },
            "type": "histogram"
           }
          ],
          "histogram2d": [
           {
            "colorbar": {
             "outlinewidth": 0,
             "ticks": ""
            },
            "colorscale": [
             [
              0,
              "#0d0887"
             ],
             [
              0.1111111111111111,
              "#46039f"
             ],
             [
              0.2222222222222222,
              "#7201a8"
             ],
             [
              0.3333333333333333,
              "#9c179e"
             ],
             [
              0.4444444444444444,
              "#bd3786"
             ],
             [
              0.5555555555555556,
              "#d8576b"
             ],
             [
              0.6666666666666666,
              "#ed7953"
             ],
             [
              0.7777777777777778,
              "#fb9f3a"
             ],
             [
              0.8888888888888888,
              "#fdca26"
             ],
             [
              1,
              "#f0f921"
             ]
            ],
            "type": "histogram2d"
           }
          ],
          "histogram2dcontour": [
           {
            "colorbar": {
             "outlinewidth": 0,
             "ticks": ""
            },
            "colorscale": [
             [
              0,
              "#0d0887"
             ],
             [
              0.1111111111111111,
              "#46039f"
             ],
             [
              0.2222222222222222,
              "#7201a8"
             ],
             [
              0.3333333333333333,
              "#9c179e"
             ],
             [
              0.4444444444444444,
              "#bd3786"
             ],
             [
              0.5555555555555556,
              "#d8576b"
             ],
             [
              0.6666666666666666,
              "#ed7953"
             ],
             [
              0.7777777777777778,
              "#fb9f3a"
             ],
             [
              0.8888888888888888,
              "#fdca26"
             ],
             [
              1,
              "#f0f921"
             ]
            ],
            "type": "histogram2dcontour"
           }
          ],
          "mesh3d": [
           {
            "colorbar": {
             "outlinewidth": 0,
             "ticks": ""
            },
            "type": "mesh3d"
           }
          ],
          "parcoords": [
           {
            "line": {
             "colorbar": {
              "outlinewidth": 0,
              "ticks": ""
             }
            },
            "type": "parcoords"
           }
          ],
          "pie": [
           {
            "automargin": true,
            "type": "pie"
           }
          ],
          "scatter": [
           {
            "marker": {
             "colorbar": {
              "outlinewidth": 0,
              "ticks": ""
             }
            },
            "type": "scatter"
           }
          ],
          "scatter3d": [
           {
            "line": {
             "colorbar": {
              "outlinewidth": 0,
              "ticks": ""
             }
            },
            "marker": {
             "colorbar": {
              "outlinewidth": 0,
              "ticks": ""
             }
            },
            "type": "scatter3d"
           }
          ],
          "scattercarpet": [
           {
            "marker": {
             "colorbar": {
              "outlinewidth": 0,
              "ticks": ""
             }
            },
            "type": "scattercarpet"
           }
          ],
          "scattergeo": [
           {
            "marker": {
             "colorbar": {
              "outlinewidth": 0,
              "ticks": ""
             }
            },
            "type": "scattergeo"
           }
          ],
          "scattergl": [
           {
            "marker": {
             "colorbar": {
              "outlinewidth": 0,
              "ticks": ""
             }
            },
            "type": "scattergl"
           }
          ],
          "scattermapbox": [
           {
            "marker": {
             "colorbar": {
              "outlinewidth": 0,
              "ticks": ""
             }
            },
            "type": "scattermapbox"
           }
          ],
          "scatterpolar": [
           {
            "marker": {
             "colorbar": {
              "outlinewidth": 0,
              "ticks": ""
             }
            },
            "type": "scatterpolar"
           }
          ],
          "scatterpolargl": [
           {
            "marker": {
             "colorbar": {
              "outlinewidth": 0,
              "ticks": ""
             }
            },
            "type": "scatterpolargl"
           }
          ],
          "scatterternary": [
           {
            "marker": {
             "colorbar": {
              "outlinewidth": 0,
              "ticks": ""
             }
            },
            "type": "scatterternary"
           }
          ],
          "surface": [
           {
            "colorbar": {
             "outlinewidth": 0,
             "ticks": ""
            },
            "colorscale": [
             [
              0,
              "#0d0887"
             ],
             [
              0.1111111111111111,
              "#46039f"
             ],
             [
              0.2222222222222222,
              "#7201a8"
             ],
             [
              0.3333333333333333,
              "#9c179e"
             ],
             [
              0.4444444444444444,
              "#bd3786"
             ],
             [
              0.5555555555555556,
              "#d8576b"
             ],
             [
              0.6666666666666666,
              "#ed7953"
             ],
             [
              0.7777777777777778,
              "#fb9f3a"
             ],
             [
              0.8888888888888888,
              "#fdca26"
             ],
             [
              1,
              "#f0f921"
             ]
            ],
            "type": "surface"
           }
          ],
          "table": [
           {
            "cells": {
             "fill": {
              "color": "#EBF0F8"
             },
             "line": {
              "color": "white"
             }
            },
            "header": {
             "fill": {
              "color": "#C8D4E3"
             },
             "line": {
              "color": "white"
             }
            },
            "type": "table"
           }
          ]
         },
         "layout": {
          "annotationdefaults": {
           "arrowcolor": "#2a3f5f",
           "arrowhead": 0,
           "arrowwidth": 1
          },
          "autotypenumbers": "strict",
          "coloraxis": {
           "colorbar": {
            "outlinewidth": 0,
            "ticks": ""
           }
          },
          "colorscale": {
           "diverging": [
            [
             0,
             "#8e0152"
            ],
            [
             0.1,
             "#c51b7d"
            ],
            [
             0.2,
             "#de77ae"
            ],
            [
             0.3,
             "#f1b6da"
            ],
            [
             0.4,
             "#fde0ef"
            ],
            [
             0.5,
             "#f7f7f7"
            ],
            [
             0.6,
             "#e6f5d0"
            ],
            [
             0.7,
             "#b8e186"
            ],
            [
             0.8,
             "#7fbc41"
            ],
            [
             0.9,
             "#4d9221"
            ],
            [
             1,
             "#276419"
            ]
           ],
           "sequential": [
            [
             0,
             "#0d0887"
            ],
            [
             0.1111111111111111,
             "#46039f"
            ],
            [
             0.2222222222222222,
             "#7201a8"
            ],
            [
             0.3333333333333333,
             "#9c179e"
            ],
            [
             0.4444444444444444,
             "#bd3786"
            ],
            [
             0.5555555555555556,
             "#d8576b"
            ],
            [
             0.6666666666666666,
             "#ed7953"
            ],
            [
             0.7777777777777778,
             "#fb9f3a"
            ],
            [
             0.8888888888888888,
             "#fdca26"
            ],
            [
             1,
             "#f0f921"
            ]
           ],
           "sequentialminus": [
            [
             0,
             "#0d0887"
            ],
            [
             0.1111111111111111,
             "#46039f"
            ],
            [
             0.2222222222222222,
             "#7201a8"
            ],
            [
             0.3333333333333333,
             "#9c179e"
            ],
            [
             0.4444444444444444,
             "#bd3786"
            ],
            [
             0.5555555555555556,
             "#d8576b"
            ],
            [
             0.6666666666666666,
             "#ed7953"
            ],
            [
             0.7777777777777778,
             "#fb9f3a"
            ],
            [
             0.8888888888888888,
             "#fdca26"
            ],
            [
             1,
             "#f0f921"
            ]
           ]
          },
          "colorway": [
           "#636efa",
           "#EF553B",
           "#00cc96",
           "#ab63fa",
           "#FFA15A",
           "#19d3f3",
           "#FF6692",
           "#B6E880",
           "#FF97FF",
           "#FECB52"
          ],
          "font": {
           "color": "#2a3f5f"
          },
          "geo": {
           "bgcolor": "white",
           "lakecolor": "white",
           "landcolor": "#E5ECF6",
           "showlakes": true,
           "showland": true,
           "subunitcolor": "white"
          },
          "hoverlabel": {
           "align": "left"
          },
          "hovermode": "closest",
          "mapbox": {
           "style": "light"
          },
          "paper_bgcolor": "white",
          "plot_bgcolor": "#E5ECF6",
          "polar": {
           "angularaxis": {
            "gridcolor": "white",
            "linecolor": "white",
            "ticks": ""
           },
           "bgcolor": "#E5ECF6",
           "radialaxis": {
            "gridcolor": "white",
            "linecolor": "white",
            "ticks": ""
           }
          },
          "scene": {
           "xaxis": {
            "backgroundcolor": "#E5ECF6",
            "gridcolor": "white",
            "gridwidth": 2,
            "linecolor": "white",
            "showbackground": true,
            "ticks": "",
            "zerolinecolor": "white"
           },
           "yaxis": {
            "backgroundcolor": "#E5ECF6",
            "gridcolor": "white",
            "gridwidth": 2,
            "linecolor": "white",
            "showbackground": true,
            "ticks": "",
            "zerolinecolor": "white"
           },
           "zaxis": {
            "backgroundcolor": "#E5ECF6",
            "gridcolor": "white",
            "gridwidth": 2,
            "linecolor": "white",
            "showbackground": true,
            "ticks": "",
            "zerolinecolor": "white"
           }
          },
          "shapedefaults": {
           "line": {
            "color": "#2a3f5f"
           }
          },
          "ternary": {
           "aaxis": {
            "gridcolor": "white",
            "linecolor": "white",
            "ticks": ""
           },
           "baxis": {
            "gridcolor": "white",
            "linecolor": "white",
            "ticks": ""
           },
           "bgcolor": "#E5ECF6",
           "caxis": {
            "gridcolor": "white",
            "linecolor": "white",
            "ticks": ""
           }
          },
          "title": {
           "x": 0.05
          },
          "xaxis": {
           "automargin": true,
           "gridcolor": "white",
           "linecolor": "white",
           "ticks": "",
           "title": {
            "standoff": 15
           },
           "zerolinecolor": "white",
           "zerolinewidth": 2
          },
          "yaxis": {
           "automargin": true,
           "gridcolor": "white",
           "linecolor": "white",
           "ticks": "",
           "title": {
            "standoff": 15
           },
           "zerolinecolor": "white",
           "zerolinewidth": 2
          }
         }
        },
        "title": {
         "font": {
          "color": "#4D5663"
         },
         "text": "Maximum Number of reviews and Ratings on Different Book Stores"
        },
        "xaxis": {
         "gridcolor": "#E1E5ED",
         "showgrid": true,
         "tickfont": {
          "color": "#4D5663"
         },
         "title": {
          "font": {
           "color": "#4D5663"
          },
          "text": ""
         },
         "zerolinecolor": "#E1E5ED"
        },
        "yaxis": {
         "gridcolor": "#E1E5ED",
         "showgrid": true,
         "tickfont": {
          "color": "#4D5663"
         },
         "title": {
          "font": {
           "color": "#4D5663"
          },
          "text": ""
         },
         "zerolinecolor": "#E1E5ED"
        }
       }
      },
      "text/html": [
       "<div>                            <div id=\"101ced1d-7987-4333-9b68-5c2a764f0645\" class=\"plotly-graph-div\" style=\"height:525px; width:100%;\"></div>            <script type=\"text/javascript\">                require([\"plotly\"], function(Plotly) {                    window.PLOTLYENV=window.PLOTLYENV || {};\n",
       "                    window.PLOTLYENV.BASE_URL='https://plot.ly';                                    if (document.getElementById(\"101ced1d-7987-4333-9b68-5c2a764f0645\")) {                    Plotly.newPlot(                        \"101ced1d-7987-4333-9b68-5c2a764f0645\",                        [{\"marker\": {\"color\": \"rgba(255, 153, 51, 0.6)\", \"line\": {\"color\": \"rgba(255, 153, 51, 1.0)\", \"width\": 1}}, \"name\": \"Number of Reviewers\", \"orientation\": \"v\", \"text\": \"\", \"type\": \"bar\", \"x\": [\"Taschenbuch\", \"Gebundene Ausgabe\", \"Broschiert\", \"Spiralbindung\", \"Brosch\\u00fcre\", \"Geschenkartikel\", \"Sonstiges Zubeh\\u00f6r\", \"Karten\"], \"y\": [922.0, 808.0, 630.0, 22.0, 3.607, 3.065, 1.383, 1.299]}, {\"marker\": {\"color\": \"rgba(55, 128, 191, 0.6)\", \"line\": {\"color\": \"rgba(55, 128, 191, 1.0)\", \"width\": 1}}, \"name\": \"Numeric Ratings\", \"orientation\": \"v\", \"text\": \"\", \"type\": \"bar\", \"x\": [\"Taschenbuch\", \"Gebundene Ausgabe\", \"Broschiert\", \"Spiralbindung\", \"Brosch\\u00fcre\", \"Geschenkartikel\", \"Sonstiges Zubeh\\u00f6r\", \"Karten\"], \"y\": [4.9, 4.9, 4.8, 4.8, 4.8, 4.6, 4.8, 4.6]}],                        {\"legend\": {\"bgcolor\": \"#F5F6F9\", \"font\": {\"color\": \"#4D5663\"}}, \"paper_bgcolor\": \"#F5F6F9\", \"plot_bgcolor\": \"#F5F6F9\", \"template\": {\"data\": {\"bar\": [{\"error_x\": {\"color\": \"#2a3f5f\"}, \"error_y\": {\"color\": \"#2a3f5f\"}, \"marker\": {\"line\": {\"color\": \"#E5ECF6\", \"width\": 0.5}}, \"type\": \"bar\"}], \"barpolar\": [{\"marker\": {\"line\": {\"color\": \"#E5ECF6\", \"width\": 0.5}}, \"type\": \"barpolar\"}], \"carpet\": [{\"aaxis\": {\"endlinecolor\": \"#2a3f5f\", \"gridcolor\": \"white\", \"linecolor\": \"white\", \"minorgridcolor\": \"white\", \"startlinecolor\": \"#2a3f5f\"}, \"baxis\": {\"endlinecolor\": \"#2a3f5f\", \"gridcolor\": \"white\", \"linecolor\": \"white\", \"minorgridcolor\": \"white\", \"startlinecolor\": \"#2a3f5f\"}, \"type\": \"carpet\"}], \"choropleth\": [{\"colorbar\": {\"outlinewidth\": 0, \"ticks\": \"\"}, \"type\": \"choropleth\"}], \"contour\": [{\"colorbar\": {\"outlinewidth\": 0, \"ticks\": \"\"}, \"colorscale\": [[0.0, \"#0d0887\"], [0.1111111111111111, \"#46039f\"], [0.2222222222222222, \"#7201a8\"], [0.3333333333333333, \"#9c179e\"], [0.4444444444444444, \"#bd3786\"], [0.5555555555555556, \"#d8576b\"], [0.6666666666666666, \"#ed7953\"], [0.7777777777777778, \"#fb9f3a\"], [0.8888888888888888, \"#fdca26\"], [1.0, \"#f0f921\"]], \"type\": \"contour\"}], \"contourcarpet\": [{\"colorbar\": {\"outlinewidth\": 0, \"ticks\": \"\"}, \"type\": \"contourcarpet\"}], \"heatmap\": [{\"colorbar\": {\"outlinewidth\": 0, \"ticks\": \"\"}, \"colorscale\": [[0.0, \"#0d0887\"], [0.1111111111111111, \"#46039f\"], [0.2222222222222222, \"#7201a8\"], [0.3333333333333333, \"#9c179e\"], [0.4444444444444444, \"#bd3786\"], [0.5555555555555556, \"#d8576b\"], [0.6666666666666666, \"#ed7953\"], [0.7777777777777778, \"#fb9f3a\"], [0.8888888888888888, \"#fdca26\"], [1.0, \"#f0f921\"]], \"type\": \"heatmap\"}], \"heatmapgl\": [{\"colorbar\": {\"outlinewidth\": 0, \"ticks\": \"\"}, \"colorscale\": [[0.0, \"#0d0887\"], [0.1111111111111111, \"#46039f\"], [0.2222222222222222, \"#7201a8\"], [0.3333333333333333, \"#9c179e\"], [0.4444444444444444, \"#bd3786\"], [0.5555555555555556, \"#d8576b\"], [0.6666666666666666, \"#ed7953\"], [0.7777777777777778, \"#fb9f3a\"], [0.8888888888888888, \"#fdca26\"], [1.0, \"#f0f921\"]], \"type\": \"heatmapgl\"}], \"histogram\": [{\"marker\": {\"colorbar\": {\"outlinewidth\": 0, \"ticks\": \"\"}}, \"type\": \"histogram\"}], \"histogram2d\": [{\"colorbar\": {\"outlinewidth\": 0, \"ticks\": \"\"}, \"colorscale\": [[0.0, \"#0d0887\"], [0.1111111111111111, \"#46039f\"], [0.2222222222222222, \"#7201a8\"], [0.3333333333333333, \"#9c179e\"], [0.4444444444444444, \"#bd3786\"], [0.5555555555555556, \"#d8576b\"], [0.6666666666666666, \"#ed7953\"], [0.7777777777777778, \"#fb9f3a\"], [0.8888888888888888, \"#fdca26\"], [1.0, \"#f0f921\"]], \"type\": \"histogram2d\"}], \"histogram2dcontour\": [{\"colorbar\": {\"outlinewidth\": 0, \"ticks\": \"\"}, \"colorscale\": [[0.0, \"#0d0887\"], [0.1111111111111111, \"#46039f\"], [0.2222222222222222, \"#7201a8\"], [0.3333333333333333, \"#9c179e\"], [0.4444444444444444, \"#bd3786\"], [0.5555555555555556, \"#d8576b\"], [0.6666666666666666, \"#ed7953\"], [0.7777777777777778, \"#fb9f3a\"], [0.8888888888888888, \"#fdca26\"], [1.0, \"#f0f921\"]], \"type\": \"histogram2dcontour\"}], \"mesh3d\": [{\"colorbar\": {\"outlinewidth\": 0, \"ticks\": \"\"}, \"type\": \"mesh3d\"}], \"parcoords\": [{\"line\": {\"colorbar\": {\"outlinewidth\": 0, \"ticks\": \"\"}}, \"type\": \"parcoords\"}], \"pie\": [{\"automargin\": true, \"type\": \"pie\"}], \"scatter\": [{\"marker\": {\"colorbar\": {\"outlinewidth\": 0, \"ticks\": \"\"}}, \"type\": \"scatter\"}], \"scatter3d\": [{\"line\": {\"colorbar\": {\"outlinewidth\": 0, \"ticks\": \"\"}}, \"marker\": {\"colorbar\": {\"outlinewidth\": 0, \"ticks\": \"\"}}, \"type\": \"scatter3d\"}], \"scattercarpet\": [{\"marker\": {\"colorbar\": {\"outlinewidth\": 0, \"ticks\": \"\"}}, \"type\": \"scattercarpet\"}], \"scattergeo\": [{\"marker\": {\"colorbar\": {\"outlinewidth\": 0, \"ticks\": \"\"}}, \"type\": \"scattergeo\"}], \"scattergl\": [{\"marker\": {\"colorbar\": {\"outlinewidth\": 0, \"ticks\": \"\"}}, \"type\": \"scattergl\"}], \"scattermapbox\": [{\"marker\": {\"colorbar\": {\"outlinewidth\": 0, \"ticks\": \"\"}}, \"type\": \"scattermapbox\"}], \"scatterpolar\": [{\"marker\": {\"colorbar\": {\"outlinewidth\": 0, \"ticks\": \"\"}}, \"type\": \"scatterpolar\"}], \"scatterpolargl\": [{\"marker\": {\"colorbar\": {\"outlinewidth\": 0, \"ticks\": \"\"}}, \"type\": \"scatterpolargl\"}], \"scatterternary\": [{\"marker\": {\"colorbar\": {\"outlinewidth\": 0, \"ticks\": \"\"}}, \"type\": \"scatterternary\"}], \"surface\": [{\"colorbar\": {\"outlinewidth\": 0, \"ticks\": \"\"}, \"colorscale\": [[0.0, \"#0d0887\"], [0.1111111111111111, \"#46039f\"], [0.2222222222222222, \"#7201a8\"], [0.3333333333333333, \"#9c179e\"], [0.4444444444444444, \"#bd3786\"], [0.5555555555555556, \"#d8576b\"], [0.6666666666666666, \"#ed7953\"], [0.7777777777777778, \"#fb9f3a\"], [0.8888888888888888, \"#fdca26\"], [1.0, \"#f0f921\"]], \"type\": \"surface\"}], \"table\": [{\"cells\": {\"fill\": {\"color\": \"#EBF0F8\"}, \"line\": {\"color\": \"white\"}}, \"header\": {\"fill\": {\"color\": \"#C8D4E3\"}, \"line\": {\"color\": \"white\"}}, \"type\": \"table\"}]}, \"layout\": {\"annotationdefaults\": {\"arrowcolor\": \"#2a3f5f\", \"arrowhead\": 0, \"arrowwidth\": 1}, \"autotypenumbers\": \"strict\", \"coloraxis\": {\"colorbar\": {\"outlinewidth\": 0, \"ticks\": \"\"}}, \"colorscale\": {\"diverging\": [[0, \"#8e0152\"], [0.1, \"#c51b7d\"], [0.2, \"#de77ae\"], [0.3, \"#f1b6da\"], [0.4, \"#fde0ef\"], [0.5, \"#f7f7f7\"], [0.6, \"#e6f5d0\"], [0.7, \"#b8e186\"], [0.8, \"#7fbc41\"], [0.9, \"#4d9221\"], [1, \"#276419\"]], \"sequential\": [[0.0, \"#0d0887\"], [0.1111111111111111, \"#46039f\"], [0.2222222222222222, \"#7201a8\"], [0.3333333333333333, \"#9c179e\"], [0.4444444444444444, \"#bd3786\"], [0.5555555555555556, \"#d8576b\"], [0.6666666666666666, \"#ed7953\"], [0.7777777777777778, \"#fb9f3a\"], [0.8888888888888888, \"#fdca26\"], [1.0, \"#f0f921\"]], \"sequentialminus\": [[0.0, \"#0d0887\"], [0.1111111111111111, \"#46039f\"], [0.2222222222222222, \"#7201a8\"], [0.3333333333333333, \"#9c179e\"], [0.4444444444444444, \"#bd3786\"], [0.5555555555555556, \"#d8576b\"], [0.6666666666666666, \"#ed7953\"], [0.7777777777777778, \"#fb9f3a\"], [0.8888888888888888, \"#fdca26\"], [1.0, \"#f0f921\"]]}, \"colorway\": [\"#636efa\", \"#EF553B\", \"#00cc96\", \"#ab63fa\", \"#FFA15A\", \"#19d3f3\", \"#FF6692\", \"#B6E880\", \"#FF97FF\", \"#FECB52\"], \"font\": {\"color\": \"#2a3f5f\"}, \"geo\": {\"bgcolor\": \"white\", \"lakecolor\": \"white\", \"landcolor\": \"#E5ECF6\", \"showlakes\": true, \"showland\": true, \"subunitcolor\": \"white\"}, \"hoverlabel\": {\"align\": \"left\"}, \"hovermode\": \"closest\", \"mapbox\": {\"style\": \"light\"}, \"paper_bgcolor\": \"white\", \"plot_bgcolor\": \"#E5ECF6\", \"polar\": {\"angularaxis\": {\"gridcolor\": \"white\", \"linecolor\": \"white\", \"ticks\": \"\"}, \"bgcolor\": \"#E5ECF6\", \"radialaxis\": {\"gridcolor\": \"white\", \"linecolor\": \"white\", \"ticks\": \"\"}}, \"scene\": {\"xaxis\": {\"backgroundcolor\": \"#E5ECF6\", \"gridcolor\": \"white\", \"gridwidth\": 2, \"linecolor\": \"white\", \"showbackground\": true, \"ticks\": \"\", \"zerolinecolor\": \"white\"}, \"yaxis\": {\"backgroundcolor\": \"#E5ECF6\", \"gridcolor\": \"white\", \"gridwidth\": 2, \"linecolor\": \"white\", \"showbackground\": true, \"ticks\": \"\", \"zerolinecolor\": \"white\"}, \"zaxis\": {\"backgroundcolor\": \"#E5ECF6\", \"gridcolor\": \"white\", \"gridwidth\": 2, \"linecolor\": \"white\", \"showbackground\": true, \"ticks\": \"\", \"zerolinecolor\": \"white\"}}, \"shapedefaults\": {\"line\": {\"color\": \"#2a3f5f\"}}, \"ternary\": {\"aaxis\": {\"gridcolor\": \"white\", \"linecolor\": \"white\", \"ticks\": \"\"}, \"baxis\": {\"gridcolor\": \"white\", \"linecolor\": \"white\", \"ticks\": \"\"}, \"bgcolor\": \"#E5ECF6\", \"caxis\": {\"gridcolor\": \"white\", \"linecolor\": \"white\", \"ticks\": \"\"}}, \"title\": {\"x\": 0.05}, \"xaxis\": {\"automargin\": true, \"gridcolor\": \"white\", \"linecolor\": \"white\", \"ticks\": \"\", \"title\": {\"standoff\": 15}, \"zerolinecolor\": \"white\", \"zerolinewidth\": 2}, \"yaxis\": {\"automargin\": true, \"gridcolor\": \"white\", \"linecolor\": \"white\", \"ticks\": \"\", \"title\": {\"standoff\": 15}, \"zerolinecolor\": \"white\", \"zerolinewidth\": 2}}}, \"title\": {\"font\": {\"color\": \"#4D5663\"}, \"text\": \"Maximum Number of reviews and Ratings on Different Book Stores\"}, \"xaxis\": {\"gridcolor\": \"#E1E5ED\", \"showgrid\": true, \"tickfont\": {\"color\": \"#4D5663\"}, \"title\": {\"font\": {\"color\": \"#4D5663\"}, \"text\": \"\"}, \"zerolinecolor\": \"#E1E5ED\"}, \"yaxis\": {\"gridcolor\": \"#E1E5ED\", \"showgrid\": true, \"tickfont\": {\"color\": \"#4D5663\"}, \"title\": {\"font\": {\"color\": \"#4D5663\"}, \"text\": \"\"}, \"zerolinecolor\": \"#E1E5ED\"}},                        {\"showLink\": true, \"linkText\": \"Export to plot.ly\", \"plotlyServerURL\": \"https://plot.ly\", \"responsive\": true}                    ).then(function(){\n",
       "                            \n",
       "var gd = document.getElementById('101ced1d-7987-4333-9b68-5c2a764f0645');\n",
       "var x = new MutationObserver(function (mutations, observer) {{\n",
       "        var display = window.getComputedStyle(gd).display;\n",
       "        if (!display || display === 'none') {{\n",
       "            console.log([gd, 'removed!']);\n",
       "            Plotly.purge(gd);\n",
       "            observer.disconnect();\n",
       "        }}\n",
       "}});\n",
       "\n",
       "// Listen for the removal of the full notebook cells\n",
       "var notebookContainer = gd.closest('#notebook-container');\n",
       "if (notebookContainer) {{\n",
       "    x.observe(notebookContainer, {childList: true});\n",
       "}}\n",
       "\n",
       "// Listen for the clearing of the current output cell\n",
       "var outputEl = gd.closest('.output');\n",
       "if (outputEl) {{\n",
       "    x.observe(outputEl, {childList: true});\n",
       "}}\n",
       "\n",
       "                        })                };                });            </script>        </div>"
      ]
     },
     "metadata": {},
     "output_type": "display_data"
    }
   ],
   "source": [
    "book_store_analysis = df.groupby(by='Store Name')[['Number of Reviewers','Numeric Ratings']].max().sort_values('Number of Reviewers',ascending=False)\n",
    "print(book_store_analysis)\n",
    "book_store_analysis.iplot(kind='bar', title = 'Maximum Number of reviews and Ratings on Different Book Stores')"
   ]
  },
  {
   "cell_type": "code",
   "execution_count": 63,
   "metadata": {
    "ExecuteTime": {
     "end_time": "2021-06-29T12:15:50.978346Z",
     "start_time": "2021-06-29T12:15:50.834164Z"
    }
   },
   "outputs": [
    {
     "name": "stdout",
     "output_type": "stream",
     "text": [
      "                   Store Name\n",
      "Store Name                   \n",
      "Broschiert                 12\n",
      "Broschüre                   2\n",
      "Gebundene Ausgabe          39\n",
      "Geschenkartikel             1\n",
      "Karten                      1\n",
      "Sonstiges Zubehör           1\n",
      "Spiralbindung               4\n",
      "Taschenbuch                40\n"
     ]
    },
    {
     "data": {
      "application/vnd.plotly.v1+json": {
       "config": {
        "plotlyServerURL": "https://plot.ly"
       },
       "data": [
        {
         "domain": {
          "x": [
           0,
           1
          ],
          "y": [
           0,
           1
          ]
         },
         "hovertemplate": "index=%{label}<br>Store Name=%{value}<extra></extra>",
         "labels": [
          "Broschiert",
          "Broschüre",
          "Gebundene Ausgabe",
          "Geschenkartikel",
          "Karten",
          "Sonstiges Zubehör",
          "Spiralbindung",
          "Taschenbuch"
         ],
         "legendgroup": "",
         "name": "",
         "showlegend": true,
         "type": "pie",
         "values": [
          12,
          2,
          39,
          1,
          1,
          1,
          4,
          40
         ]
        }
       ],
       "layout": {
        "legend": {
         "tracegroupgap": 0
        },
        "template": {
         "data": {
          "bar": [
           {
            "error_x": {
             "color": "#2a3f5f"
            },
            "error_y": {
             "color": "#2a3f5f"
            },
            "marker": {
             "line": {
              "color": "#E5ECF6",
              "width": 0.5
             }
            },
            "type": "bar"
           }
          ],
          "barpolar": [
           {
            "marker": {
             "line": {
              "color": "#E5ECF6",
              "width": 0.5
             }
            },
            "type": "barpolar"
           }
          ],
          "carpet": [
           {
            "aaxis": {
             "endlinecolor": "#2a3f5f",
             "gridcolor": "white",
             "linecolor": "white",
             "minorgridcolor": "white",
             "startlinecolor": "#2a3f5f"
            },
            "baxis": {
             "endlinecolor": "#2a3f5f",
             "gridcolor": "white",
             "linecolor": "white",
             "minorgridcolor": "white",
             "startlinecolor": "#2a3f5f"
            },
            "type": "carpet"
           }
          ],
          "choropleth": [
           {
            "colorbar": {
             "outlinewidth": 0,
             "ticks": ""
            },
            "type": "choropleth"
           }
          ],
          "contour": [
           {
            "colorbar": {
             "outlinewidth": 0,
             "ticks": ""
            },
            "colorscale": [
             [
              0,
              "#0d0887"
             ],
             [
              0.1111111111111111,
              "#46039f"
             ],
             [
              0.2222222222222222,
              "#7201a8"
             ],
             [
              0.3333333333333333,
              "#9c179e"
             ],
             [
              0.4444444444444444,
              "#bd3786"
             ],
             [
              0.5555555555555556,
              "#d8576b"
             ],
             [
              0.6666666666666666,
              "#ed7953"
             ],
             [
              0.7777777777777778,
              "#fb9f3a"
             ],
             [
              0.8888888888888888,
              "#fdca26"
             ],
             [
              1,
              "#f0f921"
             ]
            ],
            "type": "contour"
           }
          ],
          "contourcarpet": [
           {
            "colorbar": {
             "outlinewidth": 0,
             "ticks": ""
            },
            "type": "contourcarpet"
           }
          ],
          "heatmap": [
           {
            "colorbar": {
             "outlinewidth": 0,
             "ticks": ""
            },
            "colorscale": [
             [
              0,
              "#0d0887"
             ],
             [
              0.1111111111111111,
              "#46039f"
             ],
             [
              0.2222222222222222,
              "#7201a8"
             ],
             [
              0.3333333333333333,
              "#9c179e"
             ],
             [
              0.4444444444444444,
              "#bd3786"
             ],
             [
              0.5555555555555556,
              "#d8576b"
             ],
             [
              0.6666666666666666,
              "#ed7953"
             ],
             [
              0.7777777777777778,
              "#fb9f3a"
             ],
             [
              0.8888888888888888,
              "#fdca26"
             ],
             [
              1,
              "#f0f921"
             ]
            ],
            "type": "heatmap"
           }
          ],
          "heatmapgl": [
           {
            "colorbar": {
             "outlinewidth": 0,
             "ticks": ""
            },
            "colorscale": [
             [
              0,
              "#0d0887"
             ],
             [
              0.1111111111111111,
              "#46039f"
             ],
             [
              0.2222222222222222,
              "#7201a8"
             ],
             [
              0.3333333333333333,
              "#9c179e"
             ],
             [
              0.4444444444444444,
              "#bd3786"
             ],
             [
              0.5555555555555556,
              "#d8576b"
             ],
             [
              0.6666666666666666,
              "#ed7953"
             ],
             [
              0.7777777777777778,
              "#fb9f3a"
             ],
             [
              0.8888888888888888,
              "#fdca26"
             ],
             [
              1,
              "#f0f921"
             ]
            ],
            "type": "heatmapgl"
           }
          ],
          "histogram": [
           {
            "marker": {
             "colorbar": {
              "outlinewidth": 0,
              "ticks": ""
             }
            },
            "type": "histogram"
           }
          ],
          "histogram2d": [
           {
            "colorbar": {
             "outlinewidth": 0,
             "ticks": ""
            },
            "colorscale": [
             [
              0,
              "#0d0887"
             ],
             [
              0.1111111111111111,
              "#46039f"
             ],
             [
              0.2222222222222222,
              "#7201a8"
             ],
             [
              0.3333333333333333,
              "#9c179e"
             ],
             [
              0.4444444444444444,
              "#bd3786"
             ],
             [
              0.5555555555555556,
              "#d8576b"
             ],
             [
              0.6666666666666666,
              "#ed7953"
             ],
             [
              0.7777777777777778,
              "#fb9f3a"
             ],
             [
              0.8888888888888888,
              "#fdca26"
             ],
             [
              1,
              "#f0f921"
             ]
            ],
            "type": "histogram2d"
           }
          ],
          "histogram2dcontour": [
           {
            "colorbar": {
             "outlinewidth": 0,
             "ticks": ""
            },
            "colorscale": [
             [
              0,
              "#0d0887"
             ],
             [
              0.1111111111111111,
              "#46039f"
             ],
             [
              0.2222222222222222,
              "#7201a8"
             ],
             [
              0.3333333333333333,
              "#9c179e"
             ],
             [
              0.4444444444444444,
              "#bd3786"
             ],
             [
              0.5555555555555556,
              "#d8576b"
             ],
             [
              0.6666666666666666,
              "#ed7953"
             ],
             [
              0.7777777777777778,
              "#fb9f3a"
             ],
             [
              0.8888888888888888,
              "#fdca26"
             ],
             [
              1,
              "#f0f921"
             ]
            ],
            "type": "histogram2dcontour"
           }
          ],
          "mesh3d": [
           {
            "colorbar": {
             "outlinewidth": 0,
             "ticks": ""
            },
            "type": "mesh3d"
           }
          ],
          "parcoords": [
           {
            "line": {
             "colorbar": {
              "outlinewidth": 0,
              "ticks": ""
             }
            },
            "type": "parcoords"
           }
          ],
          "pie": [
           {
            "automargin": true,
            "type": "pie"
           }
          ],
          "scatter": [
           {
            "marker": {
             "colorbar": {
              "outlinewidth": 0,
              "ticks": ""
             }
            },
            "type": "scatter"
           }
          ],
          "scatter3d": [
           {
            "line": {
             "colorbar": {
              "outlinewidth": 0,
              "ticks": ""
             }
            },
            "marker": {
             "colorbar": {
              "outlinewidth": 0,
              "ticks": ""
             }
            },
            "type": "scatter3d"
           }
          ],
          "scattercarpet": [
           {
            "marker": {
             "colorbar": {
              "outlinewidth": 0,
              "ticks": ""
             }
            },
            "type": "scattercarpet"
           }
          ],
          "scattergeo": [
           {
            "marker": {
             "colorbar": {
              "outlinewidth": 0,
              "ticks": ""
             }
            },
            "type": "scattergeo"
           }
          ],
          "scattergl": [
           {
            "marker": {
             "colorbar": {
              "outlinewidth": 0,
              "ticks": ""
             }
            },
            "type": "scattergl"
           }
          ],
          "scattermapbox": [
           {
            "marker": {
             "colorbar": {
              "outlinewidth": 0,
              "ticks": ""
             }
            },
            "type": "scattermapbox"
           }
          ],
          "scatterpolar": [
           {
            "marker": {
             "colorbar": {
              "outlinewidth": 0,
              "ticks": ""
             }
            },
            "type": "scatterpolar"
           }
          ],
          "scatterpolargl": [
           {
            "marker": {
             "colorbar": {
              "outlinewidth": 0,
              "ticks": ""
             }
            },
            "type": "scatterpolargl"
           }
          ],
          "scatterternary": [
           {
            "marker": {
             "colorbar": {
              "outlinewidth": 0,
              "ticks": ""
             }
            },
            "type": "scatterternary"
           }
          ],
          "surface": [
           {
            "colorbar": {
             "outlinewidth": 0,
             "ticks": ""
            },
            "colorscale": [
             [
              0,
              "#0d0887"
             ],
             [
              0.1111111111111111,
              "#46039f"
             ],
             [
              0.2222222222222222,
              "#7201a8"
             ],
             [
              0.3333333333333333,
              "#9c179e"
             ],
             [
              0.4444444444444444,
              "#bd3786"
             ],
             [
              0.5555555555555556,
              "#d8576b"
             ],
             [
              0.6666666666666666,
              "#ed7953"
             ],
             [
              0.7777777777777778,
              "#fb9f3a"
             ],
             [
              0.8888888888888888,
              "#fdca26"
             ],
             [
              1,
              "#f0f921"
             ]
            ],
            "type": "surface"
           }
          ],
          "table": [
           {
            "cells": {
             "fill": {
              "color": "#EBF0F8"
             },
             "line": {
              "color": "white"
             }
            },
            "header": {
             "fill": {
              "color": "#C8D4E3"
             },
             "line": {
              "color": "white"
             }
            },
            "type": "table"
           }
          ]
         },
         "layout": {
          "annotationdefaults": {
           "arrowcolor": "#2a3f5f",
           "arrowhead": 0,
           "arrowwidth": 1
          },
          "autotypenumbers": "strict",
          "coloraxis": {
           "colorbar": {
            "outlinewidth": 0,
            "ticks": ""
           }
          },
          "colorscale": {
           "diverging": [
            [
             0,
             "#8e0152"
            ],
            [
             0.1,
             "#c51b7d"
            ],
            [
             0.2,
             "#de77ae"
            ],
            [
             0.3,
             "#f1b6da"
            ],
            [
             0.4,
             "#fde0ef"
            ],
            [
             0.5,
             "#f7f7f7"
            ],
            [
             0.6,
             "#e6f5d0"
            ],
            [
             0.7,
             "#b8e186"
            ],
            [
             0.8,
             "#7fbc41"
            ],
            [
             0.9,
             "#4d9221"
            ],
            [
             1,
             "#276419"
            ]
           ],
           "sequential": [
            [
             0,
             "#0d0887"
            ],
            [
             0.1111111111111111,
             "#46039f"
            ],
            [
             0.2222222222222222,
             "#7201a8"
            ],
            [
             0.3333333333333333,
             "#9c179e"
            ],
            [
             0.4444444444444444,
             "#bd3786"
            ],
            [
             0.5555555555555556,
             "#d8576b"
            ],
            [
             0.6666666666666666,
             "#ed7953"
            ],
            [
             0.7777777777777778,
             "#fb9f3a"
            ],
            [
             0.8888888888888888,
             "#fdca26"
            ],
            [
             1,
             "#f0f921"
            ]
           ],
           "sequentialminus": [
            [
             0,
             "#0d0887"
            ],
            [
             0.1111111111111111,
             "#46039f"
            ],
            [
             0.2222222222222222,
             "#7201a8"
            ],
            [
             0.3333333333333333,
             "#9c179e"
            ],
            [
             0.4444444444444444,
             "#bd3786"
            ],
            [
             0.5555555555555556,
             "#d8576b"
            ],
            [
             0.6666666666666666,
             "#ed7953"
            ],
            [
             0.7777777777777778,
             "#fb9f3a"
            ],
            [
             0.8888888888888888,
             "#fdca26"
            ],
            [
             1,
             "#f0f921"
            ]
           ]
          },
          "colorway": [
           "#636efa",
           "#EF553B",
           "#00cc96",
           "#ab63fa",
           "#FFA15A",
           "#19d3f3",
           "#FF6692",
           "#B6E880",
           "#FF97FF",
           "#FECB52"
          ],
          "font": {
           "color": "#2a3f5f"
          },
          "geo": {
           "bgcolor": "white",
           "lakecolor": "white",
           "landcolor": "#E5ECF6",
           "showlakes": true,
           "showland": true,
           "subunitcolor": "white"
          },
          "hoverlabel": {
           "align": "left"
          },
          "hovermode": "closest",
          "mapbox": {
           "style": "light"
          },
          "paper_bgcolor": "white",
          "plot_bgcolor": "#E5ECF6",
          "polar": {
           "angularaxis": {
            "gridcolor": "white",
            "linecolor": "white",
            "ticks": ""
           },
           "bgcolor": "#E5ECF6",
           "radialaxis": {
            "gridcolor": "white",
            "linecolor": "white",
            "ticks": ""
           }
          },
          "scene": {
           "xaxis": {
            "backgroundcolor": "#E5ECF6",
            "gridcolor": "white",
            "gridwidth": 2,
            "linecolor": "white",
            "showbackground": true,
            "ticks": "",
            "zerolinecolor": "white"
           },
           "yaxis": {
            "backgroundcolor": "#E5ECF6",
            "gridcolor": "white",
            "gridwidth": 2,
            "linecolor": "white",
            "showbackground": true,
            "ticks": "",
            "zerolinecolor": "white"
           },
           "zaxis": {
            "backgroundcolor": "#E5ECF6",
            "gridcolor": "white",
            "gridwidth": 2,
            "linecolor": "white",
            "showbackground": true,
            "ticks": "",
            "zerolinecolor": "white"
           }
          },
          "shapedefaults": {
           "line": {
            "color": "#2a3f5f"
           }
          },
          "ternary": {
           "aaxis": {
            "gridcolor": "white",
            "linecolor": "white",
            "ticks": ""
           },
           "baxis": {
            "gridcolor": "white",
            "linecolor": "white",
            "ticks": ""
           },
           "bgcolor": "#E5ECF6",
           "caxis": {
            "gridcolor": "white",
            "linecolor": "white",
            "ticks": ""
           }
          },
          "title": {
           "x": 0.05
          },
          "xaxis": {
           "automargin": true,
           "gridcolor": "white",
           "linecolor": "white",
           "ticks": "",
           "title": {
            "standoff": 15
           },
           "zerolinecolor": "white",
           "zerolinewidth": 2
          },
          "yaxis": {
           "automargin": true,
           "gridcolor": "white",
           "linecolor": "white",
           "ticks": "",
           "title": {
            "standoff": 15
           },
           "zerolinecolor": "white",
           "zerolinewidth": 2
          }
         }
        },
        "title": {
         "text": "Percentages of Books selling in the store"
        }
       }
      },
      "text/html": [
       "<div>                            <div id=\"a5587395-69c6-4ca4-9931-ef776ec5bb3d\" class=\"plotly-graph-div\" style=\"height:525px; width:100%;\"></div>            <script type=\"text/javascript\">                require([\"plotly\"], function(Plotly) {                    window.PLOTLYENV=window.PLOTLYENV || {};                                    if (document.getElementById(\"a5587395-69c6-4ca4-9931-ef776ec5bb3d\")) {                    Plotly.newPlot(                        \"a5587395-69c6-4ca4-9931-ef776ec5bb3d\",                        [{\"domain\": {\"x\": [0.0, 1.0], \"y\": [0.0, 1.0]}, \"hovertemplate\": \"index=%{label}<br>Store Name=%{value}<extra></extra>\", \"labels\": [\"Broschiert\", \"Brosch\\u00fcre\", \"Gebundene Ausgabe\", \"Geschenkartikel\", \"Karten\", \"Sonstiges Zubeh\\u00f6r\", \"Spiralbindung\", \"Taschenbuch\"], \"legendgroup\": \"\", \"name\": \"\", \"showlegend\": true, \"type\": \"pie\", \"values\": [12, 2, 39, 1, 1, 1, 4, 40]}],                        {\"legend\": {\"tracegroupgap\": 0}, \"template\": {\"data\": {\"bar\": [{\"error_x\": {\"color\": \"#2a3f5f\"}, \"error_y\": {\"color\": \"#2a3f5f\"}, \"marker\": {\"line\": {\"color\": \"#E5ECF6\", \"width\": 0.5}}, \"type\": \"bar\"}], \"barpolar\": [{\"marker\": {\"line\": {\"color\": \"#E5ECF6\", \"width\": 0.5}}, \"type\": \"barpolar\"}], \"carpet\": [{\"aaxis\": {\"endlinecolor\": \"#2a3f5f\", \"gridcolor\": \"white\", \"linecolor\": \"white\", \"minorgridcolor\": \"white\", \"startlinecolor\": \"#2a3f5f\"}, \"baxis\": {\"endlinecolor\": \"#2a3f5f\", \"gridcolor\": \"white\", \"linecolor\": \"white\", \"minorgridcolor\": \"white\", \"startlinecolor\": \"#2a3f5f\"}, \"type\": \"carpet\"}], \"choropleth\": [{\"colorbar\": {\"outlinewidth\": 0, \"ticks\": \"\"}, \"type\": \"choropleth\"}], \"contour\": [{\"colorbar\": {\"outlinewidth\": 0, \"ticks\": \"\"}, \"colorscale\": [[0.0, \"#0d0887\"], [0.1111111111111111, \"#46039f\"], [0.2222222222222222, \"#7201a8\"], [0.3333333333333333, \"#9c179e\"], [0.4444444444444444, \"#bd3786\"], [0.5555555555555556, \"#d8576b\"], [0.6666666666666666, \"#ed7953\"], [0.7777777777777778, \"#fb9f3a\"], [0.8888888888888888, \"#fdca26\"], [1.0, \"#f0f921\"]], \"type\": \"contour\"}], \"contourcarpet\": [{\"colorbar\": {\"outlinewidth\": 0, \"ticks\": \"\"}, \"type\": \"contourcarpet\"}], \"heatmap\": [{\"colorbar\": {\"outlinewidth\": 0, \"ticks\": \"\"}, \"colorscale\": [[0.0, \"#0d0887\"], [0.1111111111111111, \"#46039f\"], [0.2222222222222222, \"#7201a8\"], [0.3333333333333333, \"#9c179e\"], [0.4444444444444444, \"#bd3786\"], [0.5555555555555556, \"#d8576b\"], [0.6666666666666666, \"#ed7953\"], [0.7777777777777778, \"#fb9f3a\"], [0.8888888888888888, \"#fdca26\"], [1.0, \"#f0f921\"]], \"type\": \"heatmap\"}], \"heatmapgl\": [{\"colorbar\": {\"outlinewidth\": 0, \"ticks\": \"\"}, \"colorscale\": [[0.0, \"#0d0887\"], [0.1111111111111111, \"#46039f\"], [0.2222222222222222, \"#7201a8\"], [0.3333333333333333, \"#9c179e\"], [0.4444444444444444, \"#bd3786\"], [0.5555555555555556, \"#d8576b\"], [0.6666666666666666, \"#ed7953\"], [0.7777777777777778, \"#fb9f3a\"], [0.8888888888888888, \"#fdca26\"], [1.0, \"#f0f921\"]], \"type\": \"heatmapgl\"}], \"histogram\": [{\"marker\": {\"colorbar\": {\"outlinewidth\": 0, \"ticks\": \"\"}}, \"type\": \"histogram\"}], \"histogram2d\": [{\"colorbar\": {\"outlinewidth\": 0, \"ticks\": \"\"}, \"colorscale\": [[0.0, \"#0d0887\"], [0.1111111111111111, \"#46039f\"], [0.2222222222222222, \"#7201a8\"], [0.3333333333333333, \"#9c179e\"], [0.4444444444444444, \"#bd3786\"], [0.5555555555555556, \"#d8576b\"], [0.6666666666666666, \"#ed7953\"], [0.7777777777777778, \"#fb9f3a\"], [0.8888888888888888, \"#fdca26\"], [1.0, \"#f0f921\"]], \"type\": \"histogram2d\"}], \"histogram2dcontour\": [{\"colorbar\": {\"outlinewidth\": 0, \"ticks\": \"\"}, \"colorscale\": [[0.0, \"#0d0887\"], [0.1111111111111111, \"#46039f\"], [0.2222222222222222, \"#7201a8\"], [0.3333333333333333, \"#9c179e\"], [0.4444444444444444, \"#bd3786\"], [0.5555555555555556, \"#d8576b\"], [0.6666666666666666, \"#ed7953\"], [0.7777777777777778, \"#fb9f3a\"], [0.8888888888888888, \"#fdca26\"], [1.0, \"#f0f921\"]], \"type\": \"histogram2dcontour\"}], \"mesh3d\": [{\"colorbar\": {\"outlinewidth\": 0, \"ticks\": \"\"}, \"type\": \"mesh3d\"}], \"parcoords\": [{\"line\": {\"colorbar\": {\"outlinewidth\": 0, \"ticks\": \"\"}}, \"type\": \"parcoords\"}], \"pie\": [{\"automargin\": true, \"type\": \"pie\"}], \"scatter\": [{\"marker\": {\"colorbar\": {\"outlinewidth\": 0, \"ticks\": \"\"}}, \"type\": \"scatter\"}], \"scatter3d\": [{\"line\": {\"colorbar\": {\"outlinewidth\": 0, \"ticks\": \"\"}}, \"marker\": {\"colorbar\": {\"outlinewidth\": 0, \"ticks\": \"\"}}, \"type\": \"scatter3d\"}], \"scattercarpet\": [{\"marker\": {\"colorbar\": {\"outlinewidth\": 0, \"ticks\": \"\"}}, \"type\": \"scattercarpet\"}], \"scattergeo\": [{\"marker\": {\"colorbar\": {\"outlinewidth\": 0, \"ticks\": \"\"}}, \"type\": \"scattergeo\"}], \"scattergl\": [{\"marker\": {\"colorbar\": {\"outlinewidth\": 0, \"ticks\": \"\"}}, \"type\": \"scattergl\"}], \"scattermapbox\": [{\"marker\": {\"colorbar\": {\"outlinewidth\": 0, \"ticks\": \"\"}}, \"type\": \"scattermapbox\"}], \"scatterpolar\": [{\"marker\": {\"colorbar\": {\"outlinewidth\": 0, \"ticks\": \"\"}}, \"type\": \"scatterpolar\"}], \"scatterpolargl\": [{\"marker\": {\"colorbar\": {\"outlinewidth\": 0, \"ticks\": \"\"}}, \"type\": \"scatterpolargl\"}], \"scatterternary\": [{\"marker\": {\"colorbar\": {\"outlinewidth\": 0, \"ticks\": \"\"}}, \"type\": \"scatterternary\"}], \"surface\": [{\"colorbar\": {\"outlinewidth\": 0, \"ticks\": \"\"}, \"colorscale\": [[0.0, \"#0d0887\"], [0.1111111111111111, \"#46039f\"], [0.2222222222222222, \"#7201a8\"], [0.3333333333333333, \"#9c179e\"], [0.4444444444444444, \"#bd3786\"], [0.5555555555555556, \"#d8576b\"], [0.6666666666666666, \"#ed7953\"], [0.7777777777777778, \"#fb9f3a\"], [0.8888888888888888, \"#fdca26\"], [1.0, \"#f0f921\"]], \"type\": \"surface\"}], \"table\": [{\"cells\": {\"fill\": {\"color\": \"#EBF0F8\"}, \"line\": {\"color\": \"white\"}}, \"header\": {\"fill\": {\"color\": \"#C8D4E3\"}, \"line\": {\"color\": \"white\"}}, \"type\": \"table\"}]}, \"layout\": {\"annotationdefaults\": {\"arrowcolor\": \"#2a3f5f\", \"arrowhead\": 0, \"arrowwidth\": 1}, \"autotypenumbers\": \"strict\", \"coloraxis\": {\"colorbar\": {\"outlinewidth\": 0, \"ticks\": \"\"}}, \"colorscale\": {\"diverging\": [[0, \"#8e0152\"], [0.1, \"#c51b7d\"], [0.2, \"#de77ae\"], [0.3, \"#f1b6da\"], [0.4, \"#fde0ef\"], [0.5, \"#f7f7f7\"], [0.6, \"#e6f5d0\"], [0.7, \"#b8e186\"], [0.8, \"#7fbc41\"], [0.9, \"#4d9221\"], [1, \"#276419\"]], \"sequential\": [[0.0, \"#0d0887\"], [0.1111111111111111, \"#46039f\"], [0.2222222222222222, \"#7201a8\"], [0.3333333333333333, \"#9c179e\"], [0.4444444444444444, \"#bd3786\"], [0.5555555555555556, \"#d8576b\"], [0.6666666666666666, \"#ed7953\"], [0.7777777777777778, \"#fb9f3a\"], [0.8888888888888888, \"#fdca26\"], [1.0, \"#f0f921\"]], \"sequentialminus\": [[0.0, \"#0d0887\"], [0.1111111111111111, \"#46039f\"], [0.2222222222222222, \"#7201a8\"], [0.3333333333333333, \"#9c179e\"], [0.4444444444444444, \"#bd3786\"], [0.5555555555555556, \"#d8576b\"], [0.6666666666666666, \"#ed7953\"], [0.7777777777777778, \"#fb9f3a\"], [0.8888888888888888, \"#fdca26\"], [1.0, \"#f0f921\"]]}, \"colorway\": [\"#636efa\", \"#EF553B\", \"#00cc96\", \"#ab63fa\", \"#FFA15A\", \"#19d3f3\", \"#FF6692\", \"#B6E880\", \"#FF97FF\", \"#FECB52\"], \"font\": {\"color\": \"#2a3f5f\"}, \"geo\": {\"bgcolor\": \"white\", \"lakecolor\": \"white\", \"landcolor\": \"#E5ECF6\", \"showlakes\": true, \"showland\": true, \"subunitcolor\": \"white\"}, \"hoverlabel\": {\"align\": \"left\"}, \"hovermode\": \"closest\", \"mapbox\": {\"style\": \"light\"}, \"paper_bgcolor\": \"white\", \"plot_bgcolor\": \"#E5ECF6\", \"polar\": {\"angularaxis\": {\"gridcolor\": \"white\", \"linecolor\": \"white\", \"ticks\": \"\"}, \"bgcolor\": \"#E5ECF6\", \"radialaxis\": {\"gridcolor\": \"white\", \"linecolor\": \"white\", \"ticks\": \"\"}}, \"scene\": {\"xaxis\": {\"backgroundcolor\": \"#E5ECF6\", \"gridcolor\": \"white\", \"gridwidth\": 2, \"linecolor\": \"white\", \"showbackground\": true, \"ticks\": \"\", \"zerolinecolor\": \"white\"}, \"yaxis\": {\"backgroundcolor\": \"#E5ECF6\", \"gridcolor\": \"white\", \"gridwidth\": 2, \"linecolor\": \"white\", \"showbackground\": true, \"ticks\": \"\", \"zerolinecolor\": \"white\"}, \"zaxis\": {\"backgroundcolor\": \"#E5ECF6\", \"gridcolor\": \"white\", \"gridwidth\": 2, \"linecolor\": \"white\", \"showbackground\": true, \"ticks\": \"\", \"zerolinecolor\": \"white\"}}, \"shapedefaults\": {\"line\": {\"color\": \"#2a3f5f\"}}, \"ternary\": {\"aaxis\": {\"gridcolor\": \"white\", \"linecolor\": \"white\", \"ticks\": \"\"}, \"baxis\": {\"gridcolor\": \"white\", \"linecolor\": \"white\", \"ticks\": \"\"}, \"bgcolor\": \"#E5ECF6\", \"caxis\": {\"gridcolor\": \"white\", \"linecolor\": \"white\", \"ticks\": \"\"}}, \"title\": {\"x\": 0.05}, \"xaxis\": {\"automargin\": true, \"gridcolor\": \"white\", \"linecolor\": \"white\", \"ticks\": \"\", \"title\": {\"standoff\": 15}, \"zerolinecolor\": \"white\", \"zerolinewidth\": 2}, \"yaxis\": {\"automargin\": true, \"gridcolor\": \"white\", \"linecolor\": \"white\", \"ticks\": \"\", \"title\": {\"standoff\": 15}, \"zerolinecolor\": \"white\", \"zerolinewidth\": 2}}}, \"title\": {\"text\": \"Percentages of Books selling in the store\"}},                        {\"responsive\": true}                    ).then(function(){\n",
       "                            \n",
       "var gd = document.getElementById('a5587395-69c6-4ca4-9931-ef776ec5bb3d');\n",
       "var x = new MutationObserver(function (mutations, observer) {{\n",
       "        var display = window.getComputedStyle(gd).display;\n",
       "        if (!display || display === 'none') {{\n",
       "            console.log([gd, 'removed!']);\n",
       "            Plotly.purge(gd);\n",
       "            observer.disconnect();\n",
       "        }}\n",
       "}});\n",
       "\n",
       "// Listen for the removal of the full notebook cells\n",
       "var notebookContainer = gd.closest('#notebook-container');\n",
       "if (notebookContainer) {{\n",
       "    x.observe(notebookContainer, {childList: true});\n",
       "}}\n",
       "\n",
       "// Listen for the clearing of the current output cell\n",
       "var outputEl = gd.closest('.output');\n",
       "if (outputEl) {{\n",
       "    x.observe(outputEl, {childList: true});\n",
       "}}\n",
       "\n",
       "                        })                };                });            </script>        </div>"
      ]
     },
     "metadata": {},
     "output_type": "display_data"
    }
   ],
   "source": [
    "sells_based_on_store = df.groupby(by=\"Store Name\")[[\"Store Name\"]].count()\n",
    "print(sells_based_on_store)\n",
    "fig = px.pie(sells_based_on_store, values='Store Name',names=sells_based_on_store.index,title='Percentages of Books selling in the store')\n",
    "fig.show()"
   ]
  },
  {
   "cell_type": "markdown",
   "metadata": {},
   "source": [
    "# Conclution:\n",
    "\n",
    "We have fetched a Amazon bestselling Books Website to do a webscrapping and data analysis. Our main objective of this project to get most possible data and analyse it. We also try to visualize it in different ways to show various informations."
   ]
  },
  {
   "cell_type": "code",
   "execution_count": null,
   "metadata": {},
   "outputs": [],
   "source": []
  }
 ],
 "metadata": {
  "kernelspec": {
   "display_name": "Python 3",
   "language": "python",
   "name": "python3"
  },
  "language_info": {
   "codemirror_mode": {
    "name": "ipython",
    "version": 3
   },
   "file_extension": ".py",
   "mimetype": "text/x-python",
   "name": "python",
   "nbconvert_exporter": "python",
   "pygments_lexer": "ipython3",
   "version": "3.8.5"
  },
  "toc": {
   "base_numbering": 1,
   "nav_menu": {},
   "number_sections": true,
   "sideBar": true,
   "skip_h1_title": false,
   "title_cell": "Table of Contents",
   "title_sidebar": "Contents",
   "toc_cell": false,
   "toc_position": {},
   "toc_section_display": true,
   "toc_window_display": false
  },
  "varInspector": {
   "cols": {
    "lenName": 16,
    "lenType": 16,
    "lenVar": 40
   },
   "kernels_config": {
    "python": {
     "delete_cmd_postfix": "",
     "delete_cmd_prefix": "del ",
     "library": "var_list.py",
     "varRefreshCmd": "print(var_dic_list())"
    },
    "r": {
     "delete_cmd_postfix": ") ",
     "delete_cmd_prefix": "rm(",
     "library": "var_list.r",
     "varRefreshCmd": "cat(var_dic_list()) "
    }
   },
   "types_to_exclude": [
    "module",
    "function",
    "builtin_function_or_method",
    "instance",
    "_Feature"
   ],
   "window_display": false
  }
 },
 "nbformat": 4,
 "nbformat_minor": 4
}
